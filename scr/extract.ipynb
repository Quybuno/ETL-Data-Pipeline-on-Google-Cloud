{
 "cells": [
  {
   "cell_type": "code",
   "execution_count": 1,
   "id": "04a19d23",
   "metadata": {},
   "outputs": [],
   "source": [
    "import requests\n",
    "from bs4 import BeautifulSoup\n",
    "import time\n",
    "import random\n",
    "import pandas as pd\n",
    "import csv\n",
    "import os\n",
    "from tqdm import tqdm  # để hiển thị tiến trình\n",
    "from concurrent.futures import ThreadPoolExecutor, as_completed"
   ]
  },
  {
   "cell_type": "code",
   "execution_count": 2,
   "id": "f520c291",
   "metadata": {},
   "outputs": [],
   "source": [
    "base_url = 'https://mogi.vn/ha-noi/mua-nha'\n",
    "respone = requests.get(base_url)\n"
   ]
  },
  {
   "cell_type": "code",
   "execution_count": 6,
   "id": "eeb98f7c",
   "metadata": {},
   "outputs": [
    {
     "name": "stderr",
     "output_type": "stream",
     "text": [
      "Đang tải trang: 100%|██████████| 108/108 [12:32<00:00,  6.97s/it]"
     ]
    },
    {
     "name": "stdout",
     "output_type": "stream",
     "text": [
      "Đã tải 16080 liên kết từ https://mogi.vn/ha-noi/mua-nha và lưu vào mogi_links.csv\n"
     ]
    },
    {
     "name": "stderr",
     "output_type": "stream",
     "text": [
      "\n"
     ]
    }
   ],
   "source": [
    "Link_list = []\n",
    "OUTPUT_FILE = \"mogi_links.csv\"\n",
    "BATCH_SIZE = 10\n",
    "MAX_PAGE = 1080\n",
    "\n",
    "headers = {\"User-Agent\": \"Mozilla/5.0 (Windows NT 10.0; Win64; x64)\"}\n",
    "\n",
    "def fetch_links(page):\n",
    "    url = f\"{base_url}?&cp={page}\"\n",
    "    try:\n",
    "        response = requests.get(url, headers=headers, timeout=10)\n",
    "        response.raise_for_status()\n",
    "        soup = BeautifulSoup(response.content, \"html.parser\")\n",
    "        return [a.get(\"href\") for a in soup.find_all(\"a\", class_=\"link-overlay\") if a.get(\"href\")]\n",
    "    except requests.exceptions.RequestException:\n",
    "        return []\n",
    "\n",
    "write_header = not os.path.exists(OUTPUT_FILE) or os.path.getsize(OUTPUT_FILE) == 0\n",
    "with open(OUTPUT_FILE, \"a\", newline=\"\", encoding=\"utf-8\") as f:\n",
    "    writer = csv.writer(f)\n",
    "    if write_header:\n",
    "        writer.writerow([\"link\"])\n",
    "\n",
    "    for batch_start in tqdm(range(1, MAX_PAGE + 1, BATCH_SIZE), desc=\"Đang tải trang\"):\n",
    "        batch_end = min(batch_start + BATCH_SIZE - 1, MAX_PAGE)\n",
    "        with ThreadPoolExecutor(max_workers=BATCH_SIZE) as executor:\n",
    "            futures = {executor.submit(fetch_links, page): page for page in range(batch_start, batch_end + 1)}\n",
    "            for future in as_completed(futures):\n",
    "                links = future.result()\n",
    "                if links:\n",
    "                    for href in links:\n",
    "                        writer.writerow([href])\n",
    "                        Link_list.append(href)\n",
    "                    f.flush()\n",
    "        time.sleep(random.uniform(2, 5))\n",
    "\n",
    "print(f\"Đã tải {len(Link_list)} liên kết từ {base_url} và lưu vào {OUTPUT_FILE}\")\n"
   ]
  },
  {
   "cell_type": "code",
   "execution_count": 8,
   "id": "8d341b6a",
   "metadata": {},
   "outputs": [
    {
     "name": "stdout",
     "output_type": "stream",
     "text": [
      "Đã đọc 16080 link từ file mogi_links.csv.\n",
      "\n",
      "Đang xử lý batch 1/161 (100 link)...\n"
     ]
    },
    {
     "name": "stderr",
     "output_type": "stream",
     "text": [
      "  → Crawl song song: 100%|██████████| 100/100 [00:22<00:00,  4.51it/s]\n"
     ]
    },
    {
     "name": "stdout",
     "output_type": "stream",
     "text": [
      " ✅ Đã lưu batch 1/161 (100 bản ghi).\n",
      "\n",
      "Đang xử lý batch 2/161 (100 link)...\n"
     ]
    },
    {
     "name": "stderr",
     "output_type": "stream",
     "text": [
      "  → Crawl song song: 100%|██████████| 100/100 [00:25<00:00,  3.91it/s]\n"
     ]
    },
    {
     "name": "stdout",
     "output_type": "stream",
     "text": [
      " ✅ Đã lưu batch 2/161 (100 bản ghi).\n",
      "\n",
      "Đang xử lý batch 3/161 (100 link)...\n"
     ]
    },
    {
     "name": "stderr",
     "output_type": "stream",
     "text": [
      "  → Crawl song song: 100%|██████████| 100/100 [00:25<00:00,  3.99it/s]\n"
     ]
    },
    {
     "name": "stdout",
     "output_type": "stream",
     "text": [
      " ✅ Đã lưu batch 3/161 (100 bản ghi).\n",
      "\n",
      "Đang xử lý batch 4/161 (100 link)...\n"
     ]
    },
    {
     "name": "stderr",
     "output_type": "stream",
     "text": [
      "  → Crawl song song: 100%|██████████| 100/100 [00:26<00:00,  3.76it/s]\n"
     ]
    },
    {
     "name": "stdout",
     "output_type": "stream",
     "text": [
      " ✅ Đã lưu batch 4/161 (100 bản ghi).\n",
      "\n",
      "Đang xử lý batch 5/161 (100 link)...\n"
     ]
    },
    {
     "name": "stderr",
     "output_type": "stream",
     "text": [
      "  → Crawl song song: 100%|██████████| 100/100 [00:22<00:00,  4.52it/s]\n"
     ]
    },
    {
     "name": "stdout",
     "output_type": "stream",
     "text": [
      " ✅ Đã lưu batch 5/161 (100 bản ghi).\n",
      "\n",
      "Đang xử lý batch 6/161 (100 link)...\n"
     ]
    },
    {
     "name": "stderr",
     "output_type": "stream",
     "text": [
      "  → Crawl song song: 100%|██████████| 100/100 [00:25<00:00,  3.91it/s]\n"
     ]
    },
    {
     "name": "stdout",
     "output_type": "stream",
     "text": [
      " ✅ Đã lưu batch 6/161 (100 bản ghi).\n",
      "\n",
      "Đang xử lý batch 7/161 (100 link)...\n"
     ]
    },
    {
     "name": "stderr",
     "output_type": "stream",
     "text": [
      "  → Crawl song song: 100%|██████████| 100/100 [00:26<00:00,  3.75it/s]\n"
     ]
    },
    {
     "name": "stdout",
     "output_type": "stream",
     "text": [
      " ✅ Đã lưu batch 7/161 (100 bản ghi).\n",
      "\n",
      "Đang xử lý batch 8/161 (100 link)...\n"
     ]
    },
    {
     "name": "stderr",
     "output_type": "stream",
     "text": [
      "  → Crawl song song: 100%|██████████| 100/100 [00:17<00:00,  5.63it/s]\n"
     ]
    },
    {
     "name": "stdout",
     "output_type": "stream",
     "text": [
      " ✅ Đã lưu batch 8/161 (100 bản ghi).\n",
      "\n",
      "Đang xử lý batch 9/161 (100 link)...\n"
     ]
    },
    {
     "name": "stderr",
     "output_type": "stream",
     "text": [
      "  → Crawl song song: 100%|██████████| 100/100 [00:21<00:00,  4.58it/s]\n"
     ]
    },
    {
     "name": "stdout",
     "output_type": "stream",
     "text": [
      " ✅ Đã lưu batch 9/161 (100 bản ghi).\n",
      "\n",
      "Đang xử lý batch 10/161 (100 link)...\n"
     ]
    },
    {
     "name": "stderr",
     "output_type": "stream",
     "text": [
      "  → Crawl song song: 100%|██████████| 100/100 [00:24<00:00,  4.06it/s]\n"
     ]
    },
    {
     "name": "stdout",
     "output_type": "stream",
     "text": [
      " ✅ Đã lưu batch 10/161 (100 bản ghi).\n",
      "\n",
      "Đang xử lý batch 11/161 (100 link)...\n"
     ]
    },
    {
     "name": "stderr",
     "output_type": "stream",
     "text": [
      "  → Crawl song song:  30%|███       | 30/100 [00:17<02:01,  1.74s/it]"
     ]
    },
    {
     "name": "stdout",
     "output_type": "stream",
     "text": [
      "Lỗi khi xử lý https://mogi.vn/quan-cau-giay/mua-nha-mat-tien-pho/ban-nha-lk-hoang-quoc-viet-cau-giay-dt-82m2-via-he-oto-tranh-id22712065: HTTPSConnectionPool(host='mogi.vn', port=443): Max retries exceeded with url: /quan-cau-giay/mua-nha-mat-tien-pho/ban-nha-lk-hoang-quoc-viet-cau-giay-dt-82m2-via-he-oto-tranh-id22712065 (Caused by ConnectTimeoutError(<urllib3.connection.HTTPSConnection object at 0x000002691B294980>, 'Connection to mogi.vn timed out. (connect timeout=10)'))\n",
      "Lỗi khi xử lý https://mogi.vn/quan-cau-giay/mua-nha-mat-tien-pho/ban-nha-pho-nguyen-van-huyen-cau-giay-83m2-vi-tri-dep-oto-tranh-id22712064: HTTPSConnectionPool(host='mogi.vn', port=443): Max retries exceeded with url: /quan-cau-giay/mua-nha-mat-tien-pho/ban-nha-pho-nguyen-van-huyen-cau-giay-83m2-vi-tri-dep-oto-tranh-id22712064 (Caused by ConnectTimeoutError(<urllib3.connection.HTTPSConnection object at 0x000002691BCE6D80>, 'Connection to mogi.vn timed out. (connect timeout=10)'))\n"
     ]
    },
    {
     "name": "stderr",
     "output_type": "stream",
     "text": [
      "  → Crawl song song:  31%|███       | 31/100 [00:17<01:31,  1.32s/it]"
     ]
    },
    {
     "name": "stdout",
     "output_type": "stream",
     "text": [
      "Lỗi khi xử lý https://mogi.vn/quan-cau-giay/mua-nha-biet-thu-lien-ke/ban-nha-phan-lo-via-he-oto-tranh-nghia-do-cau-giay-81m2-mt-rong-id22712062: HTTPSConnectionPool(host='mogi.vn', port=443): Max retries exceeded with url: /quan-cau-giay/mua-nha-biet-thu-lien-ke/ban-nha-phan-lo-via-he-oto-tranh-nghia-do-cau-giay-81m2-mt-rong-id22712062 (Caused by ConnectTimeoutError(<urllib3.connection.HTTPSConnection object at 0x000002691A789CD0>, 'Connection to mogi.vn timed out. (connect timeout=10)'))\n"
     ]
    },
    {
     "name": "stderr",
     "output_type": "stream",
     "text": [
      "  → Crawl song song:  32%|███▏      | 32/100 [00:17<01:14,  1.10s/it]"
     ]
    },
    {
     "name": "stdout",
     "output_type": "stream",
     "text": [
      "Lỗi khi xử lý https://mogi.vn/quan-cau-giay/mua-nha-hem-ngo/ban-chdv-quan-hoa-cau-giay-131m-6t-thang-may-dong-tien-1-8-ty-nam-id22712069: HTTPSConnectionPool(host='mogi.vn', port=443): Max retries exceeded with url: /quan-cau-giay/mua-nha-hem-ngo/ban-chdv-quan-hoa-cau-giay-131m-6t-thang-may-dong-tien-1-8-ty-nam-id22712069 (Caused by ConnectTimeoutError(<urllib3.connection.HTTPSConnection object at 0x000002691BF831A0>, 'Connection to mogi.vn timed out. (connect timeout=10)'))\n",
      "Lỗi khi xử lý https://mogi.vn/quan-cau-giay/mua-nha-mat-tien-pho/ban-nha-pho-nguyen-van-huyen-cau-giay-gara-oto-7-tang-thang-may-id22712055: HTTPSConnectionPool(host='mogi.vn', port=443): Max retries exceeded with url: /quan-cau-giay/mua-nha-mat-tien-pho/ban-nha-pho-nguyen-van-huyen-cau-giay-gara-oto-7-tang-thang-may-id22712055 (Caused by ConnectTimeoutError(<urllib3.connection.HTTPSConnection object at 0x000002691A788290>, 'Connection to mogi.vn timed out. (connect timeout=10)'))\n",
      "Lỗi khi xử lý https://mogi.vn/quan-hoang-mai/mua-nha-biet-thu-lien-ke/biet-thu-linh-dam-o-to-tranh-via-he-rong-kinh-doanh-sam-uat-id22712097: HTTPSConnectionPool(host='mogi.vn', port=443): Max retries exceeded with url: /quan-hoang-mai/mua-nha-biet-thu-lien-ke/biet-thu-linh-dam-o-to-tranh-via-he-rong-kinh-doanh-sam-uat-id22712097 (Caused by ConnectTimeoutError(<urllib3.connection.HTTPSConnection object at 0x000002691BF80950>, 'Connection to mogi.vn timed out. (connect timeout=10)'))\n"
     ]
    },
    {
     "name": "stderr",
     "output_type": "stream",
     "text": [
      "  → Crawl song song:  35%|███▌      | 35/100 [00:18<00:37,  1.76it/s]"
     ]
    },
    {
     "name": "stdout",
     "output_type": "stream",
     "text": [
      "Lỗi khi xử lý https://mogi.vn/quan-nam-tu-liem/mua-nha-mat-tien-pho/sieu-pham-mat-pho-phuong-canh-toa-nha-mat-tien-be-the-via-he-rong-id22712114: HTTPSConnectionPool(host='mogi.vn', port=443): Max retries exceeded with url: /quan-nam-tu-liem/mua-nha-mat-tien-pho/sieu-pham-mat-pho-phuong-canh-toa-nha-mat-tien-be-the-via-he-rong-id22712114 (Caused by ConnectTimeoutError(<urllib3.connection.HTTPSConnection object at 0x000002691BF80D10>, 'Connection to mogi.vn timed out. (connect timeout=10)'))\n"
     ]
    },
    {
     "name": "stderr",
     "output_type": "stream",
     "text": [
      "  → Crawl song song:  36%|███▌      | 36/100 [00:18<00:32,  1.96it/s]"
     ]
    },
    {
     "name": "stdout",
     "output_type": "stream",
     "text": [
      "Lỗi khi xử lý https://mogi.vn/quan-tay-ho/mua-nha-mat-tien-pho/sieu-pham-view-ho-tay-dong-tien-khung-280tr-thang-id22712037: HTTPSConnectionPool(host='mogi.vn', port=443): Max retries exceeded with url: /quan-tay-ho/mua-nha-mat-tien-pho/sieu-pham-view-ho-tay-dong-tien-khung-280tr-thang-id22712037 (Caused by ConnectTimeoutError(<urllib3.connection.HTTPSConnection object at 0x000002691BF80650>, 'Connection to mogi.vn timed out. (connect timeout=10)'))\n"
     ]
    },
    {
     "name": "stderr",
     "output_type": "stream",
     "text": [
      "  → Crawl song song:  37%|███▋      | 37/100 [00:18<00:28,  2.22it/s]"
     ]
    },
    {
     "name": "stdout",
     "output_type": "stream",
     "text": [
      "Lỗi khi xử lý https://mogi.vn/quan-cau-giay/mua-nha-mat-tien-pho/26-2-ty-ban-nha-pham-tuan-tai-65m-x7-tang-thang-may-oto-kinh-doanh-id22712038: HTTPSConnectionPool(host='mogi.vn', port=443): Max retries exceeded with url: /quan-cau-giay/mua-nha-mat-tien-pho/26-2-ty-ban-nha-pham-tuan-tai-65m-x7-tang-thang-may-oto-kinh-doanh-id22712038 (Caused by ConnectTimeoutError(<urllib3.connection.HTTPSConnection object at 0x000002691BABDD60>, 'Connection to mogi.vn timed out. (connect timeout=10)'))Lỗi khi xử lý https://mogi.vn/quan-cau-giay/mua-nha-mat-tien-pho/ban-nha-lk-nguyen-khanh-toan-cau-giay-oto-thang-may-64m2-mt-5-2-id22712057: HTTPSConnectionPool(host='mogi.vn', port=443): Max retries exceeded with url: /quan-cau-giay/mua-nha-mat-tien-pho/ban-nha-lk-nguyen-khanh-toan-cau-giay-oto-thang-may-64m2-mt-5-2-id22712057 (Caused by ConnectTimeoutError(<urllib3.connection.HTTPSConnection object at 0x000002691BABD6D0>, 'Connection to mogi.vn timed out. (connect timeout=10)'))\n",
      "\n"
     ]
    },
    {
     "name": "stderr",
     "output_type": "stream",
     "text": [
      "  → Crawl song song: 100%|██████████| 100/100 [00:32<00:00,  3.03it/s]\n"
     ]
    },
    {
     "name": "stdout",
     "output_type": "stream",
     "text": [
      " ✅ Đã lưu batch 11/161 (90 bản ghi).\n",
      "\n",
      "Đang xử lý batch 12/161 (100 link)...\n"
     ]
    },
    {
     "name": "stderr",
     "output_type": "stream",
     "text": [
      "  → Crawl song song:  36%|███▌      | 36/100 [00:18<01:13,  1.14s/it]"
     ]
    },
    {
     "name": "stdout",
     "output_type": "stream",
     "text": [
      "Lỗi khi xử lý https://mogi.vn/huyen-thanh-tri-ha-noi/mua-nha-hem-ngo/ban-nha-4-tang-x-50m2-duong-nguyen-bac-tu-hiep-gia-8-1-ty-id22710497: HTTPSConnectionPool(host='mogi.vn', port=443): Max retries exceeded with url: /huyen-thanh-tri-ha-noi/mua-nha-hem-ngo/ban-nha-4-tang-x-50m2-duong-nguyen-bac-tu-hiep-gia-8-1-ty-id22710497 (Caused by ConnectTimeoutError(<urllib3.connection.HTTPSConnection object at 0x000002691C495DF0>, 'Connection to mogi.vn timed out. (connect timeout=10)'))\n",
      "Lỗi khi xử lý https://mogi.vn/quan-thanh-xuan/mua-nha-mat-tien-pho/mat-pho-vu-tong-phan-58m2-4-tang-mat-tien-4m-gia-19-5-ty-id22708371: HTTPSConnectionPool(host='mogi.vn', port=443): Max retries exceeded with url: /quan-thanh-xuan/mua-nha-mat-tien-pho/mat-pho-vu-tong-phan-58m2-4-tang-mat-tien-4m-gia-19-5-ty-id22708371 (Caused by ConnectTimeoutError(<urllib3.connection.HTTPSConnection object at 0x000002691C467CE0>, 'Connection to mogi.vn timed out. (connect timeout=10)'))\n",
      "Lỗi khi xử lý https://mogi.vn/quan-hoang-mai/mua-nha-hem-ngo/ban-nha-5-tang-ngoc-hoi-hoang-mai-45m2-gia-9-3-ty-id22708315: HTTPSConnectionPool(host='mogi.vn', port=443): Max retries exceeded with url: /quan-hoang-mai/mua-nha-hem-ngo/ban-nha-5-tang-ngoc-hoi-hoang-mai-45m2-gia-9-3-ty-id22708315 (Caused by ConnectTimeoutError(<urllib3.connection.HTTPSConnection object at 0x000002691B8960F0>, 'Connection to mogi.vn timed out. (connect timeout=10)'))\n"
     ]
    },
    {
     "name": "stderr",
     "output_type": "stream",
     "text": [
      "  → Crawl song song:  40%|████      | 40/100 [00:19<00:26,  2.22it/s]"
     ]
    },
    {
     "name": "stdout",
     "output_type": "stream",
     "text": [
      "Lỗi khi xử lý https://mogi.vn/huyen-thanh-tri-ha-noi/mua-nha-hem-ngo/ban-nha-5-tang-45m2-co-dien-tu-hiep-o-to-vao-nha-gia-8-2-ty-id22710350: HTTPSConnectionPool(host='mogi.vn', port=443): Max retries exceeded with url: /huyen-thanh-tri-ha-noi/mua-nha-hem-ngo/ban-nha-5-tang-45m2-co-dien-tu-hiep-o-to-vao-nha-gia-8-2-ty-id22710350 (Caused by ConnectTimeoutError(<urllib3.connection.HTTPSConnection object at 0x000002691C459130>, 'Connection to mogi.vn timed out. (connect timeout=10)'))\n",
      "Lỗi khi xử lý https://mogi.vn/quan-hoang-mai/mua-nha-hem-ngo/ban-nha-4-tang-x-47m2-ngoc-hoi-o-to-do-kinh-doanh-gia-10-5-ty-id22710707: HTTPSConnectionPool(host='mogi.vn', port=443): Max retries exceeded with url: /quan-hoang-mai/mua-nha-hem-ngo/ban-nha-4-tang-x-47m2-ngoc-hoi-o-to-do-kinh-doanh-gia-10-5-ty-id22710707 (Caused by ConnectTimeoutError(<urllib3.connection.HTTPSConnection object at 0x000002691C45B650>, 'Connection to mogi.vn timed out. (connect timeout=10)'))\n",
      "Lỗi khi xử lý https://mogi.vn/quan-hoang-mai/mua-nha-hem-ngo/ban-nha-tuu-liet-39m2-4-tang-mat-tien-4m-ngo-o-to-kinh-doanh-id22710519: HTTPSConnectionPool(host='mogi.vn', port=443): Max retries exceeded with url: /quan-hoang-mai/mua-nha-hem-ngo/ban-nha-tuu-liet-39m2-4-tang-mat-tien-4m-ngo-o-to-kinh-doanh-id22710519 (Caused by ConnectTimeoutError(<urllib3.connection.HTTPSConnection object at 0x000002691C0766C0>, 'Connection to mogi.vn timed out. (connect timeout=10)'))\n"
     ]
    },
    {
     "name": "stderr",
     "output_type": "stream",
     "text": [
      "  → Crawl song song:  43%|████▎     | 43/100 [00:19<00:17,  3.18it/s]"
     ]
    },
    {
     "name": "stdout",
     "output_type": "stream",
     "text": [
      "Lỗi khi xử lý https://mogi.vn/quan-hoang-mai/mua-nha-hem-ngo/ban-42m2-dat-ngoc-hoi-o-to-do-cua-vao-nha-gia-10-3-ty-id22711177: HTTPSConnectionPool(host='mogi.vn', port=443): Max retries exceeded with url: /quan-hoang-mai/mua-nha-hem-ngo/ban-42m2-dat-ngoc-hoi-o-to-do-cua-vao-nha-gia-10-3-ty-id22711177 (Caused by ConnectTimeoutError(<urllib3.connection.HTTPSConnection object at 0x000002691DA248F0>, 'Connection to mogi.vn timed out. (connect timeout=10)'))\n",
      "Lỗi khi xử lý https://mogi.vn/huyen-thanh-tri-ha-noi/mua-nha-hem-ngo/ban-nha-tu-hiep-4-tang-x-46m2-ngo-o-to-gia-8-4-ty-id22710565: HTTPSConnectionPool(host='mogi.vn', port=443): Max retries exceeded with url: /huyen-thanh-tri-ha-noi/mua-nha-hem-ngo/ban-nha-tu-hiep-4-tang-x-46m2-ngo-o-to-gia-8-4-ty-id22710565 (Caused by ConnectTimeoutError(<urllib3.connection.HTTPSConnection object at 0x000002691DA26510>, 'Connection to mogi.vn timed out. (connect timeout=10)'))\n"
     ]
    },
    {
     "name": "stderr",
     "output_type": "stream",
     "text": [
      "  → Crawl song song:  44%|████▍     | 44/100 [00:19<00:15,  3.61it/s]"
     ]
    },
    {
     "name": "stdout",
     "output_type": "stream",
     "text": [
      "Lỗi khi xử lý https://mogi.vn/huyen-thanh-tri-ha-noi/mua-nha-hem-ngo/ban-nha-4-tang-ngoc-hoi-66m2-mat-tien-4m-gia-8-5-ty-id22710712: HTTPSConnectionPool(host='mogi.vn', port=443): Max retries exceeded with url: /huyen-thanh-tri-ha-noi/mua-nha-hem-ngo/ban-nha-4-tang-ngoc-hoi-66m2-mat-tien-4m-gia-8-5-ty-id22710712 (Caused by ConnectTimeoutError(<urllib3.connection.HTTPSConnection object at 0x000002691DA26750>, 'Connection to mogi.vn timed out. (connect timeout=10)'))\n"
     ]
    },
    {
     "name": "stderr",
     "output_type": "stream",
     "text": [
      "  → Crawl song song: 100%|██████████| 100/100 [00:34<00:00,  2.92it/s]\n"
     ]
    },
    {
     "name": "stdout",
     "output_type": "stream",
     "text": [
      " ✅ Đã lưu batch 12/161 (91 bản ghi).\n",
      "\n",
      "Đang xử lý batch 13/161 (100 link)...\n"
     ]
    },
    {
     "name": "stderr",
     "output_type": "stream",
     "text": [
      "  → Crawl song song: 100%|██████████| 100/100 [00:18<00:00,  5.41it/s]\n"
     ]
    },
    {
     "name": "stdout",
     "output_type": "stream",
     "text": [
      " ✅ Đã lưu batch 13/161 (100 bản ghi).\n",
      "\n",
      "Đang xử lý batch 14/161 (100 link)...\n"
     ]
    },
    {
     "name": "stderr",
     "output_type": "stream",
     "text": [
      "  → Crawl song song: 100%|██████████| 100/100 [00:23<00:00,  4.19it/s]\n"
     ]
    },
    {
     "name": "stdout",
     "output_type": "stream",
     "text": [
      " ✅ Đã lưu batch 14/161 (100 bản ghi).\n",
      "\n",
      "Đang xử lý batch 15/161 (100 link)...\n"
     ]
    },
    {
     "name": "stderr",
     "output_type": "stream",
     "text": [
      "  → Crawl song song: 100%|██████████| 100/100 [00:25<00:00,  3.93it/s]\n"
     ]
    },
    {
     "name": "stdout",
     "output_type": "stream",
     "text": [
      " ✅ Đã lưu batch 15/161 (100 bản ghi).\n",
      "\n",
      "Đang xử lý batch 16/161 (100 link)...\n"
     ]
    },
    {
     "name": "stderr",
     "output_type": "stream",
     "text": [
      "  → Crawl song song: 100%|██████████| 100/100 [00:29<00:00,  3.41it/s]\n"
     ]
    },
    {
     "name": "stdout",
     "output_type": "stream",
     "text": [
      " ✅ Đã lưu batch 16/161 (100 bản ghi).\n",
      "\n",
      "Đang xử lý batch 17/161 (100 link)...\n"
     ]
    },
    {
     "name": "stderr",
     "output_type": "stream",
     "text": [
      "  → Crawl song song: 100%|██████████| 100/100 [00:29<00:00,  3.45it/s]\n"
     ]
    },
    {
     "name": "stdout",
     "output_type": "stream",
     "text": [
      " ✅ Đã lưu batch 17/161 (100 bản ghi).\n",
      "\n",
      "Đang xử lý batch 18/161 (100 link)...\n"
     ]
    },
    {
     "name": "stderr",
     "output_type": "stream",
     "text": [
      "  → Crawl song song: 100%|██████████| 100/100 [00:31<00:00,  3.18it/s]\n"
     ]
    },
    {
     "name": "stdout",
     "output_type": "stream",
     "text": [
      " ✅ Đã lưu batch 18/161 (100 bản ghi).\n",
      "\n",
      "Đang xử lý batch 19/161 (100 link)...\n"
     ]
    },
    {
     "name": "stderr",
     "output_type": "stream",
     "text": [
      "  → Crawl song song: 100%|██████████| 100/100 [00:29<00:00,  3.39it/s]\n"
     ]
    },
    {
     "name": "stdout",
     "output_type": "stream",
     "text": [
      " ✅ Đã lưu batch 19/161 (100 bản ghi).\n",
      "\n",
      "Đang xử lý batch 20/161 (100 link)...\n"
     ]
    },
    {
     "name": "stderr",
     "output_type": "stream",
     "text": [
      "  → Crawl song song: 100%|██████████| 100/100 [00:32<00:00,  3.10it/s]\n"
     ]
    },
    {
     "name": "stdout",
     "output_type": "stream",
     "text": [
      " ✅ Đã lưu batch 20/161 (100 bản ghi).\n",
      "\n",
      "Đang xử lý batch 21/161 (100 link)...\n"
     ]
    },
    {
     "name": "stderr",
     "output_type": "stream",
     "text": [
      "  → Crawl song song: 100%|██████████| 100/100 [00:32<00:00,  3.08it/s]\n"
     ]
    },
    {
     "name": "stdout",
     "output_type": "stream",
     "text": [
      " ✅ Đã lưu batch 21/161 (100 bản ghi).\n",
      "\n",
      "Đang xử lý batch 22/161 (100 link)...\n"
     ]
    },
    {
     "name": "stderr",
     "output_type": "stream",
     "text": [
      "  → Crawl song song: 100%|██████████| 100/100 [00:38<00:00,  2.60it/s]\n"
     ]
    },
    {
     "name": "stdout",
     "output_type": "stream",
     "text": [
      " ✅ Đã lưu batch 22/161 (100 bản ghi).\n",
      "\n",
      "Đang xử lý batch 23/161 (100 link)...\n"
     ]
    },
    {
     "name": "stderr",
     "output_type": "stream",
     "text": [
      "  → Crawl song song: 100%|██████████| 100/100 [00:20<00:00,  4.92it/s]\n"
     ]
    },
    {
     "name": "stdout",
     "output_type": "stream",
     "text": [
      " ✅ Đã lưu batch 23/161 (100 bản ghi).\n",
      "\n",
      "Đang xử lý batch 24/161 (100 link)...\n"
     ]
    },
    {
     "name": "stderr",
     "output_type": "stream",
     "text": [
      "  → Crawl song song: 100%|██████████| 100/100 [00:18<00:00,  5.30it/s]\n"
     ]
    },
    {
     "name": "stdout",
     "output_type": "stream",
     "text": [
      " ✅ Đã lưu batch 24/161 (100 bản ghi).\n",
      "\n",
      "Đang xử lý batch 25/161 (100 link)...\n"
     ]
    },
    {
     "name": "stderr",
     "output_type": "stream",
     "text": [
      "  → Crawl song song:   3%|▎         | 3/100 [00:10<04:30,  2.79s/it]"
     ]
    },
    {
     "name": "stdout",
     "output_type": "stream",
     "text": [
      "Lỗi khi xử lý https://mogi.vn/quan-hai-ba-trung/mua-duong-noi-bo/nha-dep-gia-mem-phap-ly-ro-rang-id22681979: HTTPSConnectionPool(host='mogi.vn', port=443): Max retries exceeded with url: /quan-hai-ba-trung/mua-duong-noi-bo/nha-dep-gia-mem-phap-ly-ro-rang-id22681979 (Caused by ConnectTimeoutError(<urllib3.connection.HTTPSConnection object at 0x000002691C50C2F0>, 'Connection to mogi.vn timed out. (connect timeout=10)'))\n",
      "Lỗi khi xử lý https://mogi.vn/quan-thanh-xuan/mua-nha-mat-tien-pho/ban-nha-trung-tam-quan-thanh-xuan-ngo-oto-thang-may-5-tang-id22691242: HTTPSConnectionPool(host='mogi.vn', port=443): Max retries exceeded with url: /quan-thanh-xuan/mua-nha-mat-tien-pho/ban-nha-trung-tam-quan-thanh-xuan-ngo-oto-thang-may-5-tang-id22691242 (Caused by ConnectTimeoutError(<urllib3.connection.HTTPSConnection object at 0x000002691C50C110>, 'Connection to mogi.vn timed out. (connect timeout=10)'))\n",
      "Lỗi khi xử lý https://mogi.vn/quan-hoang-mai/mua-duong-noi-bo/vinh-hung-nha-dep-dien-tich-35m-5-ngu-id22680966: HTTPSConnectionPool(host='mogi.vn', port=443): Max retries exceeded with url: /quan-hoang-mai/mua-duong-noi-bo/vinh-hung-nha-dep-dien-tich-35m-5-ngu-id22680966 (Caused by ConnectTimeoutError(<urllib3.connection.HTTPSConnection object at 0x000002691D84B110>, 'Connection to mogi.vn timed out. (connect timeout=10)'))\n",
      "Lỗi khi xử lý https://mogi.vn/quan-hoang-mai/mua-duong-noi-bo/vinh-hung-vi-tri-dep-ngo-thong-canh-truong-dai-hoc-id22681561: HTTPSConnectionPool(host='mogi.vn', port=443): Max retries exceeded with url: /quan-hoang-mai/mua-duong-noi-bo/vinh-hung-vi-tri-dep-ngo-thong-canh-truong-dai-hoc-id22681561 (Caused by ConnectTimeoutError(<urllib3.connection.HTTPSConnection object at 0x000002691D84A8D0>, 'Connection to mogi.vn timed out. (connect timeout=10)'))\n",
      "Lỗi khi xử lý https://mogi.vn/quan-hoang-mai/mua-duong-noi-bo/pho-minh-khai-48m-xay-dung-moi-full-noi-that-id22680968: HTTPSConnectionPool(host='mogi.vn', port=443): Max retries exceeded with url: /quan-hoang-mai/mua-duong-noi-bo/pho-minh-khai-48m-xay-dung-moi-full-noi-that-id22680968 (Caused by ConnectTimeoutError(<urllib3.connection.HTTPSConnection object at 0x000002691D84B200>, 'Connection to mogi.vn timed out. (connect timeout=10)'))\n"
     ]
    },
    {
     "name": "stderr",
     "output_type": "stream",
     "text": [
      "  → Crawl song song:   6%|▌         | 6/100 [00:11<01:51,  1.18s/it]"
     ]
    },
    {
     "name": "stdout",
     "output_type": "stream",
     "text": [
      "Lỗi khi xử lý https://mogi.vn/quan-hoang-mai/mua-duong-noi-bo/nha-dep-gan-oto-full-noi-that-pho-vinh-hung-id22684030: HTTPSConnectionPool(host='mogi.vn', port=443): Max retries exceeded with url: /quan-hoang-mai/mua-duong-noi-bo/nha-dep-gan-oto-full-noi-that-pho-vinh-hung-id22684030 (Caused by ConnectTimeoutError(<urllib3.connection.HTTPSConnection object at 0x000002691D84B170>, 'Connection to mogi.vn timed out. (connect timeout=10)'))\n",
      "Lỗi khi xử lý https://mogi.vn/quan-cau-giay/mua-nha-hem-ngo/sieu-pham-trung-hoa-cau-giay-68m2-gan-big-c-o-to-vao-nha-muc-id22691124: HTTPSConnectionPool(host='mogi.vn', port=443): Max retries exceeded with url: /quan-cau-giay/mua-nha-hem-ngo/sieu-pham-trung-hoa-cau-giay-68m2-gan-big-c-o-to-vao-nha-muc-id22691124 (Caused by ConnectTimeoutError(<urllib3.connection.HTTPSConnection object at 0x000002691D84AAE0>, 'Connection to mogi.vn timed out. (connect timeout=10)'))\n",
      "Lỗi khi xử lý https://mogi.vn/quan-cau-giay/mua-nha-hem-ngo/nha-moi-koong-so-hoa-hau-full-noi-that-cao-cap-yen-hoa-cau-id22691056: HTTPSConnectionPool(host='mogi.vn', port=443): Max retries exceeded with url: /quan-cau-giay/mua-nha-hem-ngo/nha-moi-koong-so-hoa-hau-full-noi-that-cao-cap-yen-hoa-cau-id22691056 (Caused by ConnectTimeoutError(<urllib3.connection.HTTPSConnection object at 0x000002691D8497F0>, 'Connection to mogi.vn timed out. (connect timeout=10)'))\n"
     ]
    },
    {
     "name": "stderr",
     "output_type": "stream",
     "text": [
      "  → Crawl song song:   9%|▉         | 9/100 [00:11<01:00,  1.49it/s]"
     ]
    },
    {
     "name": "stdout",
     "output_type": "stream",
     "text": [
      "Lỗi khi xử lý https://mogi.vn/quan-hai-ba-trung/mua-duong-noi-bo/nha-dep-pho-bach-mai-hai-ba-trung-id22685423: HTTPSConnectionPool(host='mogi.vn', port=443): Max retries exceeded with url: /quan-hai-ba-trung/mua-duong-noi-bo/nha-dep-pho-bach-mai-hai-ba-trung-id22685423 (Caused by ConnectTimeoutError(<urllib3.connection.HTTPSConnection object at 0x000002691B6ED040>, 'Connection to mogi.vn timed out. (connect timeout=10)'))\n",
      "Lỗi khi xử lý https://mogi.vn/quan-hoang-mai/mua-duong-noi-bo/ban-nha-pho-minh-khai-vi-tri-dep-kinh-doanh-ngay-dem-id22687636: HTTPSConnectionPool(host='mogi.vn', port=443): Max retries exceeded with url: /quan-hoang-mai/mua-duong-noi-bo/ban-nha-pho-minh-khai-vi-tri-dep-kinh-doanh-ngay-dem-id22687636 (Caused by ConnectTimeoutError(<urllib3.connection.HTTPSConnection object at 0x000002691B6ED130>, 'Connection to mogi.vn timed out. (connect timeout=10)'))\n"
     ]
    },
    {
     "name": "stderr",
     "output_type": "stream",
     "text": [
      "  → Crawl song song:  12%|█▏        | 12/100 [00:21<03:04,  2.10s/it]"
     ]
    },
    {
     "name": "stdout",
     "output_type": "stream",
     "text": [
      "Lỗi khi xử lý https://mogi.vn/quan-hai-ba-trung/mua-duong-noi-bo/nha-dep-o-luon-so-do-chinh-chu-id22682956: HTTPSConnectionPool(host='mogi.vn', port=443): Max retries exceeded with url: /quan-hai-ba-trung/mua-duong-noi-bo/nha-dep-o-luon-so-do-chinh-chu-id22682956 (Caused by ConnectTimeoutError(<urllib3.connection.HTTPSConnection object at 0x000002691C50F4D0>, 'Connection to mogi.vn timed out. (connect timeout=10)'))\n"
     ]
    },
    {
     "name": "stderr",
     "output_type": "stream",
     "text": [
      "  → Crawl song song:  14%|█▍        | 14/100 [00:21<02:00,  1.41s/it]"
     ]
    },
    {
     "name": "stdout",
     "output_type": "stream",
     "text": [
      "Lỗi khi xử lý https://mogi.vn/quan-hoang-mai/mua-duong-noi-bo/nha-dep-o-luon-mat-tien-ly-tuong-gan-pho-id22682200: HTTPSConnectionPool(host='mogi.vn', port=443): Max retries exceeded with url: /quan-hoang-mai/mua-duong-noi-bo/nha-dep-o-luon-mat-tien-ly-tuong-gan-pho-id22682200 (Caused by ConnectTimeoutError(<urllib3.connection.HTTPSConnection object at 0x000002691B6EEDB0>, 'Connection to mogi.vn timed out. (connect timeout=10)'))\n",
      "Lỗi khi xử lý https://mogi.vn/quan-cau-giay/mua-duong-noi-bo/nguyen-thi-dinh-5-tang-thang-may-via-he-o-to-tranh-kinh-doanh-id21751987: HTTPSConnectionPool(host='mogi.vn', port=443): Max retries exceeded with url: /quan-cau-giay/mua-duong-noi-bo/nguyen-thi-dinh-5-tang-thang-may-via-he-o-to-tranh-kinh-doanh-id21751987 (Caused by ConnectTimeoutError(<urllib3.connection.HTTPSConnection object at 0x000002691B6ECE90>, 'Connection to mogi.vn timed out. (connect timeout=10)'))\n"
     ]
    },
    {
     "name": "stderr",
     "output_type": "stream",
     "text": [
      "  → Crawl song song:  15%|█▌        | 15/100 [00:21<01:32,  1.09s/it]"
     ]
    },
    {
     "name": "stdout",
     "output_type": "stream",
     "text": [
      "Lỗi khi xử lý https://mogi.vn/quan-cau-giay/mua-nha-hem-ngo/toa-chdv-dong-tien-ngo-68-cau-giay-65m2-7t-thang-may-18p-80tr-thang-id22535857: HTTPSConnectionPool(host='mogi.vn', port=443): Max retries exceeded with url: /quan-cau-giay/mua-nha-hem-ngo/toa-chdv-dong-tien-ngo-68-cau-giay-65m2-7t-thang-may-18p-80tr-thang-id22535857 (Caused by ConnectTimeoutError(<urllib3.connection.HTTPSConnection object at 0x000002691B6EF590>, 'Connection to mogi.vn timed out. (connect timeout=10)'))\n"
     ]
    },
    {
     "name": "stderr",
     "output_type": "stream",
     "text": [
      "  → Crawl song song:  16%|█▌        | 16/100 [00:22<01:12,  1.16it/s]"
     ]
    },
    {
     "name": "stdout",
     "output_type": "stream",
     "text": [
      "Lỗi khi xử lý https://mogi.vn/quan-hoang-mai/mua-duong-noi-bo/pho-tam-trinh-dien-tich-33m-chao-4-5-ty-id22681209: HTTPSConnectionPool(host='mogi.vn', port=443): Max retries exceeded with url: /quan-hoang-mai/mua-duong-noi-bo/pho-tam-trinh-dien-tich-33m-chao-4-5-ty-id22681209 (Caused by ConnectTimeoutError(<urllib3.connection.HTTPSConnection object at 0x000002691BD935F0>, 'Connection to mogi.vn timed out. (connect timeout=10)'))\n",
      "Lỗi khi xử lý https://mogi.vn/quan-hoang-mai/mua-duong-noi-bo/chinh-chu-can-ban-nha-pho-vinh-hung-id22683824: HTTPSConnectionPool(host='mogi.vn', port=443): Max retries exceeded with url: /quan-hoang-mai/mua-duong-noi-bo/chinh-chu-can-ban-nha-pho-vinh-hung-id22683824 (Caused by ConnectTimeoutError(<urllib3.connection.HTTPSConnection object at 0x000002691BD93290>, 'Connection to mogi.vn timed out. (connect timeout=10)'))\n",
      "Lỗi khi xử lý https://mogi.vn/quan-ba-dinh/mua-nha-hem-ngo/toa-ccmn-pho-doi-can-93m2-8t-mt-6m-26ph-190tr-thang-id22549492: HTTPSConnectionPool(host='mogi.vn', port=443): Max retries exceeded with url: /quan-ba-dinh/mua-nha-hem-ngo/toa-ccmn-pho-doi-can-93m2-8t-mt-6m-26ph-190tr-thang-id22549492 (Caused by ConnectTimeoutError(<urllib3.connection.HTTPSConnection object at 0x000002691BD90200>, 'Connection to mogi.vn timed out. (connect timeout=10)'))\n",
      "Lỗi khi xử lý https://mogi.vn/quan-ba-dinh/mua-nha-hem-ngo/chdv-sieu-vip-pho-vinh-phuc-ba-dinh-34-phong-120tr-thang-id22664576: HTTPSConnectionPool(host='mogi.vn', port=443): Max retries exceeded with url: /quan-ba-dinh/mua-nha-hem-ngo/chdv-sieu-vip-pho-vinh-phuc-ba-dinh-34-phong-120tr-thang-id22664576 (Caused by ConnectTimeoutError(<urllib3.connection.HTTPSConnection object at 0x000002691BD91B20>, 'Connection to mogi.vn timed out. (connect timeout=10)'))\n"
     ]
    },
    {
     "name": "stderr",
     "output_type": "stream",
     "text": [
      "  → Crawl song song:  20%|██        | 20/100 [00:22<00:33,  2.36it/s]"
     ]
    },
    {
     "name": "stdout",
     "output_type": "stream",
     "text": [
      "Lỗi khi xử lý https://mogi.vn/quan-tay-ho/mua-nha-biet-thu-lien-ke/biet-thu-vip-khu-vuon-dao-lac-long-quan-tay-ho-khu-vuc-song-dang-cap-id22407799: HTTPSConnectionPool(host='mogi.vn', port=443): Max retries exceeded with url: /quan-tay-ho/mua-nha-biet-thu-lien-ke/biet-thu-vip-khu-vuon-dao-lac-long-quan-tay-ho-khu-vuc-song-dang-cap-id22407799 (Caused by ConnectTimeoutError(<urllib3.connection.HTTPSConnection object at 0x000002691BD93740>, 'Connection to mogi.vn timed out. (connect timeout=10)'))\n"
     ]
    },
    {
     "name": "stderr",
     "output_type": "stream",
     "text": [
      "  → Crawl song song:  21%|██        | 21/100 [00:23<00:36,  2.16it/s]"
     ]
    },
    {
     "name": "stdout",
     "output_type": "stream",
     "text": [
      "Lỗi khi xử lý https://mogi.vn/quan-thanh-xuan/mua-nha-mat-tien-pho/ban-nha-mat-pho-vuong-thua-vu-6-tang-mat-tien-9m-kinh-doanh-khung-id21921052: HTTPSConnectionPool(host='mogi.vn', port=443): Max retries exceeded with url: /quan-thanh-xuan/mua-nha-mat-tien-pho/ban-nha-mat-pho-vuong-thua-vu-6-tang-mat-tien-9m-kinh-doanh-khung-id21921052 (Caused by ConnectTimeoutError(<urllib3.connection.HTTPSConnection object at 0x000002691BD92360>, 'Connection to mogi.vn timed out. (connect timeout=10)'))\n"
     ]
    },
    {
     "name": "stderr",
     "output_type": "stream",
     "text": [
      "  → Crawl song song:  45%|████▌     | 45/100 [00:32<00:15,  3.47it/s]"
     ]
    },
    {
     "name": "stdout",
     "output_type": "stream",
     "text": [
      "Lỗi khi xử lý https://mogi.vn/quan-tay-ho/mua-nha-biet-thu-lien-ke/biet-thu-sieu-vip-d5-vuon-dao-dang-cap-thuong-luu-id22408518: HTTPSConnectionPool(host='mogi.vn', port=443): Max retries exceeded with url: /quan-tay-ho/mua-nha-biet-thu-lien-ke/biet-thu-sieu-vip-d5-vuon-dao-dang-cap-thuong-luu-id22408518 (Caused by ConnectTimeoutError(<urllib3.connection.HTTPSConnection object at 0x000002691C1C99A0>, 'Connection to mogi.vn timed out. (connect timeout=10)'))\n",
      "Lỗi khi xử lý https://mogi.vn/quan-cau-giay/mua-nha-mat-tien-pho/mat-pho-vip-tran-duy-hung-via-he-kinh-doanh-dinh-id22407808: HTTPSConnectionPool(host='mogi.vn', port=443): Max retries exceeded with url: /quan-cau-giay/mua-nha-mat-tien-pho/mat-pho-vip-tran-duy-hung-via-he-kinh-doanh-dinh-id22407808 (Caused by ConnectTimeoutError(<urllib3.connection.HTTPSConnection object at 0x000002691B6EEF90>, 'Connection to mogi.vn timed out. (connect timeout=10)'))\n"
     ]
    },
    {
     "name": "stderr",
     "output_type": "stream",
     "text": [
      "  → Crawl song song:  47%|████▋     | 47/100 [00:33<00:12,  4.16it/s]"
     ]
    },
    {
     "name": "stdout",
     "output_type": "stream",
     "text": [
      "Lỗi khi xử lý https://mogi.vn/quan-tay-ho/mua-nha-hem-ngo/50m-ra-o-to-nha-dep-thuy-khue-tay-ho-35m2-5-tang-gia-chi-8-5-ty-id22688240: HTTPSConnectionPool(host='mogi.vn', port=443): Max retries exceeded with url: /quan-tay-ho/mua-nha-hem-ngo/50m-ra-o-to-nha-dep-thuy-khue-tay-ho-35m2-5-tang-gia-chi-8-5-ty-id22688240 (Caused by ConnectTimeoutError(<urllib3.connection.HTTPSConnection object at 0x000002691B6ECCB0>, 'Connection to mogi.vn timed out. (connect timeout=10)'))\n",
      "Lỗi khi xử lý https://mogi.vn/quan-cau-giay/mua-duong-noi-bo/vu-pham-ham-kdt-trung-yen-phan-lo-o-to-kinh-doanh-id22407887: HTTPSConnectionPool(host='mogi.vn', port=443): Max retries exceeded with url: /quan-cau-giay/mua-duong-noi-bo/vu-pham-ham-kdt-trung-yen-phan-lo-o-to-kinh-doanh-id22407887 (Caused by ConnectTimeoutError(<urllib3.connection.HTTPSConnection object at 0x000002691C583020>, 'Connection to mogi.vn timed out. (connect timeout=10)'))\n"
     ]
    },
    {
     "name": "stderr",
     "output_type": "stream",
     "text": [
      "  → Crawl song song:  49%|████▉     | 49/100 [00:33<00:09,  5.39it/s]"
     ]
    },
    {
     "name": "stdout",
     "output_type": "stream",
     "text": [
      "Lỗi khi xử lý https://mogi.vn/quan-hai-ba-trung/mua-nha-mat-tien-pho/ban-toa-nha-van-phong-mat-pho-hoa-ma-187mx9-tang-mt-7m-id22029515: HTTPSConnectionPool(host='mogi.vn', port=443): Max retries exceeded with url: /quan-hai-ba-trung/mua-nha-mat-tien-pho/ban-toa-nha-van-phong-mat-pho-hoa-ma-187mx9-tang-mt-7m-id22029515 (Caused by ConnectTimeoutError(<urllib3.connection.HTTPSConnection object at 0x000002691C50FD40>, 'Connection to mogi.vn timed out. (connect timeout=10)'))\n",
      "Lỗi khi xử lý https://mogi.vn/quan-cau-giay/mua-nha-mat-tien-pho/ban-toa-nha-mat-pho-vu-pham-ham-109m2-7t-mt-7m-via-he-rong-kd-dinh-id22092423: HTTPSConnectionPool(host='mogi.vn', port=443): Max retries exceeded with url: /quan-cau-giay/mua-nha-mat-tien-pho/ban-toa-nha-mat-pho-vu-pham-ham-109m2-7t-mt-7m-via-he-rong-kd-dinh-id22092423 (Caused by ConnectTimeoutError(<urllib3.connection.HTTPSConnection object at 0x000002691C50FAA0>, 'Connection to mogi.vn timed out. (connect timeout=10)'))\n"
     ]
    },
    {
     "name": "stderr",
     "output_type": "stream",
     "text": [
      "  → Crawl song song: 100%|██████████| 100/100 [00:42<00:00,  2.35it/s]\n"
     ]
    },
    {
     "name": "stdout",
     "output_type": "stream",
     "text": [
      " ✅ Đã lưu batch 25/161 (74 bản ghi).\n",
      "\n",
      "Đang xử lý batch 26/161 (100 link)...\n"
     ]
    },
    {
     "name": "stderr",
     "output_type": "stream",
     "text": [
      "  → Crawl song song: 100%|██████████| 100/100 [00:18<00:00,  5.40it/s]\n"
     ]
    },
    {
     "name": "stdout",
     "output_type": "stream",
     "text": [
      " ✅ Đã lưu batch 26/161 (100 bản ghi).\n",
      "\n",
      "Đang xử lý batch 27/161 (100 link)...\n"
     ]
    },
    {
     "name": "stderr",
     "output_type": "stream",
     "text": [
      "  → Crawl song song: 100%|██████████| 100/100 [00:19<00:00,  5.23it/s]\n"
     ]
    },
    {
     "name": "stdout",
     "output_type": "stream",
     "text": [
      " ✅ Đã lưu batch 27/161 (100 bản ghi).\n",
      "\n",
      "Đang xử lý batch 28/161 (100 link)...\n"
     ]
    },
    {
     "name": "stderr",
     "output_type": "stream",
     "text": [
      "  → Crawl song song: 100%|██████████| 100/100 [00:19<00:00,  5.23it/s]\n"
     ]
    },
    {
     "name": "stdout",
     "output_type": "stream",
     "text": [
      " ✅ Đã lưu batch 28/161 (100 bản ghi).\n",
      "\n",
      "Đang xử lý batch 29/161 (100 link)...\n"
     ]
    },
    {
     "name": "stderr",
     "output_type": "stream",
     "text": [
      "  → Crawl song song: 100%|██████████| 100/100 [00:18<00:00,  5.46it/s]\n"
     ]
    },
    {
     "name": "stdout",
     "output_type": "stream",
     "text": [
      " ✅ Đã lưu batch 29/161 (100 bản ghi).\n",
      "\n",
      "Đang xử lý batch 30/161 (100 link)...\n"
     ]
    },
    {
     "name": "stderr",
     "output_type": "stream",
     "text": [
      "  → Crawl song song: 100%|██████████| 100/100 [00:18<00:00,  5.35it/s]\n"
     ]
    },
    {
     "name": "stdout",
     "output_type": "stream",
     "text": [
      " ✅ Đã lưu batch 30/161 (100 bản ghi).\n",
      "\n",
      "Đang xử lý batch 31/161 (100 link)...\n"
     ]
    },
    {
     "name": "stderr",
     "output_type": "stream",
     "text": [
      "  → Crawl song song: 100%|██████████| 100/100 [00:17<00:00,  5.63it/s]\n"
     ]
    },
    {
     "name": "stdout",
     "output_type": "stream",
     "text": [
      " ✅ Đã lưu batch 31/161 (100 bản ghi).\n",
      "\n",
      "Đang xử lý batch 32/161 (100 link)...\n"
     ]
    },
    {
     "name": "stderr",
     "output_type": "stream",
     "text": [
      "  → Crawl song song: 100%|██████████| 100/100 [00:17<00:00,  5.76it/s]\n"
     ]
    },
    {
     "name": "stdout",
     "output_type": "stream",
     "text": [
      " ✅ Đã lưu batch 32/161 (100 bản ghi).\n",
      "\n",
      "Đang xử lý batch 33/161 (100 link)...\n"
     ]
    },
    {
     "name": "stderr",
     "output_type": "stream",
     "text": [
      "  → Crawl song song: 100%|██████████| 100/100 [00:19<00:00,  5.25it/s]\n"
     ]
    },
    {
     "name": "stdout",
     "output_type": "stream",
     "text": [
      " ✅ Đã lưu batch 33/161 (100 bản ghi).\n",
      "\n",
      "Đang xử lý batch 34/161 (100 link)...\n"
     ]
    },
    {
     "name": "stderr",
     "output_type": "stream",
     "text": [
      "  → Crawl song song:   9%|▉         | 9/100 [00:02<00:11,  7.65it/s]"
     ]
    },
    {
     "name": "stdout",
     "output_type": "stream",
     "text": [
      "Lỗi khi xử lý https://mogi.vn/quan-long-bien/mua-nha-hem-ngo/sieu-hot-giam-chao-150tr-lo-goc-xuan-do-5-tang-gia-chi-5-ty-xiu-id22678487: HTTPSConnectionPool(host='mogi.vn', port=443): Max retries exceeded with url: /quan-long-bien/mua-nha-hem-ngo/sieu-hot-giam-chao-150tr-lo-goc-xuan-do-5-tang-gia-chi-5-ty-xiu-id22678487 (Caused by ConnectTimeoutError(<urllib3.connection.HTTPSConnection object at 0x000002691D6CD580>, 'Connection to mogi.vn timed out. (connect timeout=10)'))\n"
     ]
    },
    {
     "name": "stderr",
     "output_type": "stream",
     "text": [
      "  → Crawl song song:  11%|█         | 11/100 [00:12<02:59,  2.02s/it]"
     ]
    },
    {
     "name": "stdout",
     "output_type": "stream",
     "text": [
      "Lỗi khi xử lý https://mogi.vn/quan-ha-dong/mua-nha-mat-tien-pho/ban-toa-nha-mat-pho-ao-sen-mo-lao-ha-dong-dt-130m-dong-tien-200trieu-t-id22661258: HTTPSConnectionPool(host='mogi.vn', port=443): Max retries exceeded with url: /quan-ha-dong/mua-nha-mat-tien-pho/ban-toa-nha-mat-pho-ao-sen-mo-lao-ha-dong-dt-130m-dong-tien-200trieu-t-id22661258 (Caused by ConnectTimeoutError(<urllib3.connection.HTTPSConnection object at 0x000002691B91DD60>, 'Connection to mogi.vn timed out. (connect timeout=10)'))\n",
      "Lỗi khi xử lý https://mogi.vn/quan-cau-giay/mua-nha-mat-tien-pho/ban-nha-phan-lo-quan-cau-giay-4-tang-nhinh-13-ty-phan-lo-id22678120: HTTPSConnectionPool(host='mogi.vn', port=443): Max retries exceeded with url: /quan-cau-giay/mua-nha-mat-tien-pho/ban-nha-phan-lo-quan-cau-giay-4-tang-nhinh-13-ty-phan-lo-id22678120 (Caused by ConnectTimeoutError(<urllib3.connection.HTTPSConnection object at 0x000002691B91E8D0>, 'Connection to mogi.vn timed out. (connect timeout=10)'))\n"
     ]
    },
    {
     "name": "stderr",
     "output_type": "stream",
     "text": [
      "  → Crawl song song:  17%|█▋        | 17/100 [00:12<00:57,  1.44it/s]"
     ]
    },
    {
     "name": "stdout",
     "output_type": "stream",
     "text": [
      "Lỗi khi xử lý https://mogi.vn/quan-cau-giay/mua-nha-mat-tien-pho/ban-nha-phan-lo-quan-cau-giay-4-tang-nhinh-12-ty-id22678087: HTTPSConnectionPool(host='mogi.vn', port=443): Max retries exceeded with url: /quan-cau-giay/mua-nha-mat-tien-pho/ban-nha-phan-lo-quan-cau-giay-4-tang-nhinh-12-ty-id22678087 (Caused by ConnectTimeoutError(<urllib3.connection.HTTPSConnection object at 0x000002691B91F530>, 'Connection to mogi.vn timed out. (connect timeout=10)'))\n",
      "Lỗi khi xử lý https://mogi.vn/quan-thanh-xuan/mua-nha-mat-tien-pho/ban-dat-mat-pho-vu-tong-phan-thanh-xuan-dt-200m2-mat-ten-8-5m-id22662333: HTTPSConnectionPool(host='mogi.vn', port=443): Max retries exceeded with url: /quan-thanh-xuan/mua-nha-mat-tien-pho/ban-dat-mat-pho-vu-tong-phan-thanh-xuan-dt-200m2-mat-ten-8-5m-id22662333 (Caused by ConnectTimeoutError(<urllib3.connection.HTTPSConnection object at 0x000002691BEB4AA0>, 'Connection to mogi.vn timed out. (connect timeout=10)'))\n",
      "Lỗi khi xử lý https://mogi.vn/quan-dong-da/mua-nha-hem-ngo/ban-nha-phan-lo-o-to-tranh-via-he-kinh-doanh-duong-nguyen-chi-thanh-id22661092: HTTPSConnectionPool(host='mogi.vn', port=443): Max retries exceeded with url: /quan-dong-da/mua-nha-hem-ngo/ban-nha-phan-lo-o-to-tranh-via-he-kinh-doanh-duong-nguyen-chi-thanh-id22661092 (Caused by ConnectTimeoutError(<urllib3.connection.HTTPSConnection object at 0x000002691BEB4230>, 'Connection to mogi.vn timed out. (connect timeout=10)'))\n",
      "Lỗi khi xử lý https://mogi.vn/quan-nam-tu-liem/mua-nha-hem-ngo/ga-de-trung-khu-vuc-hot-nhat-my-dinh-dong-tien-1-5-ty-nam-mat-duong-id22678598: HTTPSConnectionPool(host='mogi.vn', port=443): Max retries exceeded with url: /quan-nam-tu-liem/mua-nha-hem-ngo/ga-de-trung-khu-vuc-hot-nhat-my-dinh-dong-tien-1-5-ty-nam-mat-duong-id22678598 (Caused by ConnectTimeoutError(<urllib3.connection.HTTPSConnection object at 0x000002691BEB54F0>, 'Connection to mogi.vn timed out. (connect timeout=10)'))\n",
      "Lỗi khi xử lý https://mogi.vn/quan-cau-giay/mua-nha-hem-ngo/ban-nhanh-nha-pho-nghia-do-cau-giay-4-tang-76m2-o-to-tranh-o-hoac-id22678562: HTTPSConnectionPool(host='mogi.vn', port=443): Max retries exceeded with url: /quan-cau-giay/mua-nha-hem-ngo/ban-nhanh-nha-pho-nghia-do-cau-giay-4-tang-76m2-o-to-tranh-o-hoac-id22678562 (Caused by ConnectTimeoutError(<urllib3.connection.HTTPSConnection object at 0x000002691BEB5610>, 'Connection to mogi.vn timed out. (connect timeout=10)'))\n"
     ]
    },
    {
     "name": "stderr",
     "output_type": "stream",
     "text": [
      "  → Crawl song song:  19%|█▉        | 19/100 [00:12<00:43,  1.87it/s]"
     ]
    },
    {
     "name": "stdout",
     "output_type": "stream",
     "text": [
      "Lỗi khi xử lý https://mogi.vn/quan-dong-da/mua-nha-hem-ngo/hot-nha-2-thoang-tai-dai-dong-trung-tam-dong-da-chu-tam-huyet-sua-id22678140: HTTPSConnectionPool(host='mogi.vn', port=443): Max retries exceeded with url: /quan-dong-da/mua-nha-hem-ngo/hot-nha-2-thoang-tai-dai-dong-trung-tam-dong-da-chu-tam-huyet-sua-id22678140 (Caused by ConnectTimeoutError(<urllib3.connection.HTTPSConnection object at 0x000002691BEB7530>, 'Connection to mogi.vn timed out. (connect timeout=10)'))\n",
      "Lỗi khi xử lý https://mogi.vn/quan-dong-da/mua-nha-hem-ngo/ban-nha-phao-dai-lang-dong-da-phan-lo-ga-ra-o-to-kinh-doanh-dt-46m2-id22661706: HTTPSConnectionPool(host='mogi.vn', port=443): Max retries exceeded with url: /quan-dong-da/mua-nha-hem-ngo/ban-nha-phao-dai-lang-dong-da-phan-lo-ga-ra-o-to-kinh-doanh-dt-46m2-id22661706 (Caused by ConnectTimeoutError(<urllib3.connection.HTTPSConnection object at 0x000002691BEB4470>, 'Connection to mogi.vn timed out. (connect timeout=10)'))\n"
     ]
    },
    {
     "name": "stderr",
     "output_type": "stream",
     "text": [
      "  → Crawl song song:  21%|██        | 21/100 [00:22<02:16,  1.73s/it]"
     ]
    },
    {
     "name": "stdout",
     "output_type": "stream",
     "text": [
      "Lỗi khi xử lý https://mogi.vn/quan-dong-da/mua-nha-hem-ngo/ban-nha-ngo-120-pho-yen-lang-nha-pl-o-cho-thang-may-gan-pho-dt-55m2-id22662112: HTTPSConnectionPool(host='mogi.vn', port=443): Max retries exceeded with url: /quan-dong-da/mua-nha-hem-ngo/ban-nha-ngo-120-pho-yen-lang-nha-pl-o-cho-thang-may-gan-pho-dt-55m2-id22662112 (Caused by ConnectTimeoutError(<urllib3.connection.HTTPSConnection object at 0x000002691BECEFF0>, 'Connection to mogi.vn timed out. (connect timeout=10)'))\n"
     ]
    },
    {
     "name": "stderr",
     "output_type": "stream",
     "text": [
      "  → Crawl song song:  23%|██▎       | 23/100 [00:23<01:40,  1.31s/it]"
     ]
    },
    {
     "name": "stdout",
     "output_type": "stream",
     "text": [
      "Lỗi khi xử lý https://mogi.vn/quan-ha-dong/mua-nha-hem-ngo/ban-nha-ngo-181-duong-tran-phu-ha-dong-dt-36m2-5-tang-gia-6-2-ty-id22662111: HTTPSConnectionPool(host='mogi.vn', port=443): Max retries exceeded with url: /quan-ha-dong/mua-nha-hem-ngo/ban-nha-ngo-181-duong-tran-phu-ha-dong-dt-36m2-5-tang-gia-6-2-ty-id22662111 (Caused by ConnectTimeoutError(<urllib3.connection.HTTPSConnection object at 0x000002691BECCB90>, 'Connection to mogi.vn timed out. (connect timeout=10)'))\n",
      "Lỗi khi xử lý https://mogi.vn/quan-nam-tu-liem/mua-nha-hem-ngo/ban-lo-dat-duong-hoe-thi-nam-tu-liem-dt-300m2-mat-tien-30m-gia-40-ty-id22666281: HTTPSConnectionPool(host='mogi.vn', port=443): Max retries exceeded with url: /quan-nam-tu-liem/mua-nha-hem-ngo/ban-lo-dat-duong-hoe-thi-nam-tu-liem-dt-300m2-mat-tien-30m-gia-40-ty-id22666281 (Caused by ConnectTimeoutError(<urllib3.connection.HTTPSConnection object at 0x000002691BECD1F0>, 'Connection to mogi.vn timed out. (connect timeout=10)'))\n"
     ]
    },
    {
     "name": "stderr",
     "output_type": "stream",
     "text": [
      "  → Crawl song song:  24%|██▍       | 24/100 [00:23<01:25,  1.13s/it]"
     ]
    },
    {
     "name": "stdout",
     "output_type": "stream",
     "text": [
      "Lỗi khi xử lý https://mogi.vn/huyen-thanh-tri-ha-noi/mua-nha-hem-ngo/ban-nha-duong-nghiem-xuan-yem-kim-giang-dt-41-xay-5-tang-6-phong-ngu-id22661263: HTTPSConnectionPool(host='mogi.vn', port=443): Max retries exceeded with url: /huyen-thanh-tri-ha-noi/mua-nha-hem-ngo/ban-nha-duong-nghiem-xuan-yem-kim-giang-dt-41-xay-5-tang-6-phong-ngu-id22661263 (Caused by ConnectTimeoutError(<urllib3.connection.HTTPSConnection object at 0x000002691BECDFA0>, 'Connection to mogi.vn timed out. (connect timeout=10)'))\n"
     ]
    },
    {
     "name": "stderr",
     "output_type": "stream",
     "text": [
      "  → Crawl song song:  26%|██▌       | 26/100 [00:23<00:59,  1.25it/s]"
     ]
    },
    {
     "name": "stdout",
     "output_type": "stream",
     "text": [
      "Lỗi khi xử lý https://mogi.vn/quan-nam-tu-liem/mua-nha-hem-ngo/nha-duong-my-dinh-ngo-dep-o-to-do-cong-nha-dan-xay-2-thoang-dt-30m2-id22663025: HTTPSConnectionPool(host='mogi.vn', port=443): Max retries exceeded with url: /quan-nam-tu-liem/mua-nha-hem-ngo/nha-duong-my-dinh-ngo-dep-o-to-do-cong-nha-dan-xay-2-thoang-dt-30m2-id22663025 (Caused by ConnectTimeoutError(<urllib3.connection.HTTPSConnection object at 0x000002691BECFC80>, 'Connection to mogi.vn timed out. (connect timeout=10)'))\n",
      "Lỗi khi xử lý https://mogi.vn/huyen-thanh-tri-ha-noi/mua-nha-biet-thu-lien-ke/ban-biet-thu-lk-tong-cuc-5-tan-trieu-lo-goc-kinh-doanh-dt-130m2-mt-20m-id22662118: HTTPSConnectionPool(host='mogi.vn', port=443): Max retries exceeded with url: /huyen-thanh-tri-ha-noi/mua-nha-biet-thu-lien-ke/ban-biet-thu-lk-tong-cuc-5-tan-trieu-lo-goc-kinh-doanh-dt-130m2-mt-20m-id22662118 (Caused by ConnectTimeoutError(<urllib3.connection.HTTPSConnection object at 0x000002691BEB40E0>, 'Connection to mogi.vn timed out. (connect timeout=10)'))\n",
      "Lỗi khi xử lý https://mogi.vn/quan-ha-dong/mua-nha-biet-thu-lien-ke/biet-thu-lien-ke-khu-c-geleximco-le-trong-tan-dt-120m2-mt-6m-gia-30-ty-id22664112: HTTPSConnectionPool(host='mogi.vn', port=443): Max retries exceeded with url: /quan-ha-dong/mua-nha-biet-thu-lien-ke/biet-thu-lien-ke-khu-c-geleximco-le-trong-tan-dt-120m2-mt-6m-gia-30-ty-id22664112 (Caused by ConnectTimeoutError(<urllib3.connection.HTTPSConnection object at 0x000002691BEB43B0>, 'Connection to mogi.vn timed out. (connect timeout=10)'))\n",
      "Lỗi khi xử lý https://mogi.vn/quan-thanh-xuan/mua-nha-hem-ngo/nha-hoang-van-thai-thanh-xuan-lo-goc-3-thoang-full-noi-that-dt48m2-id22663199: HTTPSConnectionPool(host='mogi.vn', port=443): Max retries exceeded with url: /quan-thanh-xuan/mua-nha-hem-ngo/nha-hoang-van-thai-thanh-xuan-lo-goc-3-thoang-full-noi-that-dt48m2-id22663199 (Caused by ConnectTimeoutError(<urllib3.connection.HTTPSConnection object at 0x000002691BEB6E10>, 'Connection to mogi.vn timed out. (connect timeout=10)'))\n"
     ]
    },
    {
     "name": "stderr",
     "output_type": "stream",
     "text": [
      "  → Crawl song song:  29%|██▉       | 29/100 [00:24<00:32,  2.16it/s]"
     ]
    },
    {
     "name": "stdout",
     "output_type": "stream",
     "text": [
      "Lỗi khi xử lý https://mogi.vn/quan-ha-dong/mua-nha-hem-ngo/nha-pho-ngo-thi-nham-ha-dong-phan-lo-ga-ra-oto-dt-51m2-mat-tien-6-4m-id22663500: HTTPSConnectionPool(host='mogi.vn', port=443): Max retries exceeded with url: /quan-ha-dong/mua-nha-hem-ngo/nha-pho-ngo-thi-nham-ha-dong-phan-lo-ga-ra-oto-dt-51m2-mat-tien-6-4m-id22663500 (Caused by ConnectTimeoutError(<urllib3.connection.HTTPSConnection object at 0x000002691BEB5FD0>, 'Connection to mogi.vn timed out. (connect timeout=10)'))\n"
     ]
    },
    {
     "name": "stderr",
     "output_type": "stream",
     "text": [
      "  → Crawl song song:  30%|███       | 30/100 [00:25<00:43,  1.62it/s]"
     ]
    },
    {
     "name": "stdout",
     "output_type": "stream",
     "text": [
      "Lỗi khi xử lý https://mogi.vn/quan-tay-ho/mua-nha-mat-tien-pho/ban-toa-nha-mat-pho-lac-long-quan-th-dt-115m2x-8-tang-mat-tien-9m-id22662751: HTTPSConnectionPool(host='mogi.vn', port=443): Max retries exceeded with url: /quan-tay-ho/mua-nha-mat-tien-pho/ban-toa-nha-mat-pho-lac-long-quan-th-dt-115m2x-8-tang-mat-tien-9m-id22662751 (Caused by ConnectTimeoutError(<urllib3.connection.HTTPSConnection object at 0x000002691BECFFE0>, 'Connection to mogi.vn timed out. (connect timeout=10)'))\n"
     ]
    },
    {
     "name": "stderr",
     "output_type": "stream",
     "text": [
      "  → Crawl song song:  36%|███▌      | 36/100 [00:33<01:02,  1.02it/s]"
     ]
    },
    {
     "name": "stdout",
     "output_type": "stream",
     "text": [
      "Lỗi khi xử lý https://mogi.vn/quan-long-bien/mua-nha-hem-ngo/ban-nha-ngo-554-nguyen-van-cu-40m-x-4t-dan-xay-oto-chi-nhinh-10-ty-id22677198: HTTPSConnectionPool(host='mogi.vn', port=443): Max retries exceeded with url: /quan-long-bien/mua-nha-hem-ngo/ban-nha-ngo-554-nguyen-van-cu-40m-x-4t-dan-xay-oto-chi-nhinh-10-ty-id22677198 (Caused by ConnectTimeoutError(<urllib3.connection.HTTPSConnection object at 0x000002691B9450D0>, 'Connection to mogi.vn timed out. (connect timeout=10)'))\n"
     ]
    },
    {
     "name": "stderr",
     "output_type": "stream",
     "text": [
      "  → Crawl song song:  37%|███▋      | 37/100 [00:34<00:56,  1.11it/s]"
     ]
    },
    {
     "name": "stdout",
     "output_type": "stream",
     "text": [
      "Lỗi khi xử lý https://mogi.vn/quan-long-bien/mua-nha-hem-ngo/ban-nha-5t-pho-gia-quat-thuong-thanh-1-nha-ra-mat-pho-chi-5t2-tl-id22676711: HTTPSConnectionPool(host='mogi.vn', port=443): Max retries exceeded with url: /quan-long-bien/mua-nha-hem-ngo/ban-nha-5t-pho-gia-quat-thuong-thanh-1-nha-ra-mat-pho-chi-5t2-tl-id22676711 (Caused by ConnectTimeoutError(<urllib3.connection.HTTPSConnection object at 0x000002691BECFCB0>, 'Connection to mogi.vn timed out. (connect timeout=10)'))\n"
     ]
    },
    {
     "name": "stderr",
     "output_type": "stream",
     "text": [
      "  → Crawl song song:  39%|███▉      | 39/100 [00:34<00:32,  1.88it/s]"
     ]
    },
    {
     "name": "stdout",
     "output_type": "stream",
     "text": [
      "Lỗi khi xử lý https://mogi.vn/quan-long-bien/mua-nha-hem-ngo/ban-nha-to-24-thuong-thanh-30m-x-5t-moi-tinh-oto-7c-do-cua-gia-chi-id22656590: HTTPSConnectionPool(host='mogi.vn', port=443): Max retries exceeded with url: /quan-long-bien/mua-nha-hem-ngo/ban-nha-to-24-thuong-thanh-30m-x-5t-moi-tinh-oto-7c-do-cua-gia-chi-id22656590 (Caused by ConnectTimeoutError(<urllib3.connection.HTTPSConnection object at 0x000002691BECD7F0>, 'Connection to mogi.vn timed out. (connect timeout=10)'))\n",
      "Lỗi khi xử lý https://mogi.vn/quan-long-bien/mua-nha-hem-ngo/ban-nha-gia-quat-thuong-thanh-42m-x-4t-cach-1-nha-ra-duong-17m-gan-c-id22674177: HTTPSConnectionPool(host='mogi.vn', port=443): Max retries exceeded with url: /quan-long-bien/mua-nha-hem-ngo/ban-nha-gia-quat-thuong-thanh-42m-x-4t-cach-1-nha-ra-duong-17m-gan-c-id22674177 (Caused by ConnectTimeoutError(<urllib3.connection.HTTPSConnection object at 0x000002691BECEF30>, 'Connection to mogi.vn timed out. (connect timeout=10)'))\n"
     ]
    },
    {
     "name": "stderr",
     "output_type": "stream",
     "text": [
      "  → Crawl song song:  42%|████▏     | 42/100 [00:34<00:15,  3.79it/s]"
     ]
    },
    {
     "name": "stdout",
     "output_type": "stream",
     "text": [
      "Lỗi khi xử lý https://mogi.vn/quan-long-bien/mua-nha-hem-ngo/khong-co-can-thu-2-hon-5-ty-gara-oto-lo-goc-ngo-gia-tu-5t-moi-id22656488: HTTPSConnectionPool(host='mogi.vn', port=443): Max retries exceeded with url: /quan-long-bien/mua-nha-hem-ngo/khong-co-can-thu-2-hon-5-ty-gara-oto-lo-goc-ngo-gia-tu-5t-moi-id22656488 (Caused by ConnectTimeoutError(<urllib3.connection.HTTPSConnection object at 0x000002691B944410>, 'Connection to mogi.vn timed out. (connect timeout=10)'))\n",
      "Lỗi khi xử lý https://mogi.vn/quan-long-bien/mua-nha-hem-ngo/duy-nhat-1-can-chi-hon-7-ty-nha-5t-kinh-doanh-dinh-via-he-trung-id22674166: HTTPSConnectionPool(host='mogi.vn', port=443): Max retries exceeded with url: /quan-long-bien/mua-nha-hem-ngo/duy-nhat-1-can-chi-hon-7-ty-nha-5t-kinh-doanh-dinh-via-he-trung-id22674166 (Caused by ConnectTimeoutError(<urllib3.connection.HTTPSConnection object at 0x000002691B9459A0>, 'Connection to mogi.vn timed out. (connect timeout=10)'))\n"
     ]
    },
    {
     "name": "stderr",
     "output_type": "stream",
     "text": [
      "  → Crawl song song:  43%|████▎     | 43/100 [00:34<00:13,  4.36it/s]"
     ]
    },
    {
     "name": "stdout",
     "output_type": "stream",
     "text": [
      "Lỗi khi xử lý https://mogi.vn/quan-long-bien/mua-nha-hem-ngo/ban-nha-40m-x-5t-ngo-447-ngoc-lam-phan-lo-via-he-kinh-doanh-gia-12-id22656484: HTTPSConnectionPool(host='mogi.vn', port=443): Max retries exceeded with url: /quan-long-bien/mua-nha-hem-ngo/ban-nha-40m-x-5t-ngo-447-ngoc-lam-phan-lo-via-he-kinh-doanh-gia-12-id22656484 (Caused by ConnectTimeoutError(<urllib3.connection.HTTPSConnection object at 0x000002691B947050>, 'Connection to mogi.vn timed out. (connect timeout=10)'))\n"
     ]
    },
    {
     "name": "stderr",
     "output_type": "stream",
     "text": [
      "  → Crawl song song:  45%|████▌     | 45/100 [00:35<00:10,  5.00it/s]"
     ]
    },
    {
     "name": "stdout",
     "output_type": "stream",
     "text": [
      "Lỗi khi xử lý https://mogi.vn/quan-long-bien/mua-nha-hem-ngo/hang-hiem-chi-hon-4-ty-nha-33m-x-3t-ngo-cho-ngoc-lam-oto-kinh-id22656485: HTTPSConnectionPool(host='mogi.vn', port=443): Max retries exceeded with url: /quan-long-bien/mua-nha-hem-ngo/hang-hiem-chi-hon-4-ty-nha-33m-x-3t-ngo-cho-ngoc-lam-oto-kinh-id22656485 (Caused by ConnectTimeoutError(<urllib3.connection.HTTPSConnection object at 0x000002691BEB4230>, 'Connection to mogi.vn timed out. (connect timeout=10)'))\n",
      "Lỗi khi xử lý https://mogi.vn/quan-long-bien/mua-nha-hem-ngo/ban-nha-4t-mat-pho-ngoc-lam-via-he-kinh-doanh-chi-nhinh-8-ty-co-tl-id22656380: HTTPSConnectionPool(host='mogi.vn', port=443): Max retries exceeded with url: /quan-long-bien/mua-nha-hem-ngo/ban-nha-4t-mat-pho-ngoc-lam-via-he-kinh-doanh-chi-nhinh-8-ty-co-tl-id22656380 (Caused by ConnectTimeoutError(<urllib3.connection.HTTPSConnection object at 0x000002691BEB5430>, 'Connection to mogi.vn timed out. (connect timeout=10)'))\n"
     ]
    },
    {
     "name": "stderr",
     "output_type": "stream",
     "text": [
      "  → Crawl song song: 100%|██████████| 100/100 [00:44<00:00,  2.22it/s]\n"
     ]
    },
    {
     "name": "stdout",
     "output_type": "stream",
     "text": [
      " ✅ Đã lưu batch 34/161 (71 bản ghi).\n",
      "\n",
      "Đang xử lý batch 35/161 (100 link)...\n"
     ]
    },
    {
     "name": "stderr",
     "output_type": "stream",
     "text": [
      "  → Crawl song song: 100%|██████████| 100/100 [00:18<00:00,  5.28it/s]\n"
     ]
    },
    {
     "name": "stdout",
     "output_type": "stream",
     "text": [
      " ✅ Đã lưu batch 35/161 (100 bản ghi).\n",
      "\n",
      "Đang xử lý batch 36/161 (100 link)...\n"
     ]
    },
    {
     "name": "stderr",
     "output_type": "stream",
     "text": [
      "  → Crawl song song: 100%|██████████| 100/100 [00:18<00:00,  5.33it/s]\n"
     ]
    },
    {
     "name": "stdout",
     "output_type": "stream",
     "text": [
      " ✅ Đã lưu batch 36/161 (100 bản ghi).\n",
      "\n",
      "Đang xử lý batch 37/161 (100 link)...\n"
     ]
    },
    {
     "name": "stderr",
     "output_type": "stream",
     "text": [
      "  → Crawl song song: 100%|██████████| 100/100 [00:18<00:00,  5.31it/s]\n"
     ]
    },
    {
     "name": "stdout",
     "output_type": "stream",
     "text": [
      " ✅ Đã lưu batch 37/161 (100 bản ghi).\n",
      "\n",
      "Đang xử lý batch 38/161 (100 link)...\n"
     ]
    },
    {
     "name": "stderr",
     "output_type": "stream",
     "text": [
      "  → Crawl song song: 100%|██████████| 100/100 [00:19<00:00,  5.08it/s]\n"
     ]
    },
    {
     "name": "stdout",
     "output_type": "stream",
     "text": [
      " ✅ Đã lưu batch 38/161 (100 bản ghi).\n",
      "\n",
      "Đang xử lý batch 39/161 (100 link)...\n"
     ]
    },
    {
     "name": "stderr",
     "output_type": "stream",
     "text": [
      "  → Crawl song song: 100%|██████████| 100/100 [00:19<00:00,  5.18it/s]\n"
     ]
    },
    {
     "name": "stdout",
     "output_type": "stream",
     "text": [
      " ✅ Đã lưu batch 39/161 (100 bản ghi).\n",
      "\n",
      "Đang xử lý batch 40/161 (100 link)...\n"
     ]
    },
    {
     "name": "stderr",
     "output_type": "stream",
     "text": [
      "  → Crawl song song: 100%|██████████| 100/100 [00:18<00:00,  5.27it/s]\n"
     ]
    },
    {
     "name": "stdout",
     "output_type": "stream",
     "text": [
      " ✅ Đã lưu batch 40/161 (100 bản ghi).\n",
      "\n",
      "Đang xử lý batch 41/161 (100 link)...\n"
     ]
    },
    {
     "name": "stderr",
     "output_type": "stream",
     "text": [
      "  → Crawl song song: 100%|██████████| 100/100 [00:19<00:00,  5.18it/s]\n"
     ]
    },
    {
     "name": "stdout",
     "output_type": "stream",
     "text": [
      " ✅ Đã lưu batch 41/161 (100 bản ghi).\n",
      "\n",
      "Đang xử lý batch 42/161 (100 link)...\n"
     ]
    },
    {
     "name": "stderr",
     "output_type": "stream",
     "text": [
      "  → Crawl song song: 100%|██████████| 100/100 [00:19<00:00,  5.03it/s]\n"
     ]
    },
    {
     "name": "stdout",
     "output_type": "stream",
     "text": [
      " ✅ Đã lưu batch 42/161 (100 bản ghi).\n",
      "\n",
      "Đang xử lý batch 43/161 (100 link)...\n"
     ]
    },
    {
     "name": "stderr",
     "output_type": "stream",
     "text": [
      "  → Crawl song song: 100%|██████████| 100/100 [00:19<00:00,  5.26it/s]\n"
     ]
    },
    {
     "name": "stdout",
     "output_type": "stream",
     "text": [
      " ✅ Đã lưu batch 43/161 (100 bản ghi).\n",
      "\n",
      "Đang xử lý batch 44/161 (100 link)...\n"
     ]
    },
    {
     "name": "stderr",
     "output_type": "stream",
     "text": [
      "  → Crawl song song: 100%|██████████| 100/100 [00:19<00:00,  5.19it/s]\n"
     ]
    },
    {
     "name": "stdout",
     "output_type": "stream",
     "text": [
      " ✅ Đã lưu batch 44/161 (100 bản ghi).\n",
      "\n",
      "Đang xử lý batch 45/161 (100 link)...\n"
     ]
    },
    {
     "name": "stderr",
     "output_type": "stream",
     "text": [
      "  → Crawl song song: 100%|██████████| 100/100 [00:18<00:00,  5.27it/s]\n"
     ]
    },
    {
     "name": "stdout",
     "output_type": "stream",
     "text": [
      " ✅ Đã lưu batch 45/161 (100 bản ghi).\n",
      "\n",
      "Đang xử lý batch 46/161 (100 link)...\n"
     ]
    },
    {
     "name": "stderr",
     "output_type": "stream",
     "text": [
      "  → Crawl song song: 100%|██████████| 100/100 [00:18<00:00,  5.27it/s]\n"
     ]
    },
    {
     "name": "stdout",
     "output_type": "stream",
     "text": [
      " ✅ Đã lưu batch 46/161 (100 bản ghi).\n",
      "\n",
      "Đang xử lý batch 47/161 (100 link)...\n"
     ]
    },
    {
     "name": "stderr",
     "output_type": "stream",
     "text": [
      "  → Crawl song song: 100%|██████████| 100/100 [00:18<00:00,  5.34it/s]\n"
     ]
    },
    {
     "name": "stdout",
     "output_type": "stream",
     "text": [
      " ✅ Đã lưu batch 47/161 (100 bản ghi).\n",
      "\n",
      "Đang xử lý batch 48/161 (100 link)...\n"
     ]
    },
    {
     "name": "stderr",
     "output_type": "stream",
     "text": [
      "  → Crawl song song: 100%|██████████| 100/100 [00:18<00:00,  5.53it/s]\n"
     ]
    },
    {
     "name": "stdout",
     "output_type": "stream",
     "text": [
      " ✅ Đã lưu batch 48/161 (100 bản ghi).\n",
      "\n",
      "Đang xử lý batch 49/161 (100 link)...\n"
     ]
    },
    {
     "name": "stderr",
     "output_type": "stream",
     "text": [
      "  → Crawl song song: 100%|██████████| 100/100 [00:18<00:00,  5.36it/s]\n"
     ]
    },
    {
     "name": "stdout",
     "output_type": "stream",
     "text": [
      " ✅ Đã lưu batch 49/161 (100 bản ghi).\n",
      "\n",
      "Đang xử lý batch 50/161 (100 link)...\n"
     ]
    },
    {
     "name": "stderr",
     "output_type": "stream",
     "text": [
      "  → Crawl song song: 100%|██████████| 100/100 [00:18<00:00,  5.38it/s]\n"
     ]
    },
    {
     "name": "stdout",
     "output_type": "stream",
     "text": [
      " ✅ Đã lưu batch 50/161 (100 bản ghi).\n",
      "\n",
      "Đang xử lý batch 51/161 (100 link)...\n"
     ]
    },
    {
     "name": "stderr",
     "output_type": "stream",
     "text": [
      "  → Crawl song song: 100%|██████████| 100/100 [00:19<00:00,  5.15it/s]\n"
     ]
    },
    {
     "name": "stdout",
     "output_type": "stream",
     "text": [
      " ✅ Đã lưu batch 51/161 (100 bản ghi).\n",
      "\n",
      "Đang xử lý batch 52/161 (100 link)...\n"
     ]
    },
    {
     "name": "stderr",
     "output_type": "stream",
     "text": [
      "  → Crawl song song: 100%|██████████| 100/100 [00:18<00:00,  5.30it/s]\n"
     ]
    },
    {
     "name": "stdout",
     "output_type": "stream",
     "text": [
      " ✅ Đã lưu batch 52/161 (100 bản ghi).\n",
      "\n",
      "Đang xử lý batch 53/161 (100 link)...\n"
     ]
    },
    {
     "name": "stderr",
     "output_type": "stream",
     "text": [
      "  → Crawl song song: 100%|██████████| 100/100 [00:18<00:00,  5.29it/s]\n"
     ]
    },
    {
     "name": "stdout",
     "output_type": "stream",
     "text": [
      " ✅ Đã lưu batch 53/161 (100 bản ghi).\n",
      "\n",
      "Đang xử lý batch 54/161 (100 link)...\n"
     ]
    },
    {
     "name": "stderr",
     "output_type": "stream",
     "text": [
      "  → Crawl song song: 100%|██████████| 100/100 [00:18<00:00,  5.45it/s]\n"
     ]
    },
    {
     "name": "stdout",
     "output_type": "stream",
     "text": [
      " ✅ Đã lưu batch 54/161 (100 bản ghi).\n",
      "\n",
      "Đang xử lý batch 55/161 (100 link)...\n"
     ]
    },
    {
     "name": "stderr",
     "output_type": "stream",
     "text": [
      "  → Crawl song song: 100%|██████████| 100/100 [00:18<00:00,  5.31it/s]\n"
     ]
    },
    {
     "name": "stdout",
     "output_type": "stream",
     "text": [
      " ✅ Đã lưu batch 55/161 (100 bản ghi).\n",
      "\n",
      "Đang xử lý batch 56/161 (100 link)...\n"
     ]
    },
    {
     "name": "stderr",
     "output_type": "stream",
     "text": [
      "  → Crawl song song: 100%|██████████| 100/100 [00:19<00:00,  5.17it/s]\n"
     ]
    },
    {
     "name": "stdout",
     "output_type": "stream",
     "text": [
      " ✅ Đã lưu batch 56/161 (100 bản ghi).\n",
      "\n",
      "Đang xử lý batch 57/161 (100 link)...\n"
     ]
    },
    {
     "name": "stderr",
     "output_type": "stream",
     "text": [
      "  → Crawl song song: 100%|██████████| 100/100 [00:18<00:00,  5.37it/s]\n"
     ]
    },
    {
     "name": "stdout",
     "output_type": "stream",
     "text": [
      " ✅ Đã lưu batch 57/161 (100 bản ghi).\n",
      "\n",
      "Đang xử lý batch 58/161 (100 link)...\n"
     ]
    },
    {
     "name": "stderr",
     "output_type": "stream",
     "text": [
      "  → Crawl song song: 100%|██████████| 100/100 [00:18<00:00,  5.29it/s]\n"
     ]
    },
    {
     "name": "stdout",
     "output_type": "stream",
     "text": [
      " ✅ Đã lưu batch 58/161 (100 bản ghi).\n",
      "\n",
      "Đang xử lý batch 59/161 (100 link)...\n"
     ]
    },
    {
     "name": "stderr",
     "output_type": "stream",
     "text": [
      "  → Crawl song song: 100%|██████████| 100/100 [00:18<00:00,  5.28it/s]\n"
     ]
    },
    {
     "name": "stdout",
     "output_type": "stream",
     "text": [
      " ✅ Đã lưu batch 59/161 (100 bản ghi).\n",
      "\n",
      "Đang xử lý batch 60/161 (100 link)...\n"
     ]
    },
    {
     "name": "stderr",
     "output_type": "stream",
     "text": [
      "  → Crawl song song: 100%|██████████| 100/100 [00:18<00:00,  5.34it/s]\n"
     ]
    },
    {
     "name": "stdout",
     "output_type": "stream",
     "text": [
      " ✅ Đã lưu batch 60/161 (100 bản ghi).\n",
      "\n",
      "Đang xử lý batch 61/161 (100 link)...\n"
     ]
    },
    {
     "name": "stderr",
     "output_type": "stream",
     "text": [
      "  → Crawl song song: 100%|██████████| 100/100 [00:18<00:00,  5.34it/s]\n"
     ]
    },
    {
     "name": "stdout",
     "output_type": "stream",
     "text": [
      " ✅ Đã lưu batch 61/161 (100 bản ghi).\n",
      "\n",
      "Đang xử lý batch 62/161 (100 link)...\n"
     ]
    },
    {
     "name": "stderr",
     "output_type": "stream",
     "text": [
      "  → Crawl song song: 100%|██████████| 100/100 [00:19<00:00,  5.26it/s]\n"
     ]
    },
    {
     "name": "stdout",
     "output_type": "stream",
     "text": [
      " ✅ Đã lưu batch 62/161 (100 bản ghi).\n",
      "\n",
      "Đang xử lý batch 63/161 (100 link)...\n"
     ]
    },
    {
     "name": "stderr",
     "output_type": "stream",
     "text": [
      "  → Crawl song song: 100%|██████████| 100/100 [00:18<00:00,  5.47it/s]\n"
     ]
    },
    {
     "name": "stdout",
     "output_type": "stream",
     "text": [
      " ✅ Đã lưu batch 63/161 (100 bản ghi).\n",
      "\n",
      "Đang xử lý batch 64/161 (100 link)...\n"
     ]
    },
    {
     "name": "stderr",
     "output_type": "stream",
     "text": [
      "  → Crawl song song: 100%|██████████| 100/100 [00:18<00:00,  5.43it/s]\n"
     ]
    },
    {
     "name": "stdout",
     "output_type": "stream",
     "text": [
      " ✅ Đã lưu batch 64/161 (100 bản ghi).\n",
      "\n",
      "Đang xử lý batch 65/161 (100 link)...\n"
     ]
    },
    {
     "name": "stderr",
     "output_type": "stream",
     "text": [
      "  → Crawl song song: 100%|██████████| 100/100 [00:19<00:00,  5.23it/s]\n"
     ]
    },
    {
     "name": "stdout",
     "output_type": "stream",
     "text": [
      " ✅ Đã lưu batch 65/161 (100 bản ghi).\n",
      "\n",
      "Đang xử lý batch 66/161 (100 link)...\n"
     ]
    },
    {
     "name": "stderr",
     "output_type": "stream",
     "text": [
      "  → Crawl song song: 100%|██████████| 100/100 [00:19<00:00,  5.25it/s]\n"
     ]
    },
    {
     "name": "stdout",
     "output_type": "stream",
     "text": [
      " ✅ Đã lưu batch 66/161 (100 bản ghi).\n",
      "\n",
      "Đang xử lý batch 67/161 (100 link)...\n"
     ]
    },
    {
     "name": "stderr",
     "output_type": "stream",
     "text": [
      "  → Crawl song song: 100%|██████████| 100/100 [00:18<00:00,  5.31it/s]\n"
     ]
    },
    {
     "name": "stdout",
     "output_type": "stream",
     "text": [
      " ✅ Đã lưu batch 67/161 (100 bản ghi).\n",
      "\n",
      "Đang xử lý batch 68/161 (100 link)...\n"
     ]
    },
    {
     "name": "stderr",
     "output_type": "stream",
     "text": [
      "  → Crawl song song: 100%|██████████| 100/100 [00:18<00:00,  5.34it/s]\n"
     ]
    },
    {
     "name": "stdout",
     "output_type": "stream",
     "text": [
      " ✅ Đã lưu batch 68/161 (100 bản ghi).\n",
      "\n",
      "Đang xử lý batch 69/161 (100 link)...\n"
     ]
    },
    {
     "name": "stderr",
     "output_type": "stream",
     "text": [
      "  → Crawl song song: 100%|██████████| 100/100 [00:18<00:00,  5.31it/s]\n"
     ]
    },
    {
     "name": "stdout",
     "output_type": "stream",
     "text": [
      " ✅ Đã lưu batch 69/161 (100 bản ghi).\n",
      "\n",
      "Đang xử lý batch 70/161 (100 link)...\n"
     ]
    },
    {
     "name": "stderr",
     "output_type": "stream",
     "text": [
      "  → Crawl song song: 100%|██████████| 100/100 [00:18<00:00,  5.33it/s]\n"
     ]
    },
    {
     "name": "stdout",
     "output_type": "stream",
     "text": [
      " ✅ Đã lưu batch 70/161 (100 bản ghi).\n",
      "\n",
      "Đang xử lý batch 71/161 (100 link)...\n"
     ]
    },
    {
     "name": "stderr",
     "output_type": "stream",
     "text": [
      "  → Crawl song song: 100%|██████████| 100/100 [00:19<00:00,  5.23it/s]\n"
     ]
    },
    {
     "name": "stdout",
     "output_type": "stream",
     "text": [
      " ✅ Đã lưu batch 71/161 (100 bản ghi).\n",
      "\n",
      "Đang xử lý batch 72/161 (100 link)...\n"
     ]
    },
    {
     "name": "stderr",
     "output_type": "stream",
     "text": [
      "  → Crawl song song: 100%|██████████| 100/100 [00:19<00:00,  5.19it/s]\n"
     ]
    },
    {
     "name": "stdout",
     "output_type": "stream",
     "text": [
      " ✅ Đã lưu batch 72/161 (100 bản ghi).\n",
      "\n",
      "Đang xử lý batch 73/161 (100 link)...\n"
     ]
    },
    {
     "name": "stderr",
     "output_type": "stream",
     "text": [
      "  → Crawl song song: 100%|██████████| 100/100 [00:19<00:00,  5.17it/s]\n"
     ]
    },
    {
     "name": "stdout",
     "output_type": "stream",
     "text": [
      " ✅ Đã lưu batch 73/161 (100 bản ghi).\n",
      "\n",
      "Đang xử lý batch 74/161 (100 link)...\n"
     ]
    },
    {
     "name": "stderr",
     "output_type": "stream",
     "text": [
      "  → Crawl song song: 100%|██████████| 100/100 [00:18<00:00,  5.46it/s]\n"
     ]
    },
    {
     "name": "stdout",
     "output_type": "stream",
     "text": [
      " ✅ Đã lưu batch 74/161 (100 bản ghi).\n",
      "\n",
      "Đang xử lý batch 75/161 (100 link)...\n"
     ]
    },
    {
     "name": "stderr",
     "output_type": "stream",
     "text": [
      "  → Crawl song song: 100%|██████████| 100/100 [00:18<00:00,  5.36it/s]\n"
     ]
    },
    {
     "name": "stdout",
     "output_type": "stream",
     "text": [
      " ✅ Đã lưu batch 75/161 (100 bản ghi).\n",
      "\n",
      "Đang xử lý batch 76/161 (100 link)...\n"
     ]
    },
    {
     "name": "stderr",
     "output_type": "stream",
     "text": [
      "  → Crawl song song: 100%|██████████| 100/100 [00:19<00:00,  5.26it/s]\n"
     ]
    },
    {
     "name": "stdout",
     "output_type": "stream",
     "text": [
      " ✅ Đã lưu batch 76/161 (100 bản ghi).\n",
      "\n",
      "Đang xử lý batch 77/161 (100 link)...\n"
     ]
    },
    {
     "name": "stderr",
     "output_type": "stream",
     "text": [
      "  → Crawl song song: 100%|██████████| 100/100 [00:18<00:00,  5.35it/s]\n"
     ]
    },
    {
     "name": "stdout",
     "output_type": "stream",
     "text": [
      " ✅ Đã lưu batch 77/161 (100 bản ghi).\n",
      "\n",
      "Đang xử lý batch 78/161 (100 link)...\n"
     ]
    },
    {
     "name": "stderr",
     "output_type": "stream",
     "text": [
      "  → Crawl song song: 100%|██████████| 100/100 [00:18<00:00,  5.49it/s]\n"
     ]
    },
    {
     "name": "stdout",
     "output_type": "stream",
     "text": [
      " ✅ Đã lưu batch 78/161 (100 bản ghi).\n",
      "\n",
      "Đang xử lý batch 79/161 (100 link)...\n"
     ]
    },
    {
     "name": "stderr",
     "output_type": "stream",
     "text": [
      "  → Crawl song song: 100%|██████████| 100/100 [00:19<00:00,  5.19it/s]\n"
     ]
    },
    {
     "name": "stdout",
     "output_type": "stream",
     "text": [
      " ✅ Đã lưu batch 79/161 (100 bản ghi).\n",
      "\n",
      "Đang xử lý batch 80/161 (100 link)...\n"
     ]
    },
    {
     "name": "stderr",
     "output_type": "stream",
     "text": [
      "  → Crawl song song: 100%|██████████| 100/100 [00:18<00:00,  5.48it/s]\n"
     ]
    },
    {
     "name": "stdout",
     "output_type": "stream",
     "text": [
      " ✅ Đã lưu batch 80/161 (100 bản ghi).\n",
      "\n",
      "Đang xử lý batch 81/161 (100 link)...\n"
     ]
    },
    {
     "name": "stderr",
     "output_type": "stream",
     "text": [
      "  → Crawl song song: 100%|██████████| 100/100 [00:17<00:00,  5.71it/s]\n"
     ]
    },
    {
     "name": "stdout",
     "output_type": "stream",
     "text": [
      " ✅ Đã lưu batch 81/161 (100 bản ghi).\n",
      "\n",
      "Đang xử lý batch 82/161 (100 link)...\n"
     ]
    },
    {
     "name": "stderr",
     "output_type": "stream",
     "text": [
      "  → Crawl song song: 100%|██████████| 100/100 [00:17<00:00,  5.61it/s]\n"
     ]
    },
    {
     "name": "stdout",
     "output_type": "stream",
     "text": [
      " ✅ Đã lưu batch 82/161 (100 bản ghi).\n",
      "\n",
      "Đang xử lý batch 83/161 (100 link)...\n"
     ]
    },
    {
     "name": "stderr",
     "output_type": "stream",
     "text": [
      "  → Crawl song song: 100%|██████████| 100/100 [00:17<00:00,  5.68it/s]\n"
     ]
    },
    {
     "name": "stdout",
     "output_type": "stream",
     "text": [
      " ✅ Đã lưu batch 83/161 (100 bản ghi).\n",
      "\n",
      "Đang xử lý batch 84/161 (100 link)...\n"
     ]
    },
    {
     "name": "stderr",
     "output_type": "stream",
     "text": [
      "  → Crawl song song: 100%|██████████| 100/100 [00:19<00:00,  5.25it/s]\n"
     ]
    },
    {
     "name": "stdout",
     "output_type": "stream",
     "text": [
      " ✅ Đã lưu batch 84/161 (100 bản ghi).\n",
      "\n",
      "Đang xử lý batch 85/161 (100 link)...\n"
     ]
    },
    {
     "name": "stderr",
     "output_type": "stream",
     "text": [
      "  → Crawl song song: 100%|██████████| 100/100 [00:18<00:00,  5.37it/s]\n"
     ]
    },
    {
     "name": "stdout",
     "output_type": "stream",
     "text": [
      " ✅ Đã lưu batch 85/161 (100 bản ghi).\n",
      "\n",
      "Đang xử lý batch 86/161 (100 link)...\n"
     ]
    },
    {
     "name": "stderr",
     "output_type": "stream",
     "text": [
      "  → Crawl song song: 100%|██████████| 100/100 [00:17<00:00,  5.68it/s]\n"
     ]
    },
    {
     "name": "stdout",
     "output_type": "stream",
     "text": [
      " ✅ Đã lưu batch 86/161 (100 bản ghi).\n",
      "\n",
      "Đang xử lý batch 87/161 (100 link)...\n"
     ]
    },
    {
     "name": "stderr",
     "output_type": "stream",
     "text": [
      "  → Crawl song song: 100%|██████████| 100/100 [00:18<00:00,  5.54it/s]\n"
     ]
    },
    {
     "name": "stdout",
     "output_type": "stream",
     "text": [
      " ✅ Đã lưu batch 87/161 (100 bản ghi).\n",
      "\n",
      "Đang xử lý batch 88/161 (100 link)...\n"
     ]
    },
    {
     "name": "stderr",
     "output_type": "stream",
     "text": [
      "  → Crawl song song: 100%|██████████| 100/100 [00:19<00:00,  5.20it/s]\n"
     ]
    },
    {
     "name": "stdout",
     "output_type": "stream",
     "text": [
      " ✅ Đã lưu batch 88/161 (100 bản ghi).\n",
      "\n",
      "Đang xử lý batch 89/161 (100 link)...\n"
     ]
    },
    {
     "name": "stderr",
     "output_type": "stream",
     "text": [
      "  → Crawl song song: 100%|██████████| 100/100 [00:18<00:00,  5.45it/s]\n"
     ]
    },
    {
     "name": "stdout",
     "output_type": "stream",
     "text": [
      " ✅ Đã lưu batch 89/161 (100 bản ghi).\n",
      "\n",
      "Đang xử lý batch 90/161 (100 link)...\n"
     ]
    },
    {
     "name": "stderr",
     "output_type": "stream",
     "text": [
      "  → Crawl song song: 100%|██████████| 100/100 [00:18<00:00,  5.54it/s]\n"
     ]
    },
    {
     "name": "stdout",
     "output_type": "stream",
     "text": [
      " ✅ Đã lưu batch 90/161 (100 bản ghi).\n",
      "\n",
      "Đang xử lý batch 91/161 (100 link)...\n"
     ]
    },
    {
     "name": "stderr",
     "output_type": "stream",
     "text": [
      "  → Crawl song song: 100%|██████████| 100/100 [00:18<00:00,  5.55it/s]\n"
     ]
    },
    {
     "name": "stdout",
     "output_type": "stream",
     "text": [
      " ✅ Đã lưu batch 91/161 (100 bản ghi).\n",
      "\n",
      "Đang xử lý batch 92/161 (100 link)...\n"
     ]
    },
    {
     "name": "stderr",
     "output_type": "stream",
     "text": [
      "  → Crawl song song: 100%|██████████| 100/100 [00:18<00:00,  5.28it/s]\n"
     ]
    },
    {
     "name": "stdout",
     "output_type": "stream",
     "text": [
      " ✅ Đã lưu batch 92/161 (100 bản ghi).\n",
      "\n",
      "Đang xử lý batch 93/161 (100 link)...\n"
     ]
    },
    {
     "name": "stderr",
     "output_type": "stream",
     "text": [
      "  → Crawl song song:  47%|████▋     | 47/100 [00:17<00:58,  1.11s/it]"
     ]
    },
    {
     "name": "stdout",
     "output_type": "stream",
     "text": [
      "Lỗi khi xử lý https://mogi.vn/quan-bac-tu-liem/mua-nha-hem-ngo/sieu-hot-xu-huong-vua-o-vua-cho-thue-6-tang-thang-may-o-7-phong-id22587720: HTTPSConnectionPool(host='mogi.vn', port=443): Max retries exceeded with url: /quan-bac-tu-liem/mua-nha-hem-ngo/sieu-hot-xu-huong-vua-o-vua-cho-thue-6-tang-thang-may-o-7-phong-id22587720 (Caused by ConnectTimeoutError(<urllib3.connection.HTTPSConnection object at 0x000002691C465580>, 'Connection to mogi.vn timed out. (connect timeout=10)'))Lỗi khi xử lý https://mogi.vn/quan-tay-ho/mua-nha-hem-ngo/ban-nha-ngo-lac-long-quan-thong-thuy-khue-cach-cho-buoi-200m-id22582388: HTTPSConnectionPool(host='mogi.vn', port=443): Max retries exceeded with url: /quan-tay-ho/mua-nha-hem-ngo/ban-nha-ngo-lac-long-quan-thong-thuy-khue-cach-cho-buoi-200m-id22582388 (Caused by ConnectTimeoutError(<urllib3.connection.HTTPSConnection object at 0x000002691BF83F80>, 'Connection to mogi.vn timed out. (connect timeout=10)'))\n",
      "\n",
      "Lỗi khi xử lý https://mogi.vn/quan-tay-ho/mua-nha-hem-ngo/ban-nha-ngo-thuy-khue-cach-cho-buoi-200m-dien-tich-30m2-4-tang-id22583488: HTTPSConnectionPool(host='mogi.vn', port=443): Max retries exceeded with url: /quan-tay-ho/mua-nha-hem-ngo/ban-nha-ngo-thuy-khue-cach-cho-buoi-200m-dien-tich-30m2-4-tang-id22583488 (Caused by ConnectTimeoutError(<urllib3.connection.HTTPSConnection object at 0x000002691C1C99A0>, 'Connection to mogi.vn timed out. (connect timeout=10)'))\n"
     ]
    },
    {
     "name": "stderr",
     "output_type": "stream",
     "text": [
      "  → Crawl song song:  49%|████▉     | 49/100 [00:18<00:42,  1.21it/s]"
     ]
    },
    {
     "name": "stdout",
     "output_type": "stream",
     "text": [
      "Lỗi khi xử lý https://mogi.vn/quan-bac-tu-liem/mua-nha-hem-ngo/ban-nha-kieu-mai-phuc-dien-bac-tu-liem-37m2-4-4-ty-id22584505: HTTPSConnectionPool(host='mogi.vn', port=443): Max retries exceeded with url: /quan-bac-tu-liem/mua-nha-hem-ngo/ban-nha-kieu-mai-phuc-dien-bac-tu-liem-37m2-4-4-ty-id22584505 (Caused by ConnectTimeoutError(<urllib3.connection.HTTPSConnection object at 0x000002691C1C8E30>, 'Connection to mogi.vn timed out. (connect timeout=10)'))\n",
      "Lỗi khi xử lý https://mogi.vn/quan-cau-giay/mua-nha-mat-tien-pho/nguyen-khang-chi-10-ty-anh-chi-co-the-so-huu-can-nha-6-tang-duong-o-to-id22586629: HTTPSConnectionPool(host='mogi.vn', port=443): Max retries exceeded with url: /quan-cau-giay/mua-nha-mat-tien-pho/nguyen-khang-chi-10-ty-anh-chi-co-the-so-huu-can-nha-6-tang-duong-o-to-id22586629 (Caused by ConnectTimeoutError(<urllib3.connection.HTTPSConnection object at 0x000002691C1C92B0>, 'Connection to mogi.vn timed out. (connect timeout=10)'))\n"
     ]
    },
    {
     "name": "stderr",
     "output_type": "stream",
     "text": [
      "  → Crawl song song:  50%|█████     | 50/100 [00:18<00:37,  1.33it/s]"
     ]
    },
    {
     "name": "stdout",
     "output_type": "stream",
     "text": [
      "Lỗi khi xử lý https://mogi.vn/quan-tay-ho/mua-nha-hem-ngo/ban-nha-ngo-370-thuy-khue-thong-sang-ngo-101-trich-sai-ven-ho-id22583509: HTTPSConnectionPool(host='mogi.vn', port=443): Max retries exceeded with url: /quan-tay-ho/mua-nha-hem-ngo/ban-nha-ngo-370-thuy-khue-thong-sang-ngo-101-trich-sai-ven-ho-id22583509 (Caused by ConnectTimeoutError(<urllib3.connection.HTTPSConnection object at 0x000002691C1C90D0>, 'Connection to mogi.vn timed out. (connect timeout=10)'))\n",
      "Lỗi khi xử lý https://mogi.vn/quan-bac-tu-liem/mua-nha-mat-tien-pho/ban-nha-phu-dien-bac-tu-liem-ngo-oto-gan-40m2-4-5-ty-id22583931: HTTPSConnectionPool(host='mogi.vn', port=443): Max retries exceeded with url: /quan-bac-tu-liem/mua-nha-mat-tien-pho/ban-nha-phu-dien-bac-tu-liem-ngo-oto-gan-40m2-4-5-ty-id22583931 (Caused by ConnectTimeoutError(<urllib3.connection.HTTPSConnection object at 0x000002691DDA4650>, 'Connection to mogi.vn timed out. (connect timeout=10)'))\n",
      "Lỗi khi xử lý https://mogi.vn/quan-bac-tu-liem/mua-nha-hem-ngo/ban-nha-duc-dien-bac-tu-liem-ngo-oto-gan-39m2-4-5-ty-id22584290: HTTPSConnectionPool(host='mogi.vn', port=443): Max retries exceeded with url: /quan-bac-tu-liem/mua-nha-hem-ngo/ban-nha-duc-dien-bac-tu-liem-ngo-oto-gan-39m2-4-5-ty-id22584290 (Caused by ConnectTimeoutError(<urllib3.connection.HTTPSConnection object at 0x000002691DDA4DA0>, 'Connection to mogi.vn timed out. (connect timeout=10)'))\n"
     ]
    },
    {
     "name": "stderr",
     "output_type": "stream",
     "text": [
      "  → Crawl song song:  54%|█████▍    | 54/100 [00:18<00:18,  2.43it/s]"
     ]
    },
    {
     "name": "stdout",
     "output_type": "stream",
     "text": [
      "Lỗi khi xử lý https://mogi.vn/quan-hai-ba-trung/mua-nha-hem-ngo/chinh-chu-ban-nha-pho-bach-mai-x-40m2-x-4-tang-x-mt6-8m-x-gia-5-x-ti-id22584782: HTTPSConnectionPool(host='mogi.vn', port=443): Max retries exceeded with url: /quan-hai-ba-trung/mua-nha-hem-ngo/chinh-chu-ban-nha-pho-bach-mai-x-40m2-x-4-tang-x-mt6-8m-x-gia-5-x-ti-id22584782 (Caused by ConnectTimeoutError(<urllib3.connection.HTTPSConnection object at 0x000002691DDA6BD0>, 'Connection to mogi.vn timed out. (connect timeout=10)'))\n",
      "Lỗi khi xử lý https://mogi.vn/huyen-hoai-duc/mua-nha-hem-ngo/ban-nha-dong-tien-la-phu-hoai-duc-30m2-4-tang-3-6-ty-id22586830: HTTPSConnectionPool(host='mogi.vn', port=443): Max retries exceeded with url: /huyen-hoai-duc/mua-nha-hem-ngo/ban-nha-dong-tien-la-phu-hoai-duc-30m2-4-tang-3-6-ty-id22586830 (Caused by ConnectTimeoutError(<urllib3.connection.HTTPSConnection object at 0x000002691DDA7EC0>, 'Connection to mogi.vn timed out. (connect timeout=10)'))\n"
     ]
    },
    {
     "name": "stderr",
     "output_type": "stream",
     "text": [
      "  → Crawl song song:  56%|█████▌    | 56/100 [00:28<01:15,  1.72s/it]"
     ]
    },
    {
     "name": "stdout",
     "output_type": "stream",
     "text": [
      "Lỗi khi xử lý https://mogi.vn/quan-tay-ho/mua-nha-mat-tien-pho/mat-pho-lac-long-quan-view-ho-tay-70m2-6-tang-thang-may-chi-40-ty-id22584948: HTTPSConnectionPool(host='mogi.vn', port=443): Max retries exceeded with url: /quan-tay-ho/mua-nha-mat-tien-pho/mat-pho-lac-long-quan-view-ho-tay-70m2-6-tang-thang-may-chi-40-ty-id22584948 (Caused by ConnectTimeoutError(<urllib3.connection.HTTPSConnection object at 0x000002691DDA4AD0>, 'Connection to mogi.vn timed out. (connect timeout=10)'))\n",
      "Lỗi khi xử lý https://mogi.vn/quan-dong-da/mua-nha-hem-ngo/pho-nam-dong-ban-nha-xay-moi-tien-ich-bat-ngan-tuong-lai-ra-pho-id22587974: HTTPSConnectionPool(host='mogi.vn', port=443): Max retries exceeded with url: /quan-dong-da/mua-nha-hem-ngo/pho-nam-dong-ban-nha-xay-moi-tien-ich-bat-ngan-tuong-lai-ra-pho-id22587974 (Caused by ConnectTimeoutError(<urllib3.connection.HTTPSConnection object at 0x000002691DDA4890>, 'Connection to mogi.vn timed out. (connect timeout=10)'))\n",
      "Lỗi khi xử lý https://mogi.vn/quan-cau-giay/mua-nha-hem-ngo/can-ban-nha-ngo-27-vo-chi-cong-cau-giay-5-5-ty-id22566203: HTTPSConnectionPool(host='mogi.vn', port=443): Max retries exceeded with url: /quan-cau-giay/mua-nha-hem-ngo/can-ban-nha-ngo-27-vo-chi-cong-cau-giay-5-5-ty-id22566203 (Caused by ConnectTimeoutError(<urllib3.connection.HTTPSConnection object at 0x000002691A0F5A00>, 'Connection to mogi.vn timed out. (connect timeout=10)'))\n"
     ]
    },
    {
     "name": "stderr",
     "output_type": "stream",
     "text": [
      "  → Crawl song song:  58%|█████▊    | 58/100 [00:28<00:45,  1.09s/it]"
     ]
    },
    {
     "name": "stdout",
     "output_type": "stream",
     "text": [
      "Lỗi khi xử lý https://mogi.vn/quan-cau-giay/mua-nha-hem-ngo/ban-nha-tran-binh-cau-giay-dt-30m-mt-3-3m-x-5-tang-gia-6-6-ty-id22588171: HTTPSConnectionPool(host='mogi.vn', port=443): Max retries exceeded with url: /quan-cau-giay/mua-nha-hem-ngo/ban-nha-tran-binh-cau-giay-dt-30m-mt-3-3m-x-5-tang-gia-6-6-ty-id22588171 (Caused by ConnectTimeoutError(<urllib3.connection.HTTPSConnection object at 0x000002691B108410>, 'Connection to mogi.vn timed out. (connect timeout=10)'))\n"
     ]
    },
    {
     "name": "stderr",
     "output_type": "stream",
     "text": [
      "  → Crawl song song:  59%|█████▉    | 59/100 [00:29<00:38,  1.06it/s]"
     ]
    },
    {
     "name": "stdout",
     "output_type": "stream",
     "text": [
      "Lỗi khi xử lý https://mogi.vn/quan-dong-da/mua-nha-hem-ngo/41m2x5-tang-moi-tinh-trung-phung-lo-goc-kinh-doanh-ngo-thong-chi6-3-ty-id22588280: HTTPSConnectionPool(host='mogi.vn', port=443): Max retries exceeded with url: /quan-dong-da/mua-nha-hem-ngo/41m2x5-tang-moi-tinh-trung-phung-lo-goc-kinh-doanh-ngo-thong-chi6-3-ty-id22588280 (Caused by ConnectTimeoutError(<urllib3.connection.HTTPSConnection object at 0x000002691DDA5B50>, 'Connection to mogi.vn timed out. (connect timeout=10)'))\n"
     ]
    },
    {
     "name": "stderr",
     "output_type": "stream",
     "text": [
      "  → Crawl song song:  61%|██████    | 61/100 [00:29<00:24,  1.57it/s]"
     ]
    },
    {
     "name": "stdout",
     "output_type": "stream",
     "text": [
      "Lỗi khi xử lý https://mogi.vn/quan-hai-ba-trung/mua-nha-hem-ngo/cc-ban-gap-nha-pho-dai-co-viet-45m2-5-tang-gia-6-6-ty-kd-oto-id22588507: HTTPSConnectionPool(host='mogi.vn', port=443): Max retries exceeded with url: /quan-hai-ba-trung/mua-nha-hem-ngo/cc-ban-gap-nha-pho-dai-co-viet-45m2-5-tang-gia-6-6-ty-kd-oto-id22588507 (Caused by ConnectTimeoutError(<urllib3.connection.HTTPSConnection object at 0x000002691DAF2DB0>, 'Connection to mogi.vn timed out. (connect timeout=10)'))\n",
      "Lỗi khi xử lý https://mogi.vn/quan-ha-dong/mua-nha-mat-tien-pho/ban-nha-nga-4-van-phuc-o-to-vao-nha-ha-dong-5-tang-dt-id22566013: HTTPSConnectionPool(host='mogi.vn', port=443): Max retries exceeded with url: /quan-ha-dong/mua-nha-mat-tien-pho/ban-nha-nga-4-van-phuc-o-to-vao-nha-ha-dong-5-tang-dt-id22566013 (Caused by ConnectTimeoutError(<urllib3.connection.HTTPSConnection object at 0x000002691BF811F0>, 'Connection to mogi.vn timed out. (connect timeout=10)'))\n"
     ]
    },
    {
     "name": "stderr",
     "output_type": "stream",
     "text": [
      "  → Crawl song song:  64%|██████▍   | 64/100 [00:29<00:11,  3.15it/s]"
     ]
    },
    {
     "name": "stdout",
     "output_type": "stream",
     "text": [
      "Lỗi khi xử lý https://mogi.vn/quan-dong-da/mua-nha-hem-ngo/nha-4-tang-lo-goc-3-mat-ngo-thoang-dep-gan-o-to-phuong-mai-5-95-ty-id22588284: HTTPSConnectionPool(host='mogi.vn', port=443): Max retries exceeded with url: /quan-dong-da/mua-nha-hem-ngo/nha-4-tang-lo-goc-3-mat-ngo-thoang-dep-gan-o-to-phuong-mai-5-95-ty-id22588284 (Caused by ConnectTimeoutError(<urllib3.connection.HTTPSConnection object at 0x000002691C1C8920>, 'Connection to mogi.vn timed out. (connect timeout=10)'))\n",
      "Lỗi khi xử lý https://mogi.vn/quan-cau-giay/mua-nha-hem-ngo/ban-nha-duong-quang-ham-cau-giay-dt-48m-5-tang-mt-6m-gia-14-5-ty-id22588335: HTTPSConnectionPool(host='mogi.vn', port=443): Max retries exceeded with url: /quan-cau-giay/mua-nha-hem-ngo/ban-nha-duong-quang-ham-cau-giay-dt-48m-5-tang-mt-6m-gia-14-5-ty-id22588335 (Caused by ConnectTimeoutError(<urllib3.connection.HTTPSConnection object at 0x000002691C1C9B80>, 'Connection to mogi.vn timed out. (connect timeout=10)'))\n"
     ]
    },
    {
     "name": "stderr",
     "output_type": "stream",
     "text": [
      "  → Crawl song song:  66%|██████▌   | 66/100 [00:30<00:07,  4.31it/s]"
     ]
    },
    {
     "name": "stdout",
     "output_type": "stream",
     "text": [
      "Lỗi khi xử lý https://mogi.vn/quan-dong-da/mua-duong-noi-bo/32mx6t-mt4-1m-6-9-ty-van-huong-dong-da-ngo-nong-tang-noi-that-id22588375: HTTPSConnectionPool(host='mogi.vn', port=443): Max retries exceeded with url: /quan-dong-da/mua-duong-noi-bo/32mx6t-mt4-1m-6-9-ty-van-huong-dong-da-ngo-nong-tang-noi-that-id22588375 (Caused by ConnectTimeoutError(<urllib3.connection.HTTPSConnection object at 0x000002691C1CA7B0>, 'Connection to mogi.vn timed out. (connect timeout=10)'))\n"
     ]
    },
    {
     "name": "stderr",
     "output_type": "stream",
     "text": [
      "  → Crawl song song: 100%|██████████| 100/100 [00:36<00:00,  2.71it/s]\n"
     ]
    },
    {
     "name": "stdout",
     "output_type": "stream",
     "text": [
      " ✅ Đã lưu batch 93/161 (80 bản ghi).\n",
      "\n",
      "Đang xử lý batch 94/161 (100 link)...\n"
     ]
    },
    {
     "name": "stderr",
     "output_type": "stream",
     "text": [
      "  → Crawl song song: 100%|██████████| 100/100 [00:17<00:00,  5.60it/s]\n"
     ]
    },
    {
     "name": "stdout",
     "output_type": "stream",
     "text": [
      " ✅ Đã lưu batch 94/161 (100 bản ghi).\n",
      "\n",
      "Đang xử lý batch 95/161 (100 link)...\n"
     ]
    },
    {
     "name": "stderr",
     "output_type": "stream",
     "text": [
      "  → Crawl song song: 100%|██████████| 100/100 [00:18<00:00,  5.27it/s]\n"
     ]
    },
    {
     "name": "stdout",
     "output_type": "stream",
     "text": [
      " ✅ Đã lưu batch 95/161 (100 bản ghi).\n",
      "\n",
      "Đang xử lý batch 96/161 (100 link)...\n"
     ]
    },
    {
     "name": "stderr",
     "output_type": "stream",
     "text": [
      "  → Crawl song song: 100%|██████████| 100/100 [00:19<00:00,  5.19it/s]\n"
     ]
    },
    {
     "name": "stdout",
     "output_type": "stream",
     "text": [
      " ✅ Đã lưu batch 96/161 (100 bản ghi).\n",
      "\n",
      "Đang xử lý batch 97/161 (100 link)...\n"
     ]
    },
    {
     "name": "stderr",
     "output_type": "stream",
     "text": [
      "  → Crawl song song: 100%|██████████| 100/100 [00:19<00:00,  5.19it/s]\n"
     ]
    },
    {
     "name": "stdout",
     "output_type": "stream",
     "text": [
      " ✅ Đã lưu batch 97/161 (100 bản ghi).\n",
      "\n",
      "Đang xử lý batch 98/161 (100 link)...\n"
     ]
    },
    {
     "name": "stderr",
     "output_type": "stream",
     "text": [
      "  → Crawl song song: 100%|██████████| 100/100 [00:18<00:00,  5.45it/s]\n"
     ]
    },
    {
     "name": "stdout",
     "output_type": "stream",
     "text": [
      " ✅ Đã lưu batch 98/161 (100 bản ghi).\n",
      "\n",
      "Đang xử lý batch 99/161 (100 link)...\n"
     ]
    },
    {
     "name": "stderr",
     "output_type": "stream",
     "text": [
      "  → Crawl song song: 100%|██████████| 100/100 [00:18<00:00,  5.49it/s]\n"
     ]
    },
    {
     "name": "stdout",
     "output_type": "stream",
     "text": [
      " ✅ Đã lưu batch 99/161 (100 bản ghi).\n",
      "\n",
      "Đang xử lý batch 100/161 (100 link)...\n"
     ]
    },
    {
     "name": "stderr",
     "output_type": "stream",
     "text": [
      "  → Crawl song song: 100%|██████████| 100/100 [00:18<00:00,  5.40it/s]\n"
     ]
    },
    {
     "name": "stdout",
     "output_type": "stream",
     "text": [
      " ✅ Đã lưu batch 100/161 (100 bản ghi).\n",
      "\n",
      "Đang xử lý batch 101/161 (100 link)...\n"
     ]
    },
    {
     "name": "stderr",
     "output_type": "stream",
     "text": [
      "  → Crawl song song: 100%|██████████| 100/100 [00:18<00:00,  5.47it/s]\n"
     ]
    },
    {
     "name": "stdout",
     "output_type": "stream",
     "text": [
      " ✅ Đã lưu batch 101/161 (100 bản ghi).\n",
      "\n",
      "Đang xử lý batch 102/161 (100 link)...\n"
     ]
    },
    {
     "name": "stderr",
     "output_type": "stream",
     "text": [
      "  → Crawl song song: 100%|██████████| 100/100 [00:18<00:00,  5.35it/s]\n"
     ]
    },
    {
     "name": "stdout",
     "output_type": "stream",
     "text": [
      " ✅ Đã lưu batch 102/161 (100 bản ghi).\n",
      "\n",
      "Đang xử lý batch 103/161 (100 link)...\n"
     ]
    },
    {
     "name": "stderr",
     "output_type": "stream",
     "text": [
      "  → Crawl song song:   2%|▏         | 2/100 [00:10<07:17,  4.47s/it]"
     ]
    },
    {
     "name": "stdout",
     "output_type": "stream",
     "text": [
      "Lỗi khi xử lý https://mogi.vn/quan-thanh-xuan/mua-nha-mat-tien-pho/ban-gap-nha-mat-pho-vuong-thua-vu-108m2-6-tang-mat-tien-9m-chi-48-ty-id22558465: HTTPSConnectionPool(host='mogi.vn', port=443): Max retries exceeded with url: /quan-thanh-xuan/mua-nha-mat-tien-pho/ban-gap-nha-mat-pho-vuong-thua-vu-108m2-6-tang-mat-tien-9m-chi-48-ty-id22558465 (Caused by ConnectTimeoutError(<urllib3.connection.HTTPSConnection object at 0x000002691BD12D50>, 'Connection to mogi.vn timed out. (connect timeout=10)'))\n",
      "Lỗi khi xử lý https://mogi.vn/quan-nam-tu-liem/mua-nha-biet-thu-lien-ke/chu-ban-nhanh-biet-thu-my-dinh-nam-tu-liem-duoi-20-ty-dt-80m2-5-tang-id22575968: HTTPSConnectionPool(host='mogi.vn', port=443): Max retries exceeded with url: /quan-nam-tu-liem/mua-nha-biet-thu-lien-ke/chu-ban-nhanh-biet-thu-my-dinh-nam-tu-liem-duoi-20-ty-dt-80m2-5-tang-id22575968 (Caused by ConnectTimeoutError(<urllib3.connection.HTTPSConnection object at 0x000002691BD13FB0>, 'Connection to mogi.vn timed out. (connect timeout=10)'))\n",
      "Lỗi khi xử lý https://mogi.vn/huyen-thanh-tri-ha-noi/mua-nha-mat-tien-pho/ban-nha-ta-thanh-oai-ngo-rong-40m-gia-3-95-ty-id22575808: HTTPSConnectionPool(host='mogi.vn', port=443): Max retries exceeded with url: /huyen-thanh-tri-ha-noi/mua-nha-mat-tien-pho/ban-nha-ta-thanh-oai-ngo-rong-40m-gia-3-95-ty-id22575808 (Caused by ConnectTimeoutError(<urllib3.connection.HTTPSConnection object at 0x000002691BD11430>, 'Connection to mogi.vn timed out. (connect timeout=10)'))\n",
      "Lỗi khi xử lý https://mogi.vn/quan-hoang-mai/mua-nha-mat-tien-pho/41m2-5-tang-moi-tinh-minh-khai-6-phong-ngu-ba-gac-chi-5-9-ty-id22575154: HTTPSConnectionPool(host='mogi.vn', port=443): Max retries exceeded with url: /quan-hoang-mai/mua-nha-mat-tien-pho/41m2-5-tang-moi-tinh-minh-khai-6-phong-ngu-ba-gac-chi-5-9-ty-id22575154 (Caused by ConnectTimeoutError(<urllib3.connection.HTTPSConnection object at 0x000002691BD12600>, 'Connection to mogi.vn timed out. (connect timeout=10)'))\n",
      "Lỗi khi xử lý https://mogi.vn/quan-tay-ho/mua-nha-mat-tien-pho/ban-nha-tay-ho-ngo-xuan-dinh-6-85-ty-50m2-mt-6-2m-oto-do-id22573163: HTTPSConnectionPool(host='mogi.vn', port=443): Max retries exceeded with url: /quan-tay-ho/mua-nha-mat-tien-pho/ban-nha-tay-ho-ngo-xuan-dinh-6-85-ty-50m2-mt-6-2m-oto-do-id22573163 (Caused by ConnectTimeoutError(<urllib3.connection.HTTPSConnection object at 0x000002691BD13F80>, 'Connection to mogi.vn timed out. (connect timeout=10)'))\n"
     ]
    },
    {
     "name": "stderr",
     "output_type": "stream",
     "text": [
      "  → Crawl song song:   7%|▋         | 7/100 [00:11<01:12,  1.29it/s]"
     ]
    },
    {
     "name": "stdout",
     "output_type": "stream",
     "text": [
      "Lỗi khi xử lý https://mogi.vn/quan-long-bien/mua-nha-hem-ngo/ban-nha-sai-dong-long-bien-gia-3-ty-55m2-mat-tien-rong-o-to-tranh-id22576142: HTTPSConnectionPool(host='mogi.vn', port=443): Max retries exceeded with url: /quan-long-bien/mua-nha-hem-ngo/ban-nha-sai-dong-long-bien-gia-3-ty-55m2-mat-tien-rong-o-to-tranh-id22576142 (Caused by ConnectTimeoutError(<urllib3.connection.HTTPSConnection object at 0x000002691BD12540>, 'Connection to mogi.vn timed out. (connect timeout=10)'))\n",
      "Lỗi khi xử lý https://mogi.vn/quan-dong-da/mua-nha-biet-thu-lien-ke/ban-gap-nha-phan-lo-thai-ha-80m2-mat-tien-6-5m-chi-13-ty-o-to-tranh-id22558463: HTTPSConnectionPool(host='mogi.vn', port=443): Max retries exceeded with url: /quan-dong-da/mua-nha-biet-thu-lien-ke/ban-gap-nha-phan-lo-thai-ha-80m2-mat-tien-6-5m-chi-13-ty-o-to-tranh-id22558463 (Caused by ConnectTimeoutError(<urllib3.connection.HTTPSConnection object at 0x000002691C28DC10>, 'Connection to mogi.vn timed out. (connect timeout=10)'))\n",
      "Lỗi khi xử lý https://mogi.vn/quan-cau-giay/mua-nha-hem-ngo/ccmn-7-tang-pho-cau-giay-lo-goc-thang-may-11-phong-kin-gia-11-5-ty-id22575987: HTTPSConnectionPool(host='mogi.vn', port=443): Max retries exceeded with url: /quan-cau-giay/mua-nha-hem-ngo/ccmn-7-tang-pho-cau-giay-lo-goc-thang-may-11-phong-kin-gia-11-5-ty-id22575987 (Caused by ConnectTimeoutError(<urllib3.connection.HTTPSConnection object at 0x000002691C28FF20>, 'Connection to mogi.vn timed out. (connect timeout=10)'))\n"
     ]
    },
    {
     "name": "stderr",
     "output_type": "stream",
     "text": [
      "  → Crawl song song:   9%|▉         | 9/100 [00:11<00:47,  1.93it/s]"
     ]
    },
    {
     "name": "stdout",
     "output_type": "stream",
     "text": [
      "Lỗi khi xử lý https://mogi.vn/quan-ba-dinh/mua-nha-mat-tien-pho/ban-nha-mat-pho-doc-ngu-40m2-mat-tien-8m-chi-8-ty-kinh-doanh-dinh-id22558464: HTTPSConnectionPool(host='mogi.vn', port=443): Max retries exceeded with url: /quan-ba-dinh/mua-nha-mat-tien-pho/ban-nha-mat-pho-doc-ngu-40m2-mat-tien-8m-chi-8-ty-kinh-doanh-dinh-id22558464 (Caused by ConnectTimeoutError(<urllib3.connection.HTTPSConnection object at 0x000002691C28FF80>, 'Connection to mogi.vn timed out. (connect timeout=10)'))\n",
      "Lỗi khi xử lý https://mogi.vn/quan-hai-ba-trung/mua-nha-biet-thu-lien-ke/chinh-chu-can-ban-gap-nha-phan-lo-hai-ba-trung-o-to-do-kinh-doanh-id22575551: HTTPSConnectionPool(host='mogi.vn', port=443): Max retries exceeded with url: /quan-hai-ba-trung/mua-nha-biet-thu-lien-ke/chinh-chu-can-ban-gap-nha-phan-lo-hai-ba-trung-o-to-do-kinh-doanh-id22575551 (Caused by ConnectTimeoutError(<urllib3.connection.HTTPSConnection object at 0x000002691C28C710>, 'Connection to mogi.vn timed out. (connect timeout=10)'))\n"
     ]
    },
    {
     "name": "stderr",
     "output_type": "stream",
     "text": [
      "  → Crawl song song:  17%|█▋        | 17/100 [00:21<01:40,  1.21s/it]"
     ]
    },
    {
     "name": "stdout",
     "output_type": "stream",
     "text": [
      "Lỗi khi xử lý https://mogi.vn/quan-ha-dong/mua-nha-hem-ngo/nha-trung-tam-ha-dong-nam-trong-khu-dan-tri-cao-vai-buoc-ra-pho-cho-id22575245: HTTPSConnectionPool(host='mogi.vn', port=443): Max retries exceeded with url: /quan-ha-dong/mua-nha-hem-ngo/nha-trung-tam-ha-dong-nam-trong-khu-dan-tri-cao-vai-buoc-ra-pho-cho-id22575245 (Caused by ConnectTimeoutError(<urllib3.connection.HTTPSConnection object at 0x000002691C28CBF0>, 'Connection to mogi.vn timed out. (connect timeout=10)'))\n",
      "Lỗi khi xử lý https://mogi.vn/huyen-thanh-tri-ha-noi/mua-nha-hem-ngo/ban-nha-ta-thanh-oai-kinh-doanh-tot-68m-gia-5-5-ty-id22575474: HTTPSConnectionPool(host='mogi.vn', port=443): Max retries exceeded with url: /huyen-thanh-tri-ha-noi/mua-nha-hem-ngo/ban-nha-ta-thanh-oai-kinh-doanh-tot-68m-gia-5-5-ty-id22575474 (Caused by ConnectTimeoutError(<urllib3.connection.HTTPSConnection object at 0x000002691C556330>, 'Connection to mogi.vn timed out. (connect timeout=10)'))\n",
      "Lỗi khi xử lý https://mogi.vn/huyen-thanh-tri-ha-noi/mua-nha-mat-tien-pho/ban-nha-ta-thanh-oai-gan-o-to-45m-gia-3-3-ty-id22575563: HTTPSConnectionPool(host='mogi.vn', port=443): Max retries exceeded with url: /huyen-thanh-tri-ha-noi/mua-nha-mat-tien-pho/ban-nha-ta-thanh-oai-gan-o-to-45m-gia-3-3-ty-id22575563 (Caused by ConnectTimeoutError(<urllib3.connection.HTTPSConnection object at 0x000002691C28DD90>, 'Connection to mogi.vn timed out. (connect timeout=10)'))\n"
     ]
    },
    {
     "name": "stderr",
     "output_type": "stream",
     "text": [
      "  → Crawl song song:  20%|██        | 20/100 [00:21<00:48,  1.64it/s]"
     ]
    },
    {
     "name": "stdout",
     "output_type": "stream",
     "text": [
      "Lỗi khi xử lý https://mogi.vn/quan-tay-ho/mua-nha-mat-tien-pho/can-ban-gap-nha-pho-xuan-dinh-gia-chi-nhinh-6-ty-trong-thang-nay-id22575645: HTTPSConnectionPool(host='mogi.vn', port=443): Max retries exceeded with url: /quan-tay-ho/mua-nha-mat-tien-pho/can-ban-gap-nha-pho-xuan-dinh-gia-chi-nhinh-6-ty-trong-thang-nay-id22575645 (Caused by ConnectTimeoutError(<urllib3.connection.HTTPSConnection object at 0x000002691C557800>, 'Connection to mogi.vn timed out. (connect timeout=10)'))\n"
     ]
    },
    {
     "name": "stderr",
     "output_type": "stream",
     "text": [
      "  → Crawl song song:  21%|██        | 21/100 [00:22<00:42,  1.87it/s]"
     ]
    },
    {
     "name": "stdout",
     "output_type": "stream",
     "text": [
      "Lỗi khi xử lý https://mogi.vn/quan-ha-dong/mua-nha-hem-ngo/nha-dep-pho-van-phuc-chu-da-giam-100tr-cho-khach-hang-thien-tri-mua-id22574682: HTTPSConnectionPool(host='mogi.vn', port=443): Max retries exceeded with url: /quan-ha-dong/mua-nha-hem-ngo/nha-dep-pho-van-phuc-chu-da-giam-100tr-cho-khach-hang-thien-tri-mua-id22574682 (Caused by ConnectTimeoutError(<urllib3.connection.HTTPSConnection object at 0x000002691C28F4A0>, 'Connection to mogi.vn timed out. (connect timeout=10)'))\n",
      "Lỗi khi xử lý https://mogi.vn/quan-nam-tu-liem/mua-nha-biet-thu-lien-ke/chu-gui-ban-biet-thu-san-vuon-dang-cap-me-tri-gan-450m2-xay-5-tang-id22575476: HTTPSConnectionPool(host='mogi.vn', port=443): Max retries exceeded with url: /quan-nam-tu-liem/mua-nha-biet-thu-lien-ke/chu-gui-ban-biet-thu-san-vuon-dang-cap-me-tri-gan-450m2-xay-5-tang-id22575476 (Caused by ConnectTimeoutError(<urllib3.connection.HTTPSConnection object at 0x000002691C28E930>, 'Connection to mogi.vn timed out. (connect timeout=10)'))\n"
     ]
    },
    {
     "name": "stderr",
     "output_type": "stream",
     "text": [
      "  → Crawl song song:  23%|██▎       | 23/100 [00:22<00:30,  2.57it/s]"
     ]
    },
    {
     "name": "stdout",
     "output_type": "stream",
     "text": [
      "Lỗi khi xử lý https://mogi.vn/quan-hai-ba-trung/mua-nha-hem-ngo/ban-can-rieng-pho-bach-mai-86m-4-tang-mt-4-2m-nhinh-12-ty-id22573830: HTTPSConnectionPool(host='mogi.vn', port=443): Max retries exceeded with url: /quan-hai-ba-trung/mua-nha-hem-ngo/ban-can-rieng-pho-bach-mai-86m-4-tang-mt-4-2m-nhinh-12-ty-id22573830 (Caused by ConnectTimeoutError(<urllib3.connection.HTTPSConnection object at 0x000002691C28D2E0>, 'Connection to mogi.vn timed out. (connect timeout=10)'))\n",
      "Lỗi khi xử lý https://mogi.vn/quan-tay-ho/mua-nha-mat-tien-pho/can-nha-pho-xuan-dinh-ly-tuong-50m2-4-tang-gia-chi-nhinh-6-ty-id22575638: HTTPSConnectionPool(host='mogi.vn', port=443): Max retries exceeded with url: /quan-tay-ho/mua-nha-mat-tien-pho/can-nha-pho-xuan-dinh-ly-tuong-50m2-4-tang-gia-chi-nhinh-6-ty-id22575638 (Caused by ConnectTimeoutError(<urllib3.connection.HTTPSConnection object at 0x000002691BD10770>, 'Connection to mogi.vn timed out. (connect timeout=10)'))\n"
     ]
    },
    {
     "name": "stderr",
     "output_type": "stream",
     "text": [
      "  → Crawl song song:  34%|███▍      | 34/100 [00:24<00:13,  4.81it/s]"
     ]
    },
    {
     "name": "stdout",
     "output_type": "stream",
     "text": [
      "Lỗi khi xử lý https://mogi.vn/quan-cau-giay/mua-nha-hem-ngo/ban-nha-dan-xay-ngo-nong-30m-ra-pho-khu-vuc-yen-hoa-cau-giay-id22574680: HTTPSConnectionPool(host='mogi.vn', port=443): Max retries exceeded with url: /quan-cau-giay/mua-nha-hem-ngo/ban-nha-dan-xay-ngo-nong-30m-ra-pho-khu-vuc-yen-hoa-cau-giay-id22574680 (Caused by ConnectTimeoutError(<urllib3.connection.HTTPSConnection object at 0x000002691C557350>, 'Connection to mogi.vn timed out. (connect timeout=10)'))\n"
     ]
    },
    {
     "name": "stderr",
     "output_type": "stream",
     "text": [
      "  → Crawl song song: 100%|██████████| 100/100 [00:36<00:00,  2.76it/s]\n"
     ]
    },
    {
     "name": "stdout",
     "output_type": "stream",
     "text": [
      " ✅ Đã lưu batch 103/161 (81 bản ghi).\n",
      "\n",
      "Đang xử lý batch 104/161 (100 link)...\n"
     ]
    },
    {
     "name": "stderr",
     "output_type": "stream",
     "text": [
      "  → Crawl song song: 100%|██████████| 100/100 [00:18<00:00,  5.35it/s]\n"
     ]
    },
    {
     "name": "stdout",
     "output_type": "stream",
     "text": [
      " ✅ Đã lưu batch 104/161 (100 bản ghi).\n",
      "\n",
      "Đang xử lý batch 105/161 (100 link)...\n"
     ]
    },
    {
     "name": "stderr",
     "output_type": "stream",
     "text": [
      "  → Crawl song song: 100%|██████████| 100/100 [00:18<00:00,  5.32it/s]\n"
     ]
    },
    {
     "name": "stdout",
     "output_type": "stream",
     "text": [
      " ✅ Đã lưu batch 105/161 (100 bản ghi).\n",
      "\n",
      "Đang xử lý batch 106/161 (100 link)...\n"
     ]
    },
    {
     "name": "stderr",
     "output_type": "stream",
     "text": [
      "  → Crawl song song: 100%|██████████| 100/100 [00:18<00:00,  5.42it/s]\n"
     ]
    },
    {
     "name": "stdout",
     "output_type": "stream",
     "text": [
      " ✅ Đã lưu batch 106/161 (100 bản ghi).\n",
      "\n",
      "Đang xử lý batch 107/161 (100 link)...\n"
     ]
    },
    {
     "name": "stderr",
     "output_type": "stream",
     "text": [
      "  → Crawl song song:  70%|███████   | 70/100 [00:23<00:41,  1.40s/it]"
     ]
    },
    {
     "name": "stdout",
     "output_type": "stream",
     "text": [
      "Lỗi khi xử lý https://mogi.vn/quan-cau-giay/mua-nha-hem-ngo/ga-de-trung-vang-8-tang-thang-may-full-noi-that-pho-dich-vong-12-5-ty-id22269983: HTTPSConnectionPool(host='mogi.vn', port=443): Max retries exceeded with url: /quan-cau-giay/mua-nha-hem-ngo/ga-de-trung-vang-8-tang-thang-may-full-noi-that-pho-dich-vong-12-5-ty-id22269983 (Caused by ConnectTimeoutError(<urllib3.connection.HTTPSConnection object at 0x000002691BE1A750>, 'Connection to mogi.vn timed out. (connect timeout=10)'))\n",
      "Lỗi khi xử lý https://mogi.vn/quan-long-bien/mua-duong-noi-bo/ban-nha-dep-long-bien-32m-5-tang-3-ngu-gan-oto-nha-moi-90-id22569262: HTTPSConnectionPool(host='mogi.vn', port=443): Max retries exceeded with url: /quan-long-bien/mua-duong-noi-bo/ban-nha-dep-long-bien-32m-5-tang-3-ngu-gan-oto-nha-moi-90-id22569262 (Caused by ConnectTimeoutError(<urllib3.connection.HTTPSConnection object at 0x000002691B184D40>, 'Connection to mogi.vn timed out. (connect timeout=10)'))\n"
     ]
    },
    {
     "name": "stderr",
     "output_type": "stream",
     "text": [
      "  → Crawl song song:  73%|███████▎  | 73/100 [00:23<00:20,  1.33it/s]"
     ]
    },
    {
     "name": "stdout",
     "output_type": "stream",
     "text": [
      "Lỗi khi xử lý https://mogi.vn/quan-long-bien/mua-nha-mat-tien-pho/ban-nha-thach-ban-long-bien-o-to-vao-nha-ngo-rong-id22569364: HTTPSConnectionPool(host='mogi.vn', port=443): Max retries exceeded with url: /quan-long-bien/mua-nha-mat-tien-pho/ban-nha-thach-ban-long-bien-o-to-vao-nha-ngo-rong-id22569364 (Caused by ConnectTimeoutError(<urllib3.connection.HTTPSConnection object at 0x000002691B1857C0>, 'Connection to mogi.vn timed out. (connect timeout=10)'))\n",
      "Lỗi khi xử lý https://mogi.vn/quan-long-bien/mua-nha-mat-tien-pho/ban-dat-phuong-sai-dong-long-bien-o-to-vao-dat-lo-goc-id22569484: HTTPSConnectionPool(host='mogi.vn', port=443): Max retries exceeded with url: /quan-long-bien/mua-nha-mat-tien-pho/ban-dat-phuong-sai-dong-long-bien-o-to-vao-dat-lo-goc-id22569484 (Caused by ConnectTimeoutError(<urllib3.connection.HTTPSConnection object at 0x000002691B87BE90>, 'Connection to mogi.vn timed out. (connect timeout=10)'))\n",
      "Lỗi khi xử lý https://mogi.vn/quan-long-bien/mua-nha-mat-tien-pho/ban-nha-thach-ban-long-bien-gan-aeon-o-to-do-cong-id22569473: HTTPSConnectionPool(host='mogi.vn', port=443): Max retries exceeded with url: /quan-long-bien/mua-nha-mat-tien-pho/ban-nha-thach-ban-long-bien-gan-aeon-o-to-do-cong-id22569473 (Caused by ConnectTimeoutError(<urllib3.connection.HTTPSConnection object at 0x000002691C2F9C70>, 'Connection to mogi.vn timed out. (connect timeout=10)'))\n",
      "Lỗi khi xử lý https://mogi.vn/quan-nam-tu-liem/mua-nha-hem-ngo/can-ban-nha-phu-dien-40m2-6tang-4m-rong-6-5-ty-gan-duong-phu-dien-duon-id22569221: HTTPSConnectionPool(host='mogi.vn', port=443): Max retries exceeded with url: /quan-nam-tu-liem/mua-nha-hem-ngo/can-ban-nha-phu-dien-40m2-6tang-4m-rong-6-5-ty-gan-duong-phu-dien-duon-id22569221 (Caused by ConnectTimeoutError(<urllib3.connection.HTTPSConnection object at 0x000002691C074F20>, 'Connection to mogi.vn timed out. (connect timeout=10)'))\n"
     ]
    },
    {
     "name": "stderr",
     "output_type": "stream",
     "text": [
      "  → Crawl song song:  76%|███████▌  | 76/100 [00:24<00:11,  2.06it/s]"
     ]
    },
    {
     "name": "stdout",
     "output_type": "stream",
     "text": [
      "Lỗi khi xử lý https://mogi.vn/quan-ba-dinh/mua-duong-noi-bo/chinh-chu-ban-nha-72-ngach-173-63-hoang-hoa-tham-bd-hn-id22569519: HTTPSConnectionPool(host='mogi.vn', port=443): Max retries exceeded with url: /quan-ba-dinh/mua-duong-noi-bo/chinh-chu-ban-nha-72-ngach-173-63-hoang-hoa-tham-bd-hn-id22569519 (Caused by ConnectTimeoutError(<urllib3.connection.HTTPSConnection object at 0x000002691C0753A0>, 'Connection to mogi.vn timed out. (connect timeout=10)'))\n",
      "Lỗi khi xử lý https://mogi.vn/quan-bac-tu-liem/mua-nha-hem-ngo/ban-nha-xuan-dinh-bai-do-o-to-ngay-canh-39m-4-8-ty-id22569204: HTTPSConnectionPool(host='mogi.vn', port=443): Max retries exceeded with url: /quan-bac-tu-liem/mua-nha-hem-ngo/ban-nha-xuan-dinh-bai-do-o-to-ngay-canh-39m-4-8-ty-id22569204 (Caused by ConnectTimeoutError(<urllib3.connection.HTTPSConnection object at 0x000002691C077440>, 'Connection to mogi.vn timed out. (connect timeout=10)'))\n"
     ]
    },
    {
     "name": "stderr",
     "output_type": "stream",
     "text": [
      "  → Crawl song song:  77%|███████▋  | 77/100 [00:24<00:09,  2.35it/s]"
     ]
    },
    {
     "name": "stdout",
     "output_type": "stream",
     "text": [
      "Lỗi khi xử lý https://mogi.vn/quan-bac-tu-liem/mua-nha-hem-ngo/ban-nha-xuan-dinh-vai-buoc-toi-duong-40m-3-6-ty-id22569203: HTTPSConnectionPool(host='mogi.vn', port=443): Max retries exceeded with url: /quan-bac-tu-liem/mua-nha-hem-ngo/ban-nha-xuan-dinh-vai-buoc-toi-duong-40m-3-6-ty-id22569203 (Caused by ConnectTimeoutError(<urllib3.connection.HTTPSConnection object at 0x000002691C075640>, 'Connection to mogi.vn timed out. (connect timeout=10)'))\n",
      "Lỗi khi xử lý https://mogi.vn/quan-thanh-xuan/mua-nha-mat-tien-pho/nha-pho-kim-giang-khu-can-bo-lo-goc-thoang-o-to-do-cua-5-tang-6-8ti-id22569343: HTTPSConnectionPool(host='mogi.vn', port=443): Max retries exceeded with url: /quan-thanh-xuan/mua-nha-mat-tien-pho/nha-pho-kim-giang-khu-can-bo-lo-goc-thoang-o-to-do-cua-5-tang-6-8ti-id22569343 (Caused by ConnectTimeoutError(<urllib3.connection.HTTPSConnection object at 0x000002691C077080>, 'Connection to mogi.vn timed out. (connect timeout=10)'))\n"
     ]
    },
    {
     "name": "stderr",
     "output_type": "stream",
     "text": [
      "  → Crawl song song:  79%|███████▉  | 79/100 [00:33<00:43,  2.08s/it]"
     ]
    },
    {
     "name": "stdout",
     "output_type": "stream",
     "text": [
      "Lỗi khi xử lý https://mogi.vn/quan-ba-dinh/mua-nha-hem-ngo/sieu-hiem-trong-phan-khuc-ba-dinh-truoc-nha-ba-gac-thoai-mai-full-id22569585: HTTPSConnectionPool(host='mogi.vn', port=443): Max retries exceeded with url: /quan-ba-dinh/mua-nha-hem-ngo/sieu-hiem-trong-phan-khuc-ba-dinh-truoc-nha-ba-gac-thoai-mai-full-id22569585 (Caused by ConnectTimeoutError(<urllib3.connection.HTTPSConnection object at 0x000002691BFFB440>, 'Connection to mogi.vn timed out. (connect timeout=10)'))\n"
     ]
    },
    {
     "name": "stderr",
     "output_type": "stream",
     "text": [
      "  → Crawl song song:  80%|████████  | 80/100 [00:33<00:33,  1.68s/it]"
     ]
    },
    {
     "name": "stdout",
     "output_type": "stream",
     "text": [
      "Lỗi khi xử lý https://mogi.vn/quan-thanh-xuan/mua-nha-hem-ngo/ban-nha-hoang-van-thai-45m2x4-tang-lo-goc-ngo-o-to-xay-moi-thang-id22569280: HTTPSConnectionPool(host='mogi.vn', port=443): Max retries exceeded with url: /quan-thanh-xuan/mua-nha-hem-ngo/ban-nha-hoang-van-thai-45m2x4-tang-lo-goc-ngo-o-to-xay-moi-thang-id22569280 (Caused by ConnectTimeoutError(<urllib3.connection.HTTPSConnection object at 0x000002691BFFAF60>, 'Connection to mogi.vn timed out. (connect timeout=10)'))\n"
     ]
    },
    {
     "name": "stderr",
     "output_type": "stream",
     "text": [
      "  → Crawl song song:  83%|████████▎ | 83/100 [00:34<00:14,  1.18it/s]"
     ]
    },
    {
     "name": "stdout",
     "output_type": "stream",
     "text": [
      "Lỗi khi xử lý https://mogi.vn/quan-cau-giay/mua-nha-mat-tien-pho/ban-gap-khach-san-cau-giay-pho-nguyen-dinh-hoan-321m2-x-13-tang-150-ty-id22461155: HTTPSConnectionPool(host='mogi.vn', port=443): Max retries exceeded with url: /quan-cau-giay/mua-nha-mat-tien-pho/ban-gap-khach-san-cau-giay-pho-nguyen-dinh-hoan-321m2-x-13-tang-150-ty-id22461155 (Caused by ConnectTimeoutError(<urllib3.connection.HTTPSConnection object at 0x000002691BFFBBF0>, 'Connection to mogi.vn timed out. (connect timeout=10)'))\n",
      "Lỗi khi xử lý https://mogi.vn/quan-cau-giay/mua-nha-mat-tien-pho/ban-gap-toa-building-mat-pho-hoang-quoc-viet-291m2-x-9-tang-170-ty-id22339709: HTTPSConnectionPool(host='mogi.vn', port=443): Max retries exceeded with url: /quan-cau-giay/mua-nha-mat-tien-pho/ban-gap-toa-building-mat-pho-hoang-quoc-viet-291m2-x-9-tang-170-ty-id22339709 (Caused by ConnectTimeoutError(<urllib3.connection.HTTPSConnection object at 0x000002691BFFAA20>, 'Connection to mogi.vn timed out. (connect timeout=10)'))\n",
      "Lỗi khi xử lý https://mogi.vn/quan-tay-ho/mua-nha-mat-tien-pho/sieu-pham-tay-ho-mat-pho-thuy-khue-150m2-x-9-tang-mt-10m-105-ty-lo-goc-id22393789: HTTPSConnectionPool(host='mogi.vn', port=443): Max retries exceeded with url: /quan-tay-ho/mua-nha-mat-tien-pho/sieu-pham-tay-ho-mat-pho-thuy-khue-150m2-x-9-tang-mt-10m-105-ty-lo-goc-id22393789 (Caused by ConnectTimeoutError(<urllib3.connection.HTTPSConnection object at 0x000002691C075D60>, 'Connection to mogi.vn timed out. (connect timeout=10)'))\n",
      "Lỗi khi xử lý https://mogi.vn/quan-cau-giay/mua-nha-mat-tien-pho/ban-gap-nha-mat-pho-vo-chi-cong-cau-giay-400m2x9-tang-mt-13-2m-155-ty-id22396729: HTTPSConnectionPool(host='mogi.vn', port=443): Max retries exceeded with url: /quan-cau-giay/mua-nha-mat-tien-pho/ban-gap-nha-mat-pho-vo-chi-cong-cau-giay-400m2x9-tang-mt-13-2m-155-ty-id22396729 (Caused by ConnectTimeoutError(<urllib3.connection.HTTPSConnection object at 0x000002691C0743E0>, 'Connection to mogi.vn timed out. (connect timeout=10)'))\n",
      "Lỗi khi xử lý https://mogi.vn/quan-cau-giay/mua-nha-mat-tien-pho/ban-gap-nha-dep-pho-do-quang-canh-tran-duy-hung-95m2-x-8-tang-32-ty-id22352393: HTTPSConnectionPool(host='mogi.vn', port=443): Max retries exceeded with url: /quan-cau-giay/mua-nha-mat-tien-pho/ban-gap-nha-dep-pho-do-quang-canh-tran-duy-hung-95m2-x-8-tang-32-ty-id22352393 (Caused by ConnectTimeoutError(<urllib3.connection.HTTPSConnection object at 0x000002691C076D20>, 'Connection to mogi.vn timed out. (connect timeout=10)'))\n"
     ]
    },
    {
     "name": "stderr",
     "output_type": "stream",
     "text": [
      "  → Crawl song song:  86%|████████▌ | 86/100 [00:35<00:07,  1.88it/s]"
     ]
    },
    {
     "name": "stdout",
     "output_type": "stream",
     "text": [
      "Lỗi khi xử lý https://mogi.vn/quan-ba-dinh/mua-nha-mat-tien-pho/ban-gap-nha-ba-dinh-mat-pho-vinh-phuc-80m2-x-7-tang-thang-may-25-ty-id22312280: HTTPSConnectionPool(host='mogi.vn', port=443): Max retries exceeded with url: /quan-ba-dinh/mua-nha-mat-tien-pho/ban-gap-nha-ba-dinh-mat-pho-vinh-phuc-80m2-x-7-tang-thang-may-25-ty-id22312280 (Caused by ConnectTimeoutError(<urllib3.connection.HTTPSConnection object at 0x000002691C2F9670>, 'Connection to mogi.vn timed out. (connect timeout=10)'))\n",
      "Lỗi khi xử lý https://mogi.vn/quan-tay-ho/mua-nha-mat-tien-pho/sieu-pham-biet-thu-tay-ho-mat-pho-au-co-246m2-x-10-tang-102-ty-mt-10m-id22373918: HTTPSConnectionPool(host='mogi.vn', port=443): Max retries exceeded with url: /quan-tay-ho/mua-nha-mat-tien-pho/sieu-pham-biet-thu-tay-ho-mat-pho-au-co-246m2-x-10-tang-102-ty-mt-10m-id22373918 (Caused by ConnectTimeoutError(<urllib3.connection.HTTPSConnection object at 0x000002691B87BDA0>, 'Connection to mogi.vn timed out. (connect timeout=10)'))\n",
      "Lỗi khi xử lý https://mogi.vn/quan-tay-ho/mua-nha-mat-tien-pho/ban-gap-nha-tay-ho-mat-pho-thuy-khue-304m2-gia-55-ty-chi-180tr-m2-id21991409: HTTPSConnectionPool(host='mogi.vn', port=443): Max retries exceeded with url: /quan-tay-ho/mua-nha-mat-tien-pho/ban-gap-nha-tay-ho-mat-pho-thuy-khue-304m2-gia-55-ty-chi-180tr-m2-id21991409 (Caused by ConnectTimeoutError(<urllib3.connection.HTTPSConnection object at 0x000002691B87B470>, 'Connection to mogi.vn timed out. (connect timeout=10)'))\n"
     ]
    },
    {
     "name": "stderr",
     "output_type": "stream",
     "text": [
      "  → Crawl song song: 100%|██████████| 100/100 [00:37<00:00,  2.65it/s]\n"
     ]
    },
    {
     "name": "stdout",
     "output_type": "stream",
     "text": [
      " ✅ Đã lưu batch 107/161 (80 bản ghi).\n",
      "\n",
      "Đang xử lý batch 108/161 (100 link)...\n"
     ]
    },
    {
     "name": "stderr",
     "output_type": "stream",
     "text": [
      "  → Crawl song song: 100%|██████████| 100/100 [00:18<00:00,  5.48it/s]\n"
     ]
    },
    {
     "name": "stdout",
     "output_type": "stream",
     "text": [
      " ✅ Đã lưu batch 108/161 (100 bản ghi).\n",
      "\n",
      "Đang xử lý batch 109/161 (100 link)...\n"
     ]
    },
    {
     "name": "stderr",
     "output_type": "stream",
     "text": [
      "  → Crawl song song: 100%|██████████| 100/100 [00:18<00:00,  5.31it/s]\n"
     ]
    },
    {
     "name": "stdout",
     "output_type": "stream",
     "text": [
      " ✅ Đã lưu batch 109/161 (100 bản ghi).\n",
      "\n",
      "Đang xử lý batch 110/161 (100 link)...\n"
     ]
    },
    {
     "name": "stderr",
     "output_type": "stream",
     "text": [
      "  → Crawl song song: 100%|██████████| 100/100 [00:19<00:00,  5.18it/s]\n"
     ]
    },
    {
     "name": "stdout",
     "output_type": "stream",
     "text": [
      " ✅ Đã lưu batch 110/161 (100 bản ghi).\n",
      "\n",
      "Đang xử lý batch 111/161 (100 link)...\n"
     ]
    },
    {
     "name": "stderr",
     "output_type": "stream",
     "text": [
      "  → Crawl song song: 100%|██████████| 100/100 [00:18<00:00,  5.28it/s]\n"
     ]
    },
    {
     "name": "stdout",
     "output_type": "stream",
     "text": [
      " ✅ Đã lưu batch 111/161 (100 bản ghi).\n",
      "\n",
      "Đang xử lý batch 112/161 (100 link)...\n"
     ]
    },
    {
     "name": "stderr",
     "output_type": "stream",
     "text": [
      "  → Crawl song song: 100%|██████████| 100/100 [00:18<00:00,  5.55it/s]\n"
     ]
    },
    {
     "name": "stdout",
     "output_type": "stream",
     "text": [
      " ✅ Đã lưu batch 112/161 (100 bản ghi).\n",
      "\n",
      "Đang xử lý batch 113/161 (100 link)...\n"
     ]
    },
    {
     "name": "stderr",
     "output_type": "stream",
     "text": [
      "  → Crawl song song: 100%|██████████| 100/100 [00:18<00:00,  5.52it/s]\n"
     ]
    },
    {
     "name": "stdout",
     "output_type": "stream",
     "text": [
      " ✅ Đã lưu batch 113/161 (100 bản ghi).\n",
      "\n",
      "Đang xử lý batch 114/161 (100 link)...\n"
     ]
    },
    {
     "name": "stderr",
     "output_type": "stream",
     "text": [
      "  → Crawl song song: 100%|██████████| 100/100 [00:18<00:00,  5.49it/s]\n"
     ]
    },
    {
     "name": "stdout",
     "output_type": "stream",
     "text": [
      " ✅ Đã lưu batch 114/161 (100 bản ghi).\n",
      "\n",
      "Đang xử lý batch 115/161 (100 link)...\n"
     ]
    },
    {
     "name": "stderr",
     "output_type": "stream",
     "text": [
      "  → Crawl song song: 100%|██████████| 100/100 [00:18<00:00,  5.40it/s]\n"
     ]
    },
    {
     "name": "stdout",
     "output_type": "stream",
     "text": [
      " ✅ Đã lưu batch 115/161 (100 bản ghi).\n",
      "\n",
      "Đang xử lý batch 116/161 (100 link)...\n"
     ]
    },
    {
     "name": "stderr",
     "output_type": "stream",
     "text": [
      "  → Crawl song song: 100%|██████████| 100/100 [00:18<00:00,  5.44it/s]\n"
     ]
    },
    {
     "name": "stdout",
     "output_type": "stream",
     "text": [
      " ✅ Đã lưu batch 116/161 (100 bản ghi).\n",
      "\n",
      "Đang xử lý batch 117/161 (100 link)...\n"
     ]
    },
    {
     "name": "stderr",
     "output_type": "stream",
     "text": [
      "  → Crawl song song: 100%|██████████| 100/100 [00:18<00:00,  5.35it/s]\n"
     ]
    },
    {
     "name": "stdout",
     "output_type": "stream",
     "text": [
      " ✅ Đã lưu batch 117/161 (100 bản ghi).\n",
      "\n",
      "Đang xử lý batch 118/161 (100 link)...\n"
     ]
    },
    {
     "name": "stderr",
     "output_type": "stream",
     "text": [
      "  → Crawl song song: 100%|██████████| 100/100 [00:19<00:00,  5.17it/s]\n"
     ]
    },
    {
     "name": "stdout",
     "output_type": "stream",
     "text": [
      " ✅ Đã lưu batch 118/161 (100 bản ghi).\n",
      "\n",
      "Đang xử lý batch 119/161 (100 link)...\n"
     ]
    },
    {
     "name": "stderr",
     "output_type": "stream",
     "text": [
      "  → Crawl song song: 100%|██████████| 100/100 [00:18<00:00,  5.37it/s]\n"
     ]
    },
    {
     "name": "stdout",
     "output_type": "stream",
     "text": [
      " ✅ Đã lưu batch 119/161 (100 bản ghi).\n",
      "\n",
      "Đang xử lý batch 120/161 (100 link)...\n"
     ]
    },
    {
     "name": "stderr",
     "output_type": "stream",
     "text": [
      "  → Crawl song song: 100%|██████████| 100/100 [00:17<00:00,  5.82it/s]\n"
     ]
    },
    {
     "name": "stdout",
     "output_type": "stream",
     "text": [
      " ✅ Đã lưu batch 120/161 (100 bản ghi).\n",
      "\n",
      "Đang xử lý batch 121/161 (100 link)...\n"
     ]
    },
    {
     "name": "stderr",
     "output_type": "stream",
     "text": [
      "  → Crawl song song: 100%|██████████| 100/100 [00:18<00:00,  5.45it/s]\n"
     ]
    },
    {
     "name": "stdout",
     "output_type": "stream",
     "text": [
      " ✅ Đã lưu batch 121/161 (100 bản ghi).\n",
      "\n",
      "Đang xử lý batch 122/161 (100 link)...\n"
     ]
    },
    {
     "name": "stderr",
     "output_type": "stream",
     "text": [
      "  → Crawl song song: 100%|██████████| 100/100 [00:18<00:00,  5.45it/s]\n"
     ]
    },
    {
     "name": "stdout",
     "output_type": "stream",
     "text": [
      " ✅ Đã lưu batch 122/161 (100 bản ghi).\n",
      "\n",
      "Đang xử lý batch 123/161 (100 link)...\n"
     ]
    },
    {
     "name": "stderr",
     "output_type": "stream",
     "text": [
      "  → Crawl song song: 100%|██████████| 100/100 [00:18<00:00,  5.28it/s]\n"
     ]
    },
    {
     "name": "stdout",
     "output_type": "stream",
     "text": [
      " ✅ Đã lưu batch 123/161 (100 bản ghi).\n",
      "\n",
      "Đang xử lý batch 124/161 (100 link)...\n"
     ]
    },
    {
     "name": "stderr",
     "output_type": "stream",
     "text": [
      "  → Crawl song song: 100%|██████████| 100/100 [00:18<00:00,  5.48it/s]\n"
     ]
    },
    {
     "name": "stdout",
     "output_type": "stream",
     "text": [
      " ✅ Đã lưu batch 124/161 (100 bản ghi).\n",
      "\n",
      "Đang xử lý batch 125/161 (100 link)...\n"
     ]
    },
    {
     "name": "stderr",
     "output_type": "stream",
     "text": [
      "  → Crawl song song: 100%|██████████| 100/100 [00:17<00:00,  5.58it/s]\n"
     ]
    },
    {
     "name": "stdout",
     "output_type": "stream",
     "text": [
      " ✅ Đã lưu batch 125/161 (100 bản ghi).\n",
      "\n",
      "Đang xử lý batch 126/161 (100 link)...\n"
     ]
    },
    {
     "name": "stderr",
     "output_type": "stream",
     "text": [
      "  → Crawl song song: 100%|██████████| 100/100 [00:18<00:00,  5.37it/s]\n"
     ]
    },
    {
     "name": "stdout",
     "output_type": "stream",
     "text": [
      " ✅ Đã lưu batch 126/161 (100 bản ghi).\n",
      "\n",
      "Đang xử lý batch 127/161 (100 link)...\n"
     ]
    },
    {
     "name": "stderr",
     "output_type": "stream",
     "text": [
      "  → Crawl song song: 100%|██████████| 100/100 [00:18<00:00,  5.44it/s]\n"
     ]
    },
    {
     "name": "stdout",
     "output_type": "stream",
     "text": [
      " ✅ Đã lưu batch 127/161 (100 bản ghi).\n",
      "\n",
      "Đang xử lý batch 128/161 (100 link)...\n"
     ]
    },
    {
     "name": "stderr",
     "output_type": "stream",
     "text": [
      "  → Crawl song song: 100%|██████████| 100/100 [00:18<00:00,  5.41it/s]\n"
     ]
    },
    {
     "name": "stdout",
     "output_type": "stream",
     "text": [
      " ✅ Đã lưu batch 128/161 (100 bản ghi).\n",
      "\n",
      "Đang xử lý batch 129/161 (100 link)...\n"
     ]
    },
    {
     "name": "stderr",
     "output_type": "stream",
     "text": [
      "  → Crawl song song:   4%|▍         | 4/100 [00:10<03:39,  2.29s/it]"
     ]
    },
    {
     "name": "stdout",
     "output_type": "stream",
     "text": [
      "Lỗi khi xử lý https://mogi.vn/quan-dong-da/mua-nha-mat-tien-pho/ban-nha-mat-pho-lang-ha-dong-da-kinh-doanh-dinh-60m-4t-gia-18-ty-id22480421: HTTPSConnectionPool(host='mogi.vn', port=443): Max retries exceeded with url: /quan-dong-da/mua-nha-mat-tien-pho/ban-nha-mat-pho-lang-ha-dong-da-kinh-doanh-dinh-60m-4t-gia-18-ty-id22480421 (Caused by ConnectTimeoutError(<urllib3.connection.HTTPSConnection object at 0x000002691A694C80>, 'Connection to mogi.vn timed out. (connect timeout=10)'))\n",
      "Lỗi khi xử lý https://mogi.vn/quan-thanh-xuan/mua-nha-hem-ngo/nha-vuong-thua-vu-o-to-thang-may-60m-6-tang-11-2-ty-id22483283: HTTPSConnectionPool(host='mogi.vn', port=443): Max retries exceeded with url: /quan-thanh-xuan/mua-nha-hem-ngo/nha-vuong-thua-vu-o-to-thang-may-60m-6-tang-11-2-ty-id22483283 (Caused by ConnectTimeoutError(<urllib3.connection.HTTPSConnection object at 0x000002691A696060>, 'Connection to mogi.vn timed out. (connect timeout=10)'))\n",
      "Lỗi khi xử lý https://mogi.vn/quan-thanh-xuan/mua-nha-hem-ngo/ban-voi-ban-nha-dep-phan-lo-khuong-ha-35m-mat-tien-5m-4-tang-3-95-ty-id22470992: HTTPSConnectionPool(host='mogi.vn', port=443): Max retries exceeded with url: /quan-thanh-xuan/mua-nha-hem-ngo/ban-voi-ban-nha-dep-phan-lo-khuong-ha-35m-mat-tien-5m-4-tang-3-95-ty-id22470992 (Caused by ConnectTimeoutError(<urllib3.connection.HTTPSConnection object at 0x000002691BEB4920>, 'Connection to mogi.vn timed out. (connect timeout=10)'))\n"
     ]
    },
    {
     "name": "stderr",
     "output_type": "stream",
     "text": [
      "  → Crawl song song:   7%|▋         | 7/100 [00:11<01:22,  1.12it/s]"
     ]
    },
    {
     "name": "stdout",
     "output_type": "stream",
     "text": [
      "Lỗi khi xử lý https://mogi.vn/quan-thanh-xuan/mua-nha-hem-ngo/ban-nha-khuong-ha-thanh-xuan-o-ngay-gan-ho-35m2-5-tang-gia-3-3-ty-id22233394: HTTPSConnectionPool(host='mogi.vn', port=443): Max retries exceeded with url: /quan-thanh-xuan/mua-nha-hem-ngo/ban-nha-khuong-ha-thanh-xuan-o-ngay-gan-ho-35m2-5-tang-gia-3-3-ty-id22233394 (Caused by ConnectTimeoutError(<urllib3.connection.HTTPSConnection object at 0x000002691BEB4A10>, 'Connection to mogi.vn timed out. (connect timeout=10)'))\n",
      "Lỗi khi xử lý https://mogi.vn/quan-dong-da/mua-nha-hem-ngo/ban-nha-thai-thinh-dong-da-62m2-5t-mt4m-gia-5-4-ty-9-ngu-id22178356: HTTPSConnectionPool(host='mogi.vn', port=443): Max retries exceeded with url: /quan-dong-da/mua-nha-hem-ngo/ban-nha-thai-thinh-dong-da-62m2-5t-mt4m-gia-5-4-ty-9-ngu-id22178356 (Caused by ConnectTimeoutError(<urllib3.connection.HTTPSConnection object at 0x000002691BEB68D0>, 'Connection to mogi.vn timed out. (connect timeout=10)'))\n",
      "Lỗi khi xử lý https://mogi.vn/quan-dong-da/mua-nha-hem-ngo/ban-nha-ton-duc-thang-dong-da-o-to-lo-goc-52m2-4t-mt4m-gia-9-1-ty-id22178562: HTTPSConnectionPool(host='mogi.vn', port=443): Max retries exceeded with url: /quan-dong-da/mua-nha-hem-ngo/ban-nha-ton-duc-thang-dong-da-o-to-lo-goc-52m2-4t-mt4m-gia-9-1-ty-id22178562 (Caused by ConnectTimeoutError(<urllib3.connection.HTTPSConnection object at 0x000002691BEB61E0>, 'Connection to mogi.vn timed out. (connect timeout=10)'))\n"
     ]
    },
    {
     "name": "stderr",
     "output_type": "stream",
     "text": [
      "  → Crawl song song:   9%|▉         | 9/100 [00:11<00:52,  1.72it/s]"
     ]
    },
    {
     "name": "stdout",
     "output_type": "stream",
     "text": [
      "Lỗi khi xử lý https://mogi.vn/quan-thanh-xuan/mua-nha-hem-ngo/nha-phan-lo-nguy-nhu-kom-tum-75m-6-tang-thang-may-rong-5m-15-ty-id22482865: HTTPSConnectionPool(host='mogi.vn', port=443): Max retries exceeded with url: /quan-thanh-xuan/mua-nha-hem-ngo/nha-phan-lo-nguy-nhu-kom-tum-75m-6-tang-thang-may-rong-5m-15-ty-id22482865 (Caused by ConnectTimeoutError(<urllib3.connection.HTTPSConnection object at 0x000002691BEB46B0>, 'Connection to mogi.vn timed out. (connect timeout=10)'))\n",
      "Lỗi khi xử lý https://mogi.vn/quan-hai-ba-trung/mua-nha-hem-ngo/ban-nha-tran-dai-nghia-phan-lo-via-he-o-to-kinh-doanh-75m2-5t-mt5m-id22232871: HTTPSConnectionPool(host='mogi.vn', port=443): Max retries exceeded with url: /quan-hai-ba-trung/mua-nha-hem-ngo/ban-nha-tran-dai-nghia-phan-lo-via-he-o-to-kinh-doanh-75m2-5t-mt5m-id22232871 (Caused by ConnectTimeoutError(<urllib3.connection.HTTPSConnection object at 0x000002691C43E1B0>, 'Connection to mogi.vn timed out. (connect timeout=10)'))\n",
      "Lỗi khi xử lý https://mogi.vn/quan-dong-da/mua-nha-hem-ngo/ban-nha-xa-dan-dong-da-o-to-tranh-10m-o-ngay-55m2-4t-mt4m-gia-id22192069: HTTPSConnectionPool(host='mogi.vn', port=443): Max retries exceeded with url: /quan-dong-da/mua-nha-hem-ngo/ban-nha-xa-dan-dong-da-o-to-tranh-10m-o-ngay-55m2-4t-mt4m-gia-id22192069 (Caused by ConnectTimeoutError(<urllib3.connection.HTTPSConnection object at 0x000002691C43DAC0>, 'Connection to mogi.vn timed out. (connect timeout=10)'))\n"
     ]
    },
    {
     "name": "stderr",
     "output_type": "stream",
     "text": [
      "  → Crawl song song:  12%|█▏        | 12/100 [00:12<00:42,  2.09it/s]"
     ]
    },
    {
     "name": "stdout",
     "output_type": "stream",
     "text": [
      "Lỗi khi xử lý https://mogi.vn/quan-hoang-mai/mua-nha-hem-ngo/ban-gap-nha-linh-nam-5-tang-thang-may-110m2-nhinh-12-ty-o-to-ct-40tr-id22534602: HTTPSConnectionPool(host='mogi.vn', port=443): Max retries exceeded with url: /quan-hoang-mai/mua-nha-hem-ngo/ban-gap-nha-linh-nam-5-tang-thang-may-110m2-nhinh-12-ty-o-to-ct-40tr-id22534602 (Caused by ConnectTimeoutError(<urllib3.connection.HTTPSConnection object at 0x000002691C43CB60>, 'Connection to mogi.vn timed out. (connect timeout=10)'))\n"
     ]
    },
    {
     "name": "stderr",
     "output_type": "stream",
     "text": [
      "  → Crawl song song: 100%|██████████| 100/100 [00:29<00:00,  3.42it/s]\n"
     ]
    },
    {
     "name": "stdout",
     "output_type": "stream",
     "text": [
      " ✅ Đã lưu batch 129/161 (90 bản ghi).\n",
      "\n",
      "Đang xử lý batch 130/161 (100 link)...\n"
     ]
    },
    {
     "name": "stderr",
     "output_type": "stream",
     "text": [
      "  → Crawl song song: 100%|██████████| 100/100 [00:18<00:00,  5.54it/s]\n"
     ]
    },
    {
     "name": "stdout",
     "output_type": "stream",
     "text": [
      " ✅ Đã lưu batch 130/161 (100 bản ghi).\n",
      "\n",
      "Đang xử lý batch 131/161 (100 link)...\n"
     ]
    },
    {
     "name": "stderr",
     "output_type": "stream",
     "text": [
      "  → Crawl song song: 100%|██████████| 100/100 [00:18<00:00,  5.35it/s]\n"
     ]
    },
    {
     "name": "stdout",
     "output_type": "stream",
     "text": [
      " ✅ Đã lưu batch 131/161 (100 bản ghi).\n",
      "\n",
      "Đang xử lý batch 132/161 (100 link)...\n"
     ]
    },
    {
     "name": "stderr",
     "output_type": "stream",
     "text": [
      "  → Crawl song song: 100%|██████████| 100/100 [00:18<00:00,  5.47it/s]\n"
     ]
    },
    {
     "name": "stdout",
     "output_type": "stream",
     "text": [
      " ✅ Đã lưu batch 132/161 (100 bản ghi).\n",
      "\n",
      "Đang xử lý batch 133/161 (100 link)...\n"
     ]
    },
    {
     "name": "stderr",
     "output_type": "stream",
     "text": [
      "  → Crawl song song: 100%|██████████| 100/100 [00:26<00:00,  3.80it/s]"
     ]
    },
    {
     "name": "stdout",
     "output_type": "stream",
     "text": [
      "Lỗi khi xử lý https://mogi.vn/quan-ha-dong/mua-nha-biet-thu-lien-ke/ban-nha-lien-ke-van-khe-83m2-x-5-tang-x-5m-phan-lo-o-to-tranh-kinh-id22518381: HTTPSConnectionPool(host='mogi.vn', port=443): Max retries exceeded with url: /quan-ha-dong/mua-nha-biet-thu-lien-ke/ban-nha-lien-ke-van-khe-83m2-x-5-tang-x-5m-phan-lo-o-to-tranh-kinh-id22518381 (Caused by ConnectTimeoutError(<urllib3.connection.HTTPSConnection object at 0x000002691BF81CD0>, 'Connection to mogi.vn timed out. (connect timeout=10)'))\n",
      " ✅ Đã lưu batch 133/161 (99 bản ghi).\n"
     ]
    },
    {
     "name": "stderr",
     "output_type": "stream",
     "text": [
      "\n"
     ]
    },
    {
     "name": "stdout",
     "output_type": "stream",
     "text": [
      "\n",
      "Đang xử lý batch 134/161 (100 link)...\n"
     ]
    },
    {
     "name": "stderr",
     "output_type": "stream",
     "text": [
      "  → Crawl song song: 100%|██████████| 100/100 [00:19<00:00,  5.13it/s]\n"
     ]
    },
    {
     "name": "stdout",
     "output_type": "stream",
     "text": [
      " ✅ Đã lưu batch 134/161 (100 bản ghi).\n",
      "\n",
      "Đang xử lý batch 135/161 (100 link)...\n"
     ]
    },
    {
     "name": "stderr",
     "output_type": "stream",
     "text": [
      "  → Crawl song song: 100%|██████████| 100/100 [00:19<00:00,  5.17it/s]\n"
     ]
    },
    {
     "name": "stdout",
     "output_type": "stream",
     "text": [
      " ✅ Đã lưu batch 135/161 (100 bản ghi).\n",
      "\n",
      "Đang xử lý batch 136/161 (100 link)...\n"
     ]
    },
    {
     "name": "stderr",
     "output_type": "stream",
     "text": [
      "  → Crawl song song: 100%|██████████| 100/100 [00:18<00:00,  5.43it/s]\n"
     ]
    },
    {
     "name": "stdout",
     "output_type": "stream",
     "text": [
      " ✅ Đã lưu batch 136/161 (100 bản ghi).\n",
      "\n",
      "Đang xử lý batch 137/161 (100 link)...\n"
     ]
    },
    {
     "name": "stderr",
     "output_type": "stream",
     "text": [
      "  → Crawl song song: 100%|██████████| 100/100 [00:19<00:00,  5.09it/s]\n"
     ]
    },
    {
     "name": "stdout",
     "output_type": "stream",
     "text": [
      " ✅ Đã lưu batch 137/161 (100 bản ghi).\n",
      "\n",
      "Đang xử lý batch 138/161 (100 link)...\n"
     ]
    },
    {
     "name": "stderr",
     "output_type": "stream",
     "text": [
      "  → Crawl song song: 100%|██████████| 100/100 [00:19<00:00,  5.25it/s]\n"
     ]
    },
    {
     "name": "stdout",
     "output_type": "stream",
     "text": [
      " ✅ Đã lưu batch 138/161 (100 bản ghi).\n",
      "\n",
      "Đang xử lý batch 139/161 (100 link)...\n"
     ]
    },
    {
     "name": "stderr",
     "output_type": "stream",
     "text": [
      "  → Crawl song song: 100%|██████████| 100/100 [00:18<00:00,  5.34it/s]\n"
     ]
    },
    {
     "name": "stdout",
     "output_type": "stream",
     "text": [
      " ✅ Đã lưu batch 139/161 (100 bản ghi).\n",
      "\n",
      "Đang xử lý batch 140/161 (100 link)...\n"
     ]
    },
    {
     "name": "stderr",
     "output_type": "stream",
     "text": [
      "  → Crawl song song: 100%|██████████| 100/100 [00:19<00:00,  5.12it/s]\n"
     ]
    },
    {
     "name": "stdout",
     "output_type": "stream",
     "text": [
      " ✅ Đã lưu batch 140/161 (100 bản ghi).\n",
      "\n",
      "Đang xử lý batch 141/161 (100 link)...\n"
     ]
    },
    {
     "name": "stderr",
     "output_type": "stream",
     "text": [
      "  → Crawl song song: 100%|██████████| 100/100 [00:18<00:00,  5.45it/s]\n"
     ]
    },
    {
     "name": "stdout",
     "output_type": "stream",
     "text": [
      " ✅ Đã lưu batch 141/161 (100 bản ghi).\n",
      "\n",
      "Đang xử lý batch 142/161 (100 link)...\n"
     ]
    },
    {
     "name": "stderr",
     "output_type": "stream",
     "text": [
      "  → Crawl song song: 100%|██████████| 100/100 [00:18<00:00,  5.40it/s]\n"
     ]
    },
    {
     "name": "stdout",
     "output_type": "stream",
     "text": [
      " ✅ Đã lưu batch 142/161 (100 bản ghi).\n",
      "\n",
      "Đang xử lý batch 143/161 (100 link)...\n"
     ]
    },
    {
     "name": "stderr",
     "output_type": "stream",
     "text": [
      "  → Crawl song song:  78%|███████▊  | 78/100 [00:15<00:03,  6.07it/s]"
     ]
    },
    {
     "name": "stdout",
     "output_type": "stream",
     "text": [
      "Lỗi khi xử lý https://mogi.vn/quan-ha-dong/mua-nha-hem-ngo/can-ban-nha-xay-doc-lap-pho-van-phuc-ha-dong-40m2-5t-gia-chi-4-15-ty-id21913573: HTTPSConnectionPool(host='mogi.vn', port=443): Max retries exceeded with url: /quan-ha-dong/mua-nha-hem-ngo/can-ban-nha-xay-doc-lap-pho-van-phuc-ha-dong-40m2-5t-gia-chi-4-15-ty-id21913573 (Caused by ConnectTimeoutError(<urllib3.connection.HTTPSConnection object at 0x000002691C4A9250>, 'Connection to mogi.vn timed out. (connect timeout=10)'))\n"
     ]
    },
    {
     "name": "stderr",
     "output_type": "stream",
     "text": [
      "  → Crawl song song: 100%|██████████| 100/100 [00:19<00:00,  5.21it/s]\n"
     ]
    },
    {
     "name": "stdout",
     "output_type": "stream",
     "text": [
      " ✅ Đã lưu batch 143/161 (99 bản ghi).\n",
      "\n",
      "Đang xử lý batch 144/161 (100 link)...\n"
     ]
    },
    {
     "name": "stderr",
     "output_type": "stream",
     "text": [
      "  → Crawl song song: 100%|██████████| 100/100 [00:18<00:00,  5.35it/s]\n"
     ]
    },
    {
     "name": "stdout",
     "output_type": "stream",
     "text": [
      " ✅ Đã lưu batch 144/161 (100 bản ghi).\n",
      "\n",
      "Đang xử lý batch 145/161 (100 link)...\n"
     ]
    },
    {
     "name": "stderr",
     "output_type": "stream",
     "text": [
      "  → Crawl song song: 100%|██████████| 100/100 [00:18<00:00,  5.44it/s]\n"
     ]
    },
    {
     "name": "stdout",
     "output_type": "stream",
     "text": [
      " ✅ Đã lưu batch 145/161 (100 bản ghi).\n",
      "\n",
      "Đang xử lý batch 146/161 (100 link)...\n"
     ]
    },
    {
     "name": "stderr",
     "output_type": "stream",
     "text": [
      "  → Crawl song song: 100%|██████████| 100/100 [00:18<00:00,  5.49it/s]\n"
     ]
    },
    {
     "name": "stdout",
     "output_type": "stream",
     "text": [
      " ✅ Đã lưu batch 146/161 (100 bản ghi).\n",
      "\n",
      "Đang xử lý batch 147/161 (100 link)...\n"
     ]
    },
    {
     "name": "stderr",
     "output_type": "stream",
     "text": [
      "  → Crawl song song: 100%|██████████| 100/100 [00:18<00:00,  5.52it/s]\n"
     ]
    },
    {
     "name": "stdout",
     "output_type": "stream",
     "text": [
      " ✅ Đã lưu batch 147/161 (100 bản ghi).\n",
      "\n",
      "Đang xử lý batch 148/161 (100 link)...\n"
     ]
    },
    {
     "name": "stderr",
     "output_type": "stream",
     "text": [
      "  → Crawl song song: 100%|██████████| 100/100 [00:19<00:00,  5.25it/s]\n"
     ]
    },
    {
     "name": "stdout",
     "output_type": "stream",
     "text": [
      " ✅ Đã lưu batch 148/161 (100 bản ghi).\n",
      "\n",
      "Đang xử lý batch 149/161 (100 link)...\n"
     ]
    },
    {
     "name": "stderr",
     "output_type": "stream",
     "text": [
      "  → Crawl song song: 100%|██████████| 100/100 [00:20<00:00,  4.99it/s]\n"
     ]
    },
    {
     "name": "stdout",
     "output_type": "stream",
     "text": [
      " ✅ Đã lưu batch 149/161 (100 bản ghi).\n",
      "\n",
      "Đang xử lý batch 150/161 (100 link)...\n"
     ]
    },
    {
     "name": "stderr",
     "output_type": "stream",
     "text": [
      "  → Crawl song song: 100%|██████████| 100/100 [00:17<00:00,  5.65it/s]\n"
     ]
    },
    {
     "name": "stdout",
     "output_type": "stream",
     "text": [
      " ✅ Đã lưu batch 150/161 (100 bản ghi).\n",
      "\n",
      "Đang xử lý batch 151/161 (100 link)...\n"
     ]
    },
    {
     "name": "stderr",
     "output_type": "stream",
     "text": [
      "  → Crawl song song: 100%|██████████| 100/100 [00:17<00:00,  5.65it/s]\n"
     ]
    },
    {
     "name": "stdout",
     "output_type": "stream",
     "text": [
      " ✅ Đã lưu batch 151/161 (100 bản ghi).\n",
      "\n",
      "Đang xử lý batch 152/161 (100 link)...\n"
     ]
    },
    {
     "name": "stderr",
     "output_type": "stream",
     "text": [
      "  → Crawl song song: 100%|██████████| 100/100 [00:17<00:00,  5.59it/s]\n"
     ]
    },
    {
     "name": "stdout",
     "output_type": "stream",
     "text": [
      " ✅ Đã lưu batch 152/161 (100 bản ghi).\n",
      "\n",
      "Đang xử lý batch 153/161 (100 link)...\n"
     ]
    },
    {
     "name": "stderr",
     "output_type": "stream",
     "text": [
      "  → Crawl song song: 100%|██████████| 100/100 [00:18<00:00,  5.50it/s]\n"
     ]
    },
    {
     "name": "stdout",
     "output_type": "stream",
     "text": [
      " ✅ Đã lưu batch 153/161 (100 bản ghi).\n",
      "\n",
      "Đang xử lý batch 154/161 (100 link)...\n"
     ]
    },
    {
     "name": "stderr",
     "output_type": "stream",
     "text": [
      "  → Crawl song song: 100%|██████████| 100/100 [00:18<00:00,  5.42it/s]\n"
     ]
    },
    {
     "name": "stdout",
     "output_type": "stream",
     "text": [
      " ✅ Đã lưu batch 154/161 (100 bản ghi).\n",
      "\n",
      "Đang xử lý batch 155/161 (100 link)...\n"
     ]
    },
    {
     "name": "stderr",
     "output_type": "stream",
     "text": [
      "  → Crawl song song: 100%|██████████| 100/100 [00:17<00:00,  5.60it/s]\n"
     ]
    },
    {
     "name": "stdout",
     "output_type": "stream",
     "text": [
      " ✅ Đã lưu batch 155/161 (100 bản ghi).\n",
      "\n",
      "Đang xử lý batch 156/161 (100 link)...\n"
     ]
    },
    {
     "name": "stderr",
     "output_type": "stream",
     "text": [
      "  → Crawl song song: 100%|██████████| 100/100 [00:18<00:00,  5.40it/s]\n"
     ]
    },
    {
     "name": "stdout",
     "output_type": "stream",
     "text": [
      " ✅ Đã lưu batch 156/161 (100 bản ghi).\n",
      "\n",
      "Đang xử lý batch 157/161 (100 link)...\n"
     ]
    },
    {
     "name": "stderr",
     "output_type": "stream",
     "text": [
      "  → Crawl song song: 100%|██████████| 100/100 [00:17<00:00,  5.77it/s]\n"
     ]
    },
    {
     "name": "stdout",
     "output_type": "stream",
     "text": [
      " ✅ Đã lưu batch 157/161 (100 bản ghi).\n",
      "\n",
      "Đang xử lý batch 158/161 (100 link)...\n"
     ]
    },
    {
     "name": "stderr",
     "output_type": "stream",
     "text": [
      "  → Crawl song song: 100%|██████████| 100/100 [00:18<00:00,  5.43it/s]\n"
     ]
    },
    {
     "name": "stdout",
     "output_type": "stream",
     "text": [
      " ✅ Đã lưu batch 158/161 (100 bản ghi).\n",
      "\n",
      "Đang xử lý batch 159/161 (100 link)...\n"
     ]
    },
    {
     "name": "stderr",
     "output_type": "stream",
     "text": [
      "  → Crawl song song: 100%|██████████| 100/100 [00:21<00:00,  4.63it/s]\n"
     ]
    },
    {
     "name": "stdout",
     "output_type": "stream",
     "text": [
      " ✅ Đã lưu batch 159/161 (100 bản ghi).\n",
      "\n",
      "Đang xử lý batch 160/161 (100 link)...\n"
     ]
    },
    {
     "name": "stderr",
     "output_type": "stream",
     "text": [
      "  → Crawl song song: 100%|██████████| 100/100 [00:19<00:00,  5.22it/s]\n"
     ]
    },
    {
     "name": "stdout",
     "output_type": "stream",
     "text": [
      " ✅ Đã lưu batch 160/161 (100 bản ghi).\n",
      "\n",
      "Đang xử lý batch 161/161 (80 link)...\n"
     ]
    },
    {
     "name": "stderr",
     "output_type": "stream",
     "text": [
      "  → Crawl song song: 100%|██████████| 80/80 [00:14<00:00,  5.35it/s]\n"
     ]
    },
    {
     "name": "stdout",
     "output_type": "stream",
     "text": [
      " ✅ Đã lưu batch 161/161 (80 bản ghi).\n",
      "\n",
      " Hoàn thành! Dữ liệu đã lưu vào batdongsan_nhadat.csv\n"
     ]
    }
   ],
   "source": [
    "# -------------------------------\n",
    "# Cấu hình\n",
    "# -------------------------------\n",
    "BATCH_SIZE = 100\n",
    "INPUT_FILE = 'mogi_links.csv'\n",
    "OUTPUT_FILE = 'batdongsan_nhadat.csv'\n",
    "MAX_WORKERS = 10  # số luồng song song (10 là hợp lý)\n",
    "\n",
    "# -------------------------------\n",
    "# Đọc danh sách link\n",
    "# -------------------------------\n",
    "Link_list = []\n",
    "with open(INPUT_FILE, 'r', encoding='utf-8') as f:\n",
    "    reader = csv.DictReader(f)\n",
    "    for row in reader:\n",
    "        link = row.get('link')\n",
    "        if link:\n",
    "            Link_list.append(link)\n",
    "\n",
    "print(f\"Đã đọc {len(Link_list)} link từ file {INPUT_FILE}.\")\n",
    "\n",
    "# -------------------------------\n",
    "# Hàm xử lý 1 link (được chạy song song)\n",
    "# -------------------------------\n",
    "def crawl_one(link):\n",
    "    try:\n",
    "        time.sleep(random.uniform(0.5, 1.5))  # tránh spam server\n",
    "        res = requests.get(link, timeout=10)\n",
    "        if res.status_code != 200:\n",
    "            return None\n",
    "\n",
    "        soup = BeautifulSoup(res.text, \"html.parser\")\n",
    "        data = {}\n",
    "\n",
    "        price = soup.find('div', class_=\"price\")\n",
    "        address = soup.find('div', class_=\"address\")\n",
    "        infos = soup.find_all(\"div\", class_=\"info-attr clearfix\")\n",
    "\n",
    "        data['price'] = price.get_text(strip=True) if price else None\n",
    "        data['address'] = address.get_text(strip=True) if address else None\n",
    "\n",
    "        for info in infos:\n",
    "            span = info.find_all('span')\n",
    "            if len(span) >= 2:\n",
    "                key = span[0].get_text(strip=True)\n",
    "                value = span[1].get_text(strip=True)\n",
    "                data[key] = value\n",
    "\n",
    "        return data\n",
    "    except Exception as e:\n",
    "        print(f\"Lỗi khi xử lý {link}: {e}\")\n",
    "        return None\n",
    "\n",
    "# -------------------------------\n",
    "# Hàm xử lý 1 batch (đa luồng)\n",
    "# -------------------------------\n",
    "def process_batch(batch_links):\n",
    "    batch_data = []\n",
    "    with ThreadPoolExecutor(max_workers=MAX_WORKERS) as executor:\n",
    "        futures = {executor.submit(crawl_one, link): link for link in batch_links}\n",
    "        for future in tqdm(as_completed(futures), total=len(batch_links), desc=\"  → Crawl song song\"):\n",
    "            result = future.result()\n",
    "            if result:\n",
    "                batch_data.append(result)\n",
    "    return batch_data\n",
    "\n",
    "# -------------------------------\n",
    "# Ghi dữ liệu theo batch\n",
    "# -------------------------------\n",
    "write_header = not os.path.exists(OUTPUT_FILE) or os.path.getsize(OUTPUT_FILE) == 0\n",
    "fieldnames = set()\n",
    "\n",
    "total_batches = (len(Link_list) + BATCH_SIZE - 1) // BATCH_SIZE\n",
    "for batch_index in range(total_batches):\n",
    "    start = batch_index * BATCH_SIZE\n",
    "    end = start + BATCH_SIZE\n",
    "    batch_links = Link_list[start:end]\n",
    "\n",
    "    print(f\"\\nĐang xử lý batch {batch_index + 1}/{total_batches} ({len(batch_links)} link)...\")\n",
    "\n",
    "    batch_data = process_batch(batch_links)\n",
    "\n",
    "    # Cập nhật fieldnames\n",
    "    for d in batch_data:\n",
    "        fieldnames.update(d.keys())\n",
    "\n",
    "    with open(OUTPUT_FILE, 'a', newline='', encoding='utf-8') as f:\n",
    "        writer = csv.DictWriter(f, fieldnames=list(fieldnames))\n",
    "        if write_header:\n",
    "            writer.writeheader()\n",
    "            write_header = False\n",
    "        writer.writerows(batch_data)\n",
    "\n",
    "    print(f\" ✅ Đã lưu batch {batch_index + 1}/{total_batches} ({len(batch_data)} bản ghi).\")\n",
    "    time.sleep(random.uniform(3, 5))  # nghỉ giữa các batch\n",
    "\n",
    "print(\"\\n Hoàn thành! Dữ liệu đã lưu vào\", OUTPUT_FILE)"
   ]
  }
 ],
 "metadata": {
  "kernelspec": {
   "display_name": "etl-data-pipeline-on-google-cloud-main-8hH1T_82-py3.12",
   "language": "python",
   "name": "python3"
  },
  "language_info": {
   "codemirror_mode": {
    "name": "ipython",
    "version": 3
   },
   "file_extension": ".py",
   "mimetype": "text/x-python",
   "name": "python",
   "nbconvert_exporter": "python",
   "pygments_lexer": "ipython3",
   "version": "3.12.0"
  }
 },
 "nbformat": 4,
 "nbformat_minor": 5
}
