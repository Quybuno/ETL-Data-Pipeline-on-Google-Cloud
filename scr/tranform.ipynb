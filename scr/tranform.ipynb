{
 "cells": [
  {
   "cell_type": "code",
   "execution_count": null,
   "id": "748e6bc9",
   "metadata": {},
   "outputs": [],
   "source": [
    "import pandas as pd\n",
    "import numpy as np\n",
    "from datetime import datetime\n",
    "# Optional: for better display of dataframes\n",
    "pd.set_option('display.max_columns', None)\n",
    "pd.set_option('display.max_rows', 10)"
   ]
  },
  {
   "cell_type": "code",
   "execution_count": null,
   "id": "a3e1d7d1",
   "metadata": {},
   "outputs": [
    {
     "name": "stdout",
     "output_type": "stream",
     "text": [
      "Các cột hiện có trong file CSV:\n",
      "['Diện tích sử dụng', 'address', 'Phòng ngủ', 'Nhà tắm', 'Mã BĐS', 'Diện tích đất', 'price', 'Ngày đăng', 'Pháp lý']\n",
      "\n",
      "Mẫu dữ liệu gốc:\n",
      "  Diện tích sử dụng                                            address  \\\n",
      "0               NaN   Bát Khối, Phường Cự Khối, Quận Long Biên, Hà Nội   \n",
      "1               NaN  Cổ Linh, Phường Thạch Bàn, Quận Long Biên, Hà Nội   \n",
      "2               NaN  Cổ Linh, Phường Thạch Bàn, Quận Long Biên, Hà Nội   \n",
      "3               NaN  Thạch Bàn, Phường Thạch Bàn, Quận Long Biên, H...   \n",
      "4               NaN  Thạch Bàn, Phường Thạch Bàn, Quận Long Biên, H...   \n",
      "\n",
      "   Phòng ngủ  Nhà tắm    Mã BĐS  Diện tích đất           price   Ngày đăng  \\\n",
      "0        3.0      2.0  22467114     31 m2(5x6)  2 tỷ 600 triệu  16/10/2025   \n",
      "1        3.0      3.0  22368671   32 m2(3,6x9)  3 tỷ 280 triệu  16/10/2025   \n",
      "2        3.0      2.0  22262851  38 m2(3,3x13)  2 tỷ 700 triệu  16/10/2025   \n",
      "3        3.0      4.0  21901819     33 m2(4x8)  2 tỷ 850 triệu  16/10/2025   \n",
      "4        3.0      4.0  22499347     30 m2(4x8)  3 tỷ 800 triệu  16/10/2025   \n",
      "\n",
      "  Pháp lý  \n",
      "0   Sổ đỏ  \n",
      "1   Sổ đỏ  \n",
      "2   Sổ đỏ  \n",
      "3   Sổ đỏ  \n",
      "4   Sổ đỏ  \n",
      "\n",
      "DataFrame sau khi sắp xếp lại (5 dòng đầu):\n",
      "                                             dia_chi           price\n",
      "0   Bát Khối, Phường Cự Khối, Quận Long Biên, Hà Nội  2 tỷ 600 triệu\n",
      "1  Cổ Linh, Phường Thạch Bàn, Quận Long Biên, Hà Nội  3 tỷ 280 triệu\n",
      "2  Cổ Linh, Phường Thạch Bàn, Quận Long Biên, Hà Nội  2 tỷ 700 triệu\n",
      "3  Thạch Bàn, Phường Thạch Bàn, Quận Long Biên, H...  2 tỷ 850 triệu\n",
      "4  Thạch Bàn, Phường Thạch Bàn, Quận Long Biên, H...  3 tỷ 800 triệu\n"
     ]
    }
   ],
   "source": [
    "import pandas as pd\n",
    "\n",
    "# Đọc file CSV gốc\n",
    "df = pd.read_csv(\"batdongsan.csv\", encoding=\"utf-8\")\n",
    "\n",
    "# Đổi thứ tự các cột (header và dữ liệu đi cùng nhau)\n",
    "df = df[[\n",
    "    \"Mã BĐS\",\n",
    "    \"Diện tích đất\",\n",
    "    \"Diện tích sử dụng\",\n",
    "    \"Phòng ngủ\",\n",
    "    \"Nhà tắm\",\n",
    "    \"address\",\n",
    "    \"price\",\n",
    "    \"Ngày đăng\",\n",
    "    \"Pháp lý\"\n",
    "]]\n",
    "\n",
    "# Ghi đè lại chính file cũ\n",
    "df.to_csv(\"batdongsan.csv\", index=False, encoding=\"utf-8\")\n"
   ]
  }
 ],
 "metadata": {
  "kernelspec": {
   "display_name": "etl-data-pipeline-on-google-cloud-main-8hH1T_82-py3.12",
   "language": "python",
   "name": "python3"
  },
  "language_info": {
   "codemirror_mode": {
    "name": "ipython",
    "version": 3
   },
   "file_extension": ".py",
   "mimetype": "text/x-python",
   "name": "python",
   "nbconvert_exporter": "python",
   "pygments_lexer": "ipython3",
   "version": "3.12.0"
  }
 },
 "nbformat": 4,
 "nbformat_minor": 5
}
