{
 "cells": [
  {
   "cell_type": "code",
   "execution_count": 2,
   "id": "65a7fa59",
   "metadata": {},
   "outputs": [],
   "source": [
    "import requests\n",
    "from bs4 import BeautifulSoup\n",
    "import time\n",
    "import random\n",
    "import pandas as pd"
   ]
  },
  {
   "cell_type": "code",
   "execution_count": null,
   "id": "a547d550",
   "metadata": {},
   "outputs": [],
   "source": [
    "base_url = 'https://mogi.vn/ha-noi/mua-nha-dat'\n",
    "respone = requests.get(base_url)\n"
   ]
  },
  {
   "cell_type": "code",
   "execution_count": 26,
   "id": "fd578e2e",
   "metadata": {},
   "outputs": [
    {
     "name": "stdout",
     "output_type": "stream",
     "text": [
      "Đang cào trang 1: https://mogi.vn/ha-noi/mua-nha-dat?&cp=1\n",
      "Đang cào trang 2: https://mogi.vn/ha-noi/mua-nha-dat?&cp=2\n",
      "Đang cào trang 3: https://mogi.vn/ha-noi/mua-nha-dat?&cp=3\n",
      "Đang cào trang 4: https://mogi.vn/ha-noi/mua-nha-dat?&cp=4\n",
      "Đang cào trang 5: https://mogi.vn/ha-noi/mua-nha-dat?&cp=5\n",
      "Đang cào trang 6: https://mogi.vn/ha-noi/mua-nha-dat?&cp=6\n",
      "Đang cào trang 7: https://mogi.vn/ha-noi/mua-nha-dat?&cp=7\n",
      "Đang cào trang 8: https://mogi.vn/ha-noi/mua-nha-dat?&cp=8\n",
      "Đang cào trang 9: https://mogi.vn/ha-noi/mua-nha-dat?&cp=9\n",
      "Đang cào trang 10: https://mogi.vn/ha-noi/mua-nha-dat?&cp=10\n",
      "Đang cào trang 11: https://mogi.vn/ha-noi/mua-nha-dat?&cp=11\n",
      "Đang cào trang 12: https://mogi.vn/ha-noi/mua-nha-dat?&cp=12\n",
      "Đang cào trang 13: https://mogi.vn/ha-noi/mua-nha-dat?&cp=13\n",
      "Đang cào trang 14: https://mogi.vn/ha-noi/mua-nha-dat?&cp=14\n",
      "Đang cào trang 15: https://mogi.vn/ha-noi/mua-nha-dat?&cp=15\n",
      "Đang cào trang 16: https://mogi.vn/ha-noi/mua-nha-dat?&cp=16\n",
      "Đang cào trang 17: https://mogi.vn/ha-noi/mua-nha-dat?&cp=17\n",
      "Đang cào trang 18: https://mogi.vn/ha-noi/mua-nha-dat?&cp=18\n",
      "Đang cào trang 19: https://mogi.vn/ha-noi/mua-nha-dat?&cp=19\n",
      "Đang cào trang 20: https://mogi.vn/ha-noi/mua-nha-dat?&cp=20\n"
     ]
    }
   ],
   "source": [
    "Links = []\n",
    "for page in range(1,21):\n",
    "    url = f\"{base_url}?&cp={page}\"\n",
    "    print(f\"Đang cào trang {page}: {url}\")\n",
    "    if response.status_code == 200:\n",
    "        soup = BeautifulSoup(response.content, 'html.parser')\n",
    "\n",
    "        # Tìm tất cả thẻ a có class=\"link-overlay\"\n",
    "        links = soup.find_all('a', class_='link-overlay')\n",
    "\n",
    "        # In ra href của từng thẻ\n",
    "        for link in links:\n",
    "            href = link.get('href')\n",
    "            Links.append(href)\n",
    "            # print(href)\n",
    "    else:\n",
    "        print(\"Không thể truy cập trang:\", response.status_code)\n",
    "\n",
    " "
   ]
  },
  {
   "cell_type": "code",
   "execution_count": 61,
   "id": "4a0bfce7",
   "metadata": {},
   "outputs": [
    {
     "name": "stdout",
     "output_type": "stream",
     "text": [
      "Đã lưu dữ liệu vào file batdongsan.csv\n"
     ]
    }
   ],
   "source": [
    "import csv\n",
    "Link_list = []\n",
    "data_list = []\n",
    "with open('mogi_links.csv', 'a', newline='', encoding='utf-8') as f:\n",
    "    writer = csv.writer(f)\n",
    "    writer.writerow(['link'])\n",
    "\n",
    "    for page in range(380, 400):\n",
    "        url = f\"{base_url}?&cp={page}\"\n",
    "        response = requests.get(url)\n",
    "        soup = BeautifulSoup(response.content, \"html.parser\")\n",
    "        links = soup.find_all(\"a\", class_=\"link-overlay\")\n",
    "        for link in links:\n",
    "            href = link.get(\"href\")\n",
    "            if href:\n",
    "                writer.writerow([href])\n",
    "                Link_list.append(href)\n",
    "\n",
    "\n",
    "for link in Link_list:\n",
    "    res = requests.get(link)\n",
    "    if res.status_code == 200:\n",
    "        data = {}\n",
    "        sop = BeautifulSoup(res.text,\"html.parser\")\n",
    "        infos = sop.find_all(\"div\", class_ = \"info-attr clearfix\")\n",
    "        price = sop.find('div',class_ = \"price\")\n",
    "        address = sop.find('div',class_ = \"address\")\n",
    "        data['price'] = price.get_text(strip = True)\n",
    "        data['address'] = address.get_text(strip = True)\n",
    "        for info in infos:\n",
    "            span = info.find_all('span')\n",
    "            if len(span) >= 2:\n",
    "                key = span[0].get_text(strip=True)\n",
    "                value = span[1].get_text(strip=True)\n",
    "                data[key] = value\n",
    "        data_list.append(data)\n",
    "        # time.sleep(random.uniform(1,2))\n",
    "\n",
    "fieldnames = set()\n",
    "for d in data_list:\n",
    "    fieldnames.update(d.keys())\n",
    "fieldnames = list(fieldnames)\n",
    "\n",
    "with open('batdongsan.csv', 'a', newline='', encoding='utf-8') as f:\n",
    "    writer = csv.DictWriter(f, fieldnames=fieldnames)\n",
    "    writer.writeheader()\n",
    "    writer.writerows(data_list)\n",
    "\n",
    "print(\"Đã lưu dữ liệu vào file batdongsan.csv\")"
   ]
  },
  {
   "cell_type": "code",
   "execution_count": 36,
   "id": "feacdbae",
   "metadata": {},
   "outputs": [
    {
     "name": "stdout",
     "output_type": "stream",
     "text": [
      "  Diện tích sử dụng    Mã BĐS           price Pháp lý   Ngày đăng  Nhà tắm  \\\n",
      "0            100 m2  22712100  5 tỷ 800 triệu   Sổ đỏ  15/10/2025      1.0   \n",
      "1             80 m2  22712094  4 tỷ 350 triệu   Sổ đỏ  15/10/2025      2.0   \n",
      "2             90 m2  22711721  4 tỷ 580 triệu   Sổ đỏ  15/10/2025      2.0   \n",
      "3            120 m2  22711722  4 tỷ 700 triệu   Sổ đỏ  15/10/2025      2.0   \n",
      "4            100 m2  22711723  5 tỷ 400 triệu   Sổ đỏ  15/10/2025      2.0   \n",
      "\n",
      "   Phòng ngủ                                            address Diện tích đất  \n",
      "0        2.0  Đại La, Phường Đồng Nhân, Quận Hai Bà Trưng, H...           NaN  \n",
      "1        2.0  Thanh Nhàn, Phường Thanh Nhàn, Quận Hai Bà Trư...           NaN  \n",
      "2        3.0  Nhân Hòa, Phường Nhân Chính, Quận Thanh Xuân, ...           NaN  \n",
      "3        3.0  Thanh Nhàn, Phường Thanh Nhàn, Quận Hai Bà Trư...           NaN  \n",
      "4        3.0  Yên Lạc, Phường Vĩnh Tuy, Quận Hai Bà Trưng, H...           NaN  \n"
     ]
    }
   ],
   "source": [
    "df = pd.read_csv(\"batdongsan.csv\")\n",
    "print(df.head())"
   ]
  },
  {
   "cell_type": "code",
   "execution_count": 58,
   "id": "9db74758",
   "metadata": {},
   "outputs": [
    {
     "name": "stdout",
     "output_type": "stream",
     "text": [
      "Số lượng dòng trùng lặp: 7\n"
     ]
    }
   ],
   "source": [
    "df = pd.read_csv(\"batdongsan.csv\")\n",
    "duplicate = df.duplicated()\n",
    "print(f\"Số lượng dòng trùng lặp: {duplicate.sum()}\")\n"
   ]
  },
  {
   "cell_type": "code",
   "execution_count": null,
   "id": "b17cc2cf",
   "metadata": {},
   "outputs": [
    {
     "name": "stdout",
     "output_type": "stream",
     "text": [
      "Số dòng ban đầu: 4492\n",
      "Số dòng sau khi loại bỏ trùng lặp: 4488\n",
      "Số dòng trùng lặp đã xóa: 4\n",
      "Tỷ lệ trùng lặp: 0.09%\n"
     ]
    }
   ],
   "source": []
  }
 ],
 "metadata": {
  "kernelspec": {
   "display_name": "Python 3",
   "language": "python",
   "name": "python3"
  },
  "language_info": {
   "codemirror_mode": {
    "name": "ipython",
    "version": 3
   },
   "file_extension": ".py",
   "mimetype": "text/x-python",
   "name": "python",
   "nbconvert_exporter": "python",
   "pygments_lexer": "ipython3",
   "version": "3.12.10"
  }
 },
 "nbformat": 4,
 "nbformat_minor": 5
}
